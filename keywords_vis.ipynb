{
 "cells": [
  {
   "cell_type": "markdown",
   "metadata": {
    "colab_type": "text",
    "id": "view-in-github"
   },
   "source": [
    "<a href=\"https://colab.research.google.com/github/ale0xb/keywords-vis/blob/master/keywords_vis.ipynb\" target=\"_parent\"><img src=\"https://colab.research.google.com/assets/colab-badge.svg\" alt=\"Open In Colab\"/></a>"
   ]
  },
  {
   "cell_type": "markdown",
   "metadata": {},
   "source": [
    "# Cross-domain Visual Exploration of Academic Corpora via the Latent Meaning of User-authored Keywords (Full paper --> https://osf.io/h29qv/)\n",
    "## (Alejandro Benito, Roberto Therón) http://vis.usal.es\n",
    "## Abstract\n",
    "Nowadays, scholars dedicate a substantial amount of their work to querying and browsing increasingly large collections \n",
    "of research papers on the Internet. In parallel, the recent surge of novel interdisciplinary approaches in science requires \n",
    "scholars to acquire competencies in new fields for which they may lack the necessary vocabulary to formulate adequate queries. \n",
    "This problem, together with the issue of information overload, poses new challenges in the fields of natural language processing\n",
    "(NLP) and visualization design that call for a rapid response from the scientific community. In this respect, we report on a novel\n",
    "visualization scheme that enables the exploration of research paper collections via the analysis of semantic proximity relationships\n",
    "found in author-assigned keywords. Our proposal replaces traditional string queries by a bag-of-words (BoW) extracted from a \n",
    "user-generated auxiliary corpus that captures the intentionality of the research. Continuing on the line established by previous \n",
    "works, we combine novel advances in the fields of NLP with visual network analysis techniques to offer scholars a perspective of \n",
    "the target corpus that better fits their research needs. To highlight the advantages of our proposal, we conduct two experiments \n",
    "employing a collection of visualization research papers and an auxiliary cross-domain BoW. Here, we showcase how our visualization \n",
    "can be used to maximize the effectiveness of a browsing session by enhancing the language acquisition task, which allows an effective \n",
    "extraction of knowledge that is in line with the users’ previous expectations."
   ]
  },
  {
   "cell_type": "markdown",
   "metadata": {
    "colab_type": "text",
    "id": "QrK3t7nazjHB"
   },
   "source": [
    "## Google Colab only\n",
    "Uncomment the following two cells if you're running this notebook in Google Colab."
   ]
  },
  {
   "cell_type": "code",
   "execution_count": 1,
   "metadata": {
    "colab": {
     "base_uri": "https://localhost:8080/",
     "height": 140
    },
    "colab_type": "code",
    "id": "7hsyeuCEFICk",
    "outputId": "8cd09376-1d2d-4e27-b9fc-56b9f86d4868"
   },
   "outputs": [],
   "source": [
    "#!pip install numpy==1.16.3 scipy==1.2.1 nltk==3.2.5 scikit-learn==0.20.3 iteration_utilities==0.7.0 networkx==2.3"
   ]
  },
  {
   "cell_type": "code",
   "execution_count": 2,
   "metadata": {
    "colab": {
     "base_uri": "https://localhost:8080/",
     "height": 210
    },
    "colab_type": "code",
    "id": "_vmqaBCIoMCb",
    "outputId": "c42fc1b2-bfcf-4c3b-a5ae-8dc847267b96"
   },
   "outputs": [],
   "source": [
    "#!mkdir datasets\n",
    "#!mkdir model\n",
    "#!curl -O https://raw.githubusercontent.com/ale0xb/keywords-vis/master/datasets/dh_papers-complete.json \n",
    "#!curl -O https://raw.githubusercontent.com/ale0xb/keywords-vis/master/datasets/vispubdata_papers-2018-complete.json\n",
    "#!curl -O https://raw.githubusercontent.com/ale0xb/keywords-vis/master/model/all-paths.pkl\n",
    "  \n",
    "#!mv dh_papers-complete.json ./datasets\n",
    "#!mv vispubdata_papers-2018-complete.json ./datasets\n",
    "#!mv all-paths.pkl ./model"
   ]
  },
  {
   "cell_type": "markdown",
   "metadata": {},
   "source": [
    "## Imports"
   ]
  },
  {
   "cell_type": "code",
   "execution_count": 3,
   "metadata": {
    "colab": {
     "base_uri": "https://localhost:8080/",
     "height": 52
    },
    "colab_type": "code",
    "id": "-NQEvyG3FZXF",
    "outputId": "bd747702-e32a-477c-f32c-6b034241bd42"
   },
   "outputs": [
    {
     "name": "stdout",
     "output_type": "stream",
     "text": [
      "[nltk_data] Downloading package stopwords to /Users/alexb/nltk_data...\n",
      "[nltk_data]   Package stopwords is already up-to-date!\n"
     ]
    }
   ],
   "source": [
    "import numpy as np\n",
    "import pandas as pd\n",
    "\n",
    "import nltk\n",
    "from nltk.corpus import stopwords\n",
    "nltk.download('stopwords')\n",
    "stop_words = set(stopwords.words('english'))\n",
    "\n",
    "from nltk.stem.porter import PorterStemmer\n",
    "stemmer = PorterStemmer()\n",
    "\n",
    "\n",
    "import scipy\n",
    "import scipy.sparse as sps\n",
    "from scipy.spatial.distance import pdist, squareform\n",
    "from scipy.spatial import ConvexHull\n",
    "from scipy import stats\n",
    "\n",
    "from collections import Counter\n",
    "\n",
    "\n",
    "from sklearn.preprocessing import normalize\n",
    "\n",
    "\n",
    "\n",
    "import shutil\n",
    "import pickle\n",
    "import itertools\n",
    "import copy\n",
    "from iteration_utilities import flatten\n",
    "import json\n",
    "\n",
    "import networkx as nx\n",
    "from networkx.readwrite import json_graph"
   ]
  },
  {
   "cell_type": "markdown",
   "metadata": {
    "colab_type": "text",
    "id": "POhXhgx7fWxJ"
   },
   "source": [
    "# Stem, unigrams, skipgrams"
   ]
  },
  {
   "cell_type": "markdown",
   "metadata": {
    "colab_type": "text",
    "id": "rwPH8KXjjlFC"
   },
   "source": [
    "# Main method\n",
    "Our document exploration method comprises two main phases: The first involves all the necessary steps to generate a keyword-to-keyword similarity matrix from a latent semantic analysis of the corpus. The second phase focuses on the querying, filtering and visualization of this similarity matrix. As we introduced in previous sections, our method aims to remove the need to provide a textual query to extract knowledge from a given target corpus $C_{t}$ by relying instead on an auxiliary user-generated query corpus $C_{q}$. This distinction allows us to form two bags of words (BoW), formed by the keyword associations found in the query and target corpora, which are used as the two main inputs of our scheme. \n",
    "\n",
    "The query corpus can be freely composed from the user's reference manager or from any other source she or he considers relevant to study. Under this assumption, we expect the user to be familiar with the language of the query dataset whereas the target corpus is to be explored. At the end of the process, our method allows the user to query the target corpus by using keywords exclusive to the query corpus, effectively skipping the need for a language acquisition stage which may be highly time-consuming."
   ]
  },
  {
   "cell_type": "markdown",
   "metadata": {},
   "source": [
    "# Datasets\n",
    "\n",
    "Before we continue to explain our proposed visualization scheme, in this section we comment on two document collections that were employed during our experiments. In the first sections, we discussed some of the problems related to the selection of an appropriate query string during the extraction phase of mapping studies and literature reviews, which we aimed to leverage in this work. To this end, we replace this query string with a bag-of-keywords (BOW) obtained from an auxiliary corpus. This first BOW represents the intentionality of the research; this is, it provides a high-level semantic expression that is representative of the kind of knowledge the researcher is interested in extracting from the target corpus. We construct this hypothetical situation in the context of two inherently interdisciplinary bodies of knowledge, DH and visualization, which we introduce below:\n",
    "\n",
    "## Query Corpus: Digital Humanities Visualization Papers\n",
    "\n",
    "DH is an interdisciplinary area of scholarly on which computational methods are applied in the resolution of research questions related to traditional humanities disciplines such as history, philosophy, linguistics, literature, art, archaeology, music, cultural studies and social sciences. This process usually involves the \"application of developed computational methods\"<cite data-cite=\"5825190/EPG46MXF\"></cite> in a variety of fields of computer science, such as topic modeling, digital mapping, text mining, information retrieval, digital publishing or visualization, in \"novel and unexpected ways\" <cite data-cite=\"5825190/EPG46MXF\"></cite>. Particularly, in recent years visualization has become a hot topic in DH as evidenced by the increasing number of visualization-related submissions to the annual DH conference. \n",
    "\n",
    "This surge has also had an impact on the visualization community, who have turned their attention to the DH as a vibrant new area of application for novel visualization techniques. An excellent example of this recent interest is the Workshop on Visualization for the DH [VIS4DH](http://vis4dh.dbvis.de/), which has taken place as a parallel session to the IEEE Vis Conference since its first edition in 2016. One of the recurrent discussions of this workshop has orbited around the idea of how to produce significant visualization advances in the context of the DH. Whereas visualization techniques have been showcased in a large number of computing problems related to the humanities, some authors have warned of an increasing tendency in the DH visualization community to apply standard visualization techniques (such as force-directed graph layouts or word clouds) to the resolution of intrinsically distinct research questions. This tendency, as these authors note, might be impeding the production of valuable visualization research in the humanities <cite data-cite=\"5825190/SFVYGKHS\"></cite> <cite data-cite=\"5825190/GGZM7TH4\"></cite> and therefore they stress the need to incorporate appropriate methodologies and evaluation techniques into the design process of the humanities.\n",
    "\n",
    "### Description\n",
    "According to the context presented in the previous paragraphs, the first dataset was constructed from metadata describing papers published in the DH conferences between years 2015-2018 <cite data-cite=\"5825190/2GKEGQL9\"></cite>. Given the broad range of themes present in this conference, we limited our search to papers that fell in the domain of visualization, i.e., papers that contained the word \"visualization\" either on its title, subject or any of its keywords. We also completed this data with author keywords associations extracted from papers presented at the three editions of the Workshops on Visualization for the DH between years 2016-2018. This composition ensures that we have a varied and rich BoW to query a larger, general-purpose target corpus. \n",
    "\n",
    "**The humanities-visualization dataset accounts for 257 documents, containing 728 unique keywords that appear a total of 1131 times, which gives an average of 4.40 keywords per paper.**\n"
   ]
  },
  {
   "cell_type": "code",
   "execution_count": 4,
   "metadata": {},
   "outputs": [],
   "source": [
    "dh_papers = json.loads(open('./datasets/dh_papers-complete.json').read())"
   ]
  },
  {
   "cell_type": "markdown",
   "metadata": {},
   "source": [
    "## Target Corpus: Data Visualization Research Papers\n",
    "The second document collection is related to the general topic of visualization. Visualization is a major research theme in computer science that relates to the generation of graphics, diagrams, images and animations that help to enhance the comprehensibility of the underlying data and computational algorithms at play in a broad range of computer-related domains. For these reasons, visualization research papers provide a rich and variate set of keyword associations to explore and to connect to other different knowledge domains (e.g. the humanities).\n",
    "The dataset comprises of meta-data from more than 3000 research papers presented at the IEEE Visualization set of conferences: InfoVis, SciVis, VAST and Vis from 1990-2018 and it was recently compiled by a group of experts in visualization <cite data-cite=\"5825190/NKZVXPYC\"></cite>. The dataset is publicly accessible https://vispubdata.org and actively maintained and updated by its authors. Data visualization research papers represent a rich corpus with multiple connections to other fields of modern science such as astronomy, sports, humanities, biology and machine learning, among others. \n",
    "\n",
    "**To date, the dataset contains 3102 research papers, of which 2123 contain author keywords. The number of unique keywords in this dataset is 5108, appearing a total of 9877 times, which results in an average of 4.64 keywords per paper.**"
   ]
  },
  {
   "cell_type": "code",
   "execution_count": 5,
   "metadata": {},
   "outputs": [],
   "source": [
    "vis_papers = json.loads(open('./datasets/vispubdata_papers-2018-complete.json').read())"
   ]
  },
  {
   "cell_type": "markdown",
   "metadata": {
    "colab_type": "text",
    "id": "UIeols4kktE0"
   },
   "source": [
    "## Preprocessing\n",
    "Prior application of the semantic model to our data, we perform tokenization and stemming on the author-assigned keywords. In the tokenization process we split each multi-term keyword into its constituent parts, which are then stemmed and ultimately added to the BoW. Note that tokens appearing twice or more in the same document were counted as one. \n",
    "\n",
    "We noticed that in our case the inclusion of these two word pre-processing techniques was highly beneficial for the following reasons: The first and most obvious is that it provides an automated manner to match a high number of different linguistic keyword variations of the same concept (e.g. singular and plural), a circumstance that, unlike it occurs in keyword taxonomies, can be observed in uncontrolled keywords due to their closer proximity to natural language. Second, it allows the detection and subsequent removal of embedded stop words: this is, words that do not carry any real meaning in the context of the collection and that might not appear on their own in the corpus. \n",
    "\n",
    "Take for example the multi-term keywords _\"visual document analysis\"_ and _\"visual citation analysis\"_: Although at a high level these two concepts are clearly related (because they represent two specializations of visual analysis), making a more clear distinction between them might not be immediately obvious if they are found in a corpus related to visual analytics. In this case, the particles \"visual\" and \"analysis\" can be interpreted as noise because they do not add value to our understanding of the contents of the corpus. On the other hand, all three particles could carry important significance in other contexts."
   ]
  },
  {
   "cell_type": "code",
   "execution_count": 6,
   "metadata": {
    "colab": {},
    "colab_type": "code",
    "id": "jp0CmAOpPALW"
   },
   "outputs": [],
   "source": [
    "def remove_duplicates(seq):\n",
    "    seen = set()\n",
    "    seen_add = seen.add\n",
    "    return [x for x in seq if not (x in seen or seen_add(x))]\n",
    "  \n",
    "def stem_keywords(keywords):\n",
    "    terms_dict = {}\n",
    "    keywords_stemmed = []\n",
    "    stems_dictionary = {}\n",
    "    stems_dictionary_inv = {}\n",
    "\n",
    "    for doc in keywords:\n",
    "        doc_stemmed = []\n",
    "        for k in doc:\n",
    "            for tok in k.split():\n",
    "                if tok in stop_words:\n",
    "                    continue\n",
    "        \n",
    "                stem_tok = stemmer.stem(tok)\n",
    "\n",
    "                if stem_tok in stop_stems:\n",
    "                    continue\n",
    "                    \n",
    "                if stem_tok not in stems_dictionary:\n",
    "                    stems_dictionary[stem_tok] = [tok]\n",
    "                elif tok not in stems_dictionary[stem_tok]:\n",
    "                    stems_dictionary[stem_tok].append(tok)\n",
    "          \n",
    "                if k not in stems_dictionary_inv:\n",
    "                    stems_dictionary_inv[tok] = [stem_tok]\n",
    "                elif stem_tok not in stems_dictionary_inv[tok]:\n",
    "                    stems_dictionary_inv[tok].append(stem_tok)\n",
    "\n",
    "                doc_stemmed.append(stem_tok)\n",
    "        keywords_stemmed.append(remove_duplicates(doc_stemmed))\n",
    "\n",
    "    return(keywords_stemmed, stems_dictionary, stems_dictionary_inv)"
   ]
  },
  {
   "cell_type": "code",
   "execution_count": 7,
   "metadata": {
    "colab": {},
    "colab_type": "code",
    "id": "4pVRcur6Qu_g"
   },
   "outputs": [],
   "source": [
    "def trace_stem(keyword_stem):\n",
    "    if keyword_stem in trace_stem.intersection_keywords_set:\n",
    "        return 'link'\n",
    "    elif keyword_stem in trace_stem.source_keywords_set:\n",
    "        return 'query'\n",
    "    elif keyword_stem in trace_stem.dest_keywords_set:\n",
    "        return 'target'\n",
    "    else:\n",
    "        raise RuntimeError('Error: keyword %s could not be traced' % keyword_stem)"
   ]
  },
  {
   "cell_type": "code",
   "execution_count": 8,
   "metadata": {
    "colab": {},
    "colab_type": "code",
    "id": "vR-Y60pIGX9K"
   },
   "outputs": [],
   "source": [
    "def trace_color(word, font_size, position, orientation, random_state=None, **kwargs):\n",
    "    trace = trace_stem(stemmer.stem(word))\n",
    "    if trace == 'query':\n",
    "        trace_color = '#d95f02'\n",
    "    elif trace == 'link':\n",
    "        trace_color = '#7570b3'\n",
    "    else:\n",
    "        trace_color = '#1b9e77'\n",
    "    return trace_color"
   ]
  },
  {
   "cell_type": "code",
   "execution_count": 9,
   "metadata": {
    "colab": {},
    "colab_type": "code",
    "id": "NZY7KdbZtrO-"
   },
   "outputs": [],
   "source": [
    "stop_stems = ['visual', 'digit', 'human', 'humanit', 'humanist']"
   ]
  },
  {
   "cell_type": "code",
   "execution_count": 10,
   "metadata": {
    "colab": {
     "base_uri": "https://localhost:8080/",
     "height": 52
    },
    "colab_type": "code",
    "id": "Bq2kZOvEt8Is",
    "outputId": "8bfdb7a7-9068-4300-fe32-61e5034e4b43"
   },
   "outputs": [
    {
     "name": "stdout",
     "output_type": "stream",
     "text": [
      "There are 257 source documents and 2123 destination documents\n",
      "Vocabulary size is 2720: 257 source stems, 320 intersection stems and 2143 destination stems\n"
     ]
    }
   ],
   "source": [
    "dh_papers_offset = len(dh_papers) - 1\n",
    "dh_keywords = [t['keywords'] for t in dh_papers]\n",
    "vis_keywords = [t['keywords'] for t in vis_papers]\n",
    "\n",
    "all_papers = dh_papers + vis_papers\n",
    "\n",
    "keywords = dh_keywords + vis_keywords\n",
    "keywords_flat = list(flatten(keywords))\n",
    "\n",
    "\n",
    "dh_docs_stemmed, dh_stems_dictionary, dh_stems_dictionary_inv = stem_keywords(dh_keywords)\n",
    "vis_docs_stemmed, vis_stems_dictionary, vis_stems_dictionary_inv = stem_keywords(vis_keywords)\n",
    "\n",
    "keywords_stemmed = dh_docs_stemmed + vis_docs_stemmed\n",
    "\n",
    "stems_dictionary = {}\n",
    "for key in (dh_stems_dictionary.keys() | vis_stems_dictionary.keys()):\n",
    "    if key in dh_stems_dictionary: stems_dictionary.setdefault(key, []).append(dh_stems_dictionary[key])\n",
    "    if key in vis_stems_dictionary: stems_dictionary.setdefault(key, []).append(vis_stems_dictionary[key])\n",
    "\n",
    "\n",
    "for k,v in stems_dictionary.copy().items():\n",
    "    stems_dictionary[k] = remove_duplicates(list(flatten(v)))\n",
    "  \n",
    "  \n",
    "stems_dictionary_inv = {**dh_stems_dictionary_inv, **vis_stems_dictionary_inv}\n",
    "\n",
    "\n",
    "\n",
    "source_keywords_set = remove_duplicates(list(flatten(dh_docs_stemmed)))\n",
    "dest_keywords_set = remove_duplicates(list(flatten(vis_docs_stemmed)))\n",
    "\n",
    "\n",
    "intersection_keywords_set = [k for k in source_keywords_set if k in dest_keywords_set]\n",
    "\n",
    "source_keywords_set = [k for k in source_keywords_set if k not in intersection_keywords_set]\n",
    "dest_keywords_set = [k for k in dest_keywords_set if k not in intersection_keywords_set]\n",
    "\n",
    "all_keywords_unique = source_keywords_set + intersection_keywords_set + dest_keywords_set\n",
    "\n",
    "trace_stem.source_keywords_set = source_keywords_set\n",
    "trace_stem.intersection_keywords_set = intersection_keywords_set\n",
    "trace_stem.dest_keywords_set = dest_keywords_set\n",
    "\n",
    "\n",
    "keyword2indx = {k:v for v,k in enumerate(all_keywords_unique)}\n",
    "indx2keyword = {indx:keyword for keyword,indx in keyword2indx.items()}\n",
    "\n",
    "\n",
    "print(\"There are %s source documents and %s destination documents\" % (len(dh_docs_stemmed), len(vis_docs_stemmed)))\n",
    "print('Vocabulary size is %s: %s source stems, %s intersection stems and %s destination stems' % \n",
    "  (len(all_keywords_unique), len(source_keywords_set), len(intersection_keywords_set), len(dest_keywords_set)))\n"
   ]
  },
  {
   "cell_type": "markdown",
   "metadata": {
    "colab_type": "text",
    "id": "Occ60_LjfcfM"
   },
   "source": [
    "# Building counts\n",
    "\n",
    "Once keywords have been tokenized and stemmed, the next step of our method relies on counting the number of times each unique token appears on the two query and target BOWs. Similarly, we calculate skipgram counts in order to measure the number of times two tokens can be seen together. The skipgrams count is employed to construct a $N \\times N$ sparse matrix on which each cell represents the absolute count of observed associations between any two given tokens. At this stage, a binary term-document sparse matrix $T$ is also created. This binary matrix is employed in the last step of the method to project the results onto document space and produce a set of paper recommendations. \n",
    "\n",
    "With vocabulary $V_{t}$ we build a square term-context frequency matrix $F\\in\\mathcal{\\mathbb{R}}^{|V_{g}| \\times |V_{g}|} $ and a binary term-document matrix $B\\in\\mathcal{\\mathbb{B}}^{|V_{g}| \\times |C_{g}|}$. The word-context frequency matrix captures how many times two terms appear together in the corpus. Following <cite data-cite=\"5825190/WEDH9C6G\"></cite>, this translates into $\\#(w,c) \\cdot |C_{g}|$. \n",
    "\n",
    "Finally, we retain the provenance of each token by indexing the square matrix $\\mathbf{M}$ in the following manner:\n",
    "\n",
    "$\n",
    "  M_{i} =\n",
    "    \\begin{cases}\n",
    "      0 \\leq i < |V_{q}|  & \\iff M_{i} \\in V_{q} \\\\\n",
    "      |V_{q}| \\leq i < |V_{q}| + |V_{l}|  & \\iff M_{i} \\in V_{l} \\\\\n",
    "      |V_{q}| + |V_{l}| \\leq i < |V_{g}|  & \\iff M_{i} \\in V_{t}\n",
    "    \\end{cases}\n",
    "$"
   ]
  },
  {
   "cell_type": "code",
   "execution_count": 11,
   "metadata": {
    "colab": {},
    "colab_type": "code",
    "id": "y7GZLRSoPdEw"
   },
   "outputs": [],
   "source": [
    "def build_unigrams(keywords, verbose=False):\n",
    "    unigram_counts = Counter()\n",
    "  \n",
    "    for ii, doc in enumerate(keywords):\n",
    "        if ii % 2000 == 0 and verbose:\n",
    "            print(f'finished {ii/len(keywords):.2%} of papers')\n",
    "        for keyword in doc:\n",
    "            unigram_counts[keyword] += 1\n",
    "            \n",
    "    print('done')\n",
    "    print('vocabulary size: {}'.format(len(unigram_counts)))\n",
    "    print('most common: {}'.format(unigram_counts.most_common(10)))\n",
    "  \n",
    "    return unigram_counts"
   ]
  },
  {
   "cell_type": "code",
   "execution_count": 12,
   "metadata": {
    "colab": {},
    "colab_type": "code",
    "id": "UODjk7FePBDA"
   },
   "outputs": [],
   "source": [
    "def build_skipgrams(keywords_stemmed, verbose=False):\n",
    "    n_docs = len(keywords_stemmed)\n",
    "    skipgram_counts = Counter()\n",
    "    for idoc, doc in enumerate(keywords_stemmed):\n",
    "        for keyword_a, keyword_b in itertools.combinations(doc, 2):\n",
    "            skipgram_a = (keyword_a, keyword_b)\n",
    "            skipgram_b = (keyword_b, keyword_a)\n",
    "            skipgram_counts[skipgram_a] += 1\n",
    "            skipgram_counts[skipgram_b] += 1\n",
    "        if idoc % 1000 == 0 and verbose:\n",
    "            print(f'finished {idoc/n_docs:.2%} of documents')\n",
    "\n",
    "    print('done')\n",
    "    print('number of skipgrams: {}'.format(len(skipgram_counts)))\n",
    "    print('most common: {}'.format(skipgram_counts.most_common(20)))\n",
    "\n",
    "    return skipgram_counts"
   ]
  },
  {
   "cell_type": "code",
   "execution_count": 13,
   "metadata": {
    "colab": {},
    "colab_type": "code",
    "id": "hUn0x9En7VFA"
   },
   "outputs": [],
   "source": [
    "#Term-Document Matrix\n",
    "def build_td_mat(keywords, keyword2indx):\n",
    "    doc_indxs = []\n",
    "    keyword_indxs = []\n",
    "    tdat_values = []\n",
    "    for ii, doc in enumerate(keywords):\n",
    "        for keyword in doc:\n",
    "            doc_indxs.append(ii)\n",
    "            keyword_indxs.append(keyword2indx[keyword])\n",
    "            tdat_values.append(True)\n",
    "\n",
    "    return sps.csr_matrix((tdat_values, (doc_indxs, keyword_indxs)))"
   ]
  },
  {
   "cell_type": "code",
   "execution_count": 14,
   "metadata": {
    "colab": {},
    "colab_type": "code",
    "id": "MwPNOADYsyR9"
   },
   "outputs": [],
   "source": [
    "def build_wordcounts(skipgram_counts, keyword2indx, verbose=False):\n",
    "    row_indxs = []\n",
    "    col_indxs = []\n",
    "    dat_values = []\n",
    "    ii = 0\n",
    "    for (keyword1, keyword2), sg_count in skipgram_counts.items():\n",
    "        ii += 1\n",
    "        if ii % 1000 == 0 and verbose:\n",
    "            print(f'finished {ii/len(skipgram_counts):.2%} of skipgrams')\n",
    "        key1_indx = keyword2indx[keyword1]\n",
    "        key2_indx = keyword2indx[keyword2]\n",
    "        \n",
    "        row_indxs.append(key1_indx)\n",
    "        col_indxs.append(key2_indx)\n",
    "        dat_values.append(sg_count)\n",
    "    \n",
    "    wwcnt_mat = sps.csr_matrix((dat_values, (row_indxs, col_indxs)))\n",
    "    print('wwcnt sparse matrix was built (%d, %d)' % wwcnt_mat.shape)\n",
    "    return wwcnt_mat"
   ]
  },
  {
   "cell_type": "code",
   "execution_count": 15,
   "metadata": {},
   "outputs": [
    {
     "name": "stdout",
     "output_type": "stream",
     "text": [
      "done\n",
      "vocabulary size: 2720\n",
      "most common: [('data', 492), ('analysi', 316), ('interact', 299), ('volum', 285), ('render', 269), ('inform', 259), ('analyt', 237), ('model', 190), ('design', 170), ('graph', 145)]\n",
      "done\n",
      "number of skipgrams: 84158\n",
      "most common: [(('volum', 'render'), 207), (('render', 'volum'), 207), (('data', 'analysi'), 104), (('analysi', 'data'), 104), (('interact', 'data'), 60), (('data', 'interact'), 60), (('field', 'vector'), 55), (('vector', 'field'), 55), (('data', 'analyt'), 52), (('analyt', 'data'), 52), (('analyt', 'analysi'), 52), (('analysi', 'analyt'), 52), (('interact', 'analyt'), 51), (('analyt', 'interact'), 51), (('analysi', 'interact'), 48), (('interact', 'analysi'), 48), (('design', 'studi'), 48), (('studi', 'design'), 48), (('interact', 'inform'), 47), (('inform', 'interact'), 47)]\n",
      "wwcnt sparse matrix was built (2720, 2720)\n"
     ]
    }
   ],
   "source": [
    "unigram_counts = build_unigrams(keywords_stemmed)\n",
    "tf_bin_mat = build_td_mat(keywords_stemmed, keyword2indx)\n",
    "tf_bin_list = tf_bin_mat.toarray().tolist()\n",
    "\n",
    "skipgram_counts = build_skipgrams(keywords_stemmed)\n",
    "wwcnt_mat = build_wordcounts(skipgram_counts, keyword2indx)"
   ]
  },
  {
   "cell_type": "markdown",
   "metadata": {},
   "source": [
    "# Latent Semantic Analysis\n",
    "We selected Latent Semantic Analysis (LSA), a distributional semantic model (DSM) to define a semantic space of keywords.\n",
    "\n",
    "LSA is a theory of language and distributional semantic model that extracts and represents the contextual-usage meaning of \n",
    "words by applying statistical calculations to a corpus of text <cite data-cite=\"5825190/B4LPB8XA\"></cite>. LSA (or LSI, for Latent Semantic Indexing, as it is known \n",
    "in the information retrieval community) assumes that the occurring patterns of words in a variety of contexts are able \n",
    "to determine the degree of similarity among such words <cite data-cite=\"5825190/YJCC8EDY\"></cite>. \n",
    "\n",
    "LSA is a fully unsupervised method that, unlike the case of predictive semantic models, does not employ any knowledge base \n",
    "or human-generated dictionary. Rather, it relies solely on the analysis of raw text. Because LSA originated in the psychology community, \n",
    "since its beginnings it was thoroughly evaluated to measure its accuracy in replicating human judgments of meaning similarity <cite data-cite=\"5825190/U2RP32HP\"></cite>. The \n",
    "similarity estimates derived by LSA are not based on simple contiguity frequencies or co-occurrence, but rather they depend on a \n",
    "deeper statistical analysis that extracts the underlying semantics from a corpus. \n",
    "\n",
    "This kind of analysis has the positive effect of producing results that are conceptually similar in meaning to a given query term even if these results do not share specific words with the search criteria. Beyond that, some authors have stressed the role of LSA as a fundamental computational theory of the acquisition and representation of knowledge that is closely related to the inductive property of learning, for which people seem to acquire much more knowledge than appears to be available in experience <cite data-cite=\"5825190/SD9XSNXL\"></cite>.\n",
    "\n",
    "## Singular Value Decomposition\n",
    "To produce a semantic analysis of the words in a corpus, LSA makes use of a well-known linear algebra matrix decomposition method called Singular Value Decomposition (SVD) that we briefly summarize for the reader hereafter: \n",
    "\n",
    "SVD is used to decompose a given matrix $M$ into the product of three matrices $U \\Sigma V^{T}$, where $U$ and $V$ are orthonormal \n",
    "($U^{T} U = V^{T} V = I$) and $\\Sigma$ is a diagonal matrix of sorted singular values of the same rank r as the input matrix. \n",
    "\n",
    "Let $\\Sigma_{k}$, where $k < r$, the diagonal formed by the k first singular values of $\\Sigma$ and let $U_{k}$ and $V_{k}$ be the matrices that result from keeping only the first \\textit{k} columns in $U$ and $V$. The matrix $\\hat{M} = U_{k} \\Sigma_{k} V^T_{k}$ is the rank k matrix that minimizes the Frobenius norm between the input matrix $M$ and any other rank-k matrix, i.e. $\\hat{M} \\in {arg\\,min} \\Vert M - \\hat{M}\\Vert_{F}$. This is, the resulting matrix is the best k-dimensional approximation to the original in the least-squares sense (minimizing covariance).\n"
   ]
  },
  {
   "cell_type": "code",
   "execution_count": 16,
   "metadata": {
    "colab": {},
    "colab_type": "code",
    "id": "haN4nxpHwzPY"
   },
   "outputs": [],
   "source": [
    "def svd_reduce(pmi_use, embedding_size):\n",
    "    print('Will reduce matrix of shape (%d, %d) with embedding_size=%d' %(pmi_use.shape[0], pmi_use.shape[1], embedding_size))\n",
    "    return sps.linalg.svds(pmi_use, embedding_size)"
   ]
  },
  {
   "cell_type": "code",
   "execution_count": 17,
   "metadata": {
    "colab": {},
    "colab_type": "code",
    "id": "pN1rj0YTAOAx"
   },
   "outputs": [],
   "source": [
    "def generate_wordvecs(uu):\n",
    "    word_vecs = uu\n",
    "    word_vecs_norm = normalize(uu, norm='l2')\n",
    "    return (word_vecs, word_vecs_norm)"
   ]
  },
  {
   "cell_type": "markdown",
   "metadata": {},
   "source": [
    "# Pointwise Mutual Infomration\n",
    "\n",
    "In previous sections, we explained that LSA extracts latent semantics from factorizing a co-occurrence statistics matrix $\\mathbf{M}$. This matrix can be built via different methods, such as term-frequency (TF) or term frequency - inverse document frequency (TF-IDF). In our case, we detected that narrow-domain corpora produce a great overlapping of insignificant words (noise) that we wanted to eliminate. To this end, we relied on a well-known metric of information science, Pointwise Mutual Information (PMI) <cite data-cite=\"5825190/GEINZ3ZS\"></cite> because 1. provides an efficient manner to remove repetitive terms from the analysis and 2. when used in conjunction with LSA/SVD is capable of generating linguistic models that excel at distributional similarity tasks <cite data-cite=\"5825190/AGWC3HVT\"></cite>. \n",
    "\n",
    "The usage of the smoothed PPMI matrix in LSA favors the detection of infrequent and informative relationships occurring in the high-dimensional semantic space over uninformative terms. This feature helps to provide a view of the target corpus that is based on the specifics of the user-generated query corpus and to identify keyword pairs that share a common latent meaning.\n",
    "\n",
    "PMI encodes the probability for a pair of tokens to be seen together in a document with respect to the probability of seeing those two same tokens in the whole corpus. This probability is defined as the log ratio between \\textit{w} and \\textit{c}'s joint probability and the product of their marginal probabilities. These probabilities can be extracted empirically from the corpus by counting the number of times \\textit{w} and \\textit{c} appear in the same document divided by the times they can be seen in other documents. In this paper, we do not consider the order in which terms appear within a document and therefore, the word-context matrix is built solely on co-occurrence. \n",
    "\n",
    "Similarly, the term-document matrix is a sparse binary matrix whose entries are defined as $B(t,d) = \\{1 \\text{ if t occurs in d or 0 otherwise}\\}$.\n",
    "\n",
    "\n",
    "(1) $PMI(w,c) = \\log\\frac{\\hat{P}(w,c)}{\\hat{P}(w)\\hat{P}(c)} = \\log\\frac{\\#(w,c) \\cdot |C_{T}|}{\\#(w) \\cdot \\#(c)}$\n",
    "\n",
    "Following recommendations in the recent NLP literature \\cite{levy_improving_2015}, we employ an smoothed version of the PMI matrix. During our experiments, we found that setting the smoothing factor $\\alpha$ to 0.95 yielded the best results in the similarity task, which is in line with observations from other studies: \n",
    "\n",
    "(2) $SPMI(w,c) = \\log\\frac{\\hat{P}(w,c)}{\\hat{P}(w)\\hat{P}_{\\alpha}(c)}$\n",
    "\n",
    "where the smoothed unigram distribution of the context is:\n",
    "\n",
    "(3) $\\hat{P}_{\\alpha}(c) = \\frac{\\#(c)^{\\alpha}}{\\sum_{c}{\\#(c)^{\\alpha}}}$\n",
    "\n",
    "The pairwise results are stored in a Smoothed PMI matrix $M^{SPMI}$ that matches the original dimensions of $F$, $|V_{T}| \\times |V_{T}|$. A common problem with $M^{SPMI}$ is that it contains entries of the form $\\text{PMI}(w,c) = \\log 0 = -\\infty$ for word-context pairs that were never observed. This issue is solved in the NLP literature by using \\textit{positive} PMI (PPMI), in which the negative entries are replaced by 0:\n",
    "\n",
    "\n",
    "(4) $M = SPPMI(w,c)=\n",
    "    \\begin{cases}\n",
    "      SPMI(w,c) & \\text{if}\\ SPMI(w,c)>0 \\\\\n",
    "      0 & \\text{otherwise}\n",
    "    \\end{cases}\n",
    "\\label{eq:sppmi}$"
   ]
  },
  {
   "cell_type": "code",
   "execution_count": 18,
   "metadata": {
    "colab": {},
    "colab_type": "code",
    "id": "PY41n9jUutXt"
   },
   "outputs": [],
   "source": [
    "def build_pmis(wwcnt_mat, skipgram_counts, keyword2indx, verbose=False):\n",
    "    num_skipgrams = wwcnt_mat.sum()\n",
    "    assert(sum(skipgram_counts.values())==num_skipgrams)\n",
    "\n",
    "    # for creating sparse matrix\n",
    "    row_indxs = []\n",
    "    col_indxs = []\n",
    "    sppmi_values = []\n",
    "\n",
    "    # smoothing\n",
    "    alpha = 0.95\n",
    "    nca_denom = np.sum(np.array(wwcnt_mat.sum(axis=0)).flatten()**alpha)\n",
    "    sum_over_words = np.array(wwcnt_mat.sum(axis=0)).flatten()\n",
    "    sum_over_words_alpha = sum_over_words**alpha\n",
    "    sum_over_contexts = np.array(wwcnt_mat.sum(axis=1)).flatten()\n",
    "\n",
    "    ii = 0\n",
    "    for (keyword1, keyword2), sg_count in skipgram_counts.items():\n",
    "        ii += 1\n",
    "        if ii % 5000 == 0 and verbose:\n",
    "          print(f'finished {ii/len(skipgram_counts):.2%} of skipgrams')\n",
    "\n",
    "        keyword1_indx = keyword2indx[keyword1]\n",
    "        keyword2_indx = keyword2indx[keyword2]\n",
    "\n",
    "        nwc = sg_count\n",
    "        Pwc = nwc / num_skipgrams\n",
    "        nw = sum_over_contexts[keyword1_indx]\n",
    "        Pw = nw / num_skipgrams\n",
    "\n",
    "        nc = sum_over_words[keyword2_indx]\n",
    "        Pc = nc / num_skipgrams\n",
    "\n",
    "        nca = sum_over_words_alpha[keyword2_indx]\n",
    "        Pca = nca / nca_denom\n",
    "\n",
    "        sppmi = max(np.log2(Pwc/(Pw*Pca)), 0)\n",
    "\n",
    "        row_indxs.append(keyword1_indx)\n",
    "        col_indxs.append(keyword2_indx)\n",
    "        sppmi_values.append(sppmi)\n",
    "    \n",
    "    \n",
    "    sppmi_mat = sps.csr_matrix((sppmi_values, (row_indxs, col_indxs)))\n",
    "  \n",
    "    print('sparse ppmi matrix was built')\n",
    "\n",
    "    return sppmi_mat"
   ]
  },
  {
   "cell_type": "code",
   "execution_count": 19,
   "metadata": {
    "colab": {
     "base_uri": "https://localhost:8080/",
     "height": 195
    },
    "colab_type": "code",
    "id": "RtqGCyPpiiLg",
    "outputId": "28b7ae90-83f5-4e15-c94f-15b5989a7346"
   },
   "outputs": [
    {
     "name": "stdout",
     "output_type": "stream",
     "text": [
      "sparse ppmi matrix was built\n",
      "Will reduce matrix of shape (2720, 2720) with embedding_size=50\n"
     ]
    }
   ],
   "source": [
    "#Build ppmi \n",
    "sppmi_mat = build_pmis(wwcnt_mat, skipgram_counts, keyword2indx)\n",
    "\n",
    "uu, ss, vv = svd_reduce(sppmi_mat, 50)\n",
    "word_vecs, word_vecs_norm = generate_wordvecs(uu)\n",
    "\n",
    "#use normalized/not normalized\n",
    "use_vecs = word_vecs_norm"
   ]
  },
  {
   "cell_type": "markdown",
   "metadata": {
    "colab_type": "text",
    "id": "CnsjdJD1l3b2"
   },
   "source": [
    "## Distance Matrix\n",
    "\n",
    "One of the most popular (dis)similarity measures employed in NLP is the cosine of the angle formed by two word vectors <cite data-cite=\"5825190/SAAU4NU2\"></cite>. This measure discards the length of the vectors and quantifies the difference in their direction in multidimensional space. We selected this similarity measure because, as reported by other studies, it is adequate to represent cognitive similarity beyond simple linguistic similarity <cite data-cite=\"undefined\"></cite>. The formula of the cosine is well known and can be applied easily to the LSA vectors to build a distance matrix $D$:\n",
    "\n",
    "(5) $\n",
    "    D(x,y) = cos(x,y) = \\frac{\\sum^{n}_{i=1} x_{i} \\cdot y_{i}}{\\sqrt{\\sum^{n}_{i=1} x^{2}_{i} \\cdot \\sum^{n}_{i=1} y^{2}_{i}}}\n",
    "$\n",
    "\n",
    "Analogously, the similarity between two vectors can be expressed as:\n",
    "\n",
    "(6) $\n",
    "    S(x,y) = 1 - D(x,y)\n",
    "$\n",
    "\n",
    "As a final step, we employed the similarity matrix $S$ to detect and merge synonyms (i.e. token pairs with $S(x,y) \\approx 0$), which resulted in a reduction in vocabularies sizes ($|V_{q}| = 176, |V_{t}| = 1745, |V_{l}| = 320$).\n"
   ]
  },
  {
   "cell_type": "code",
   "execution_count": 20,
   "metadata": {
    "colab": {
     "base_uri": "https://localhost:8080/",
     "height": 52
    },
    "colab_type": "code",
    "id": "mdnD3jNbl4b0",
    "outputId": "206e5a73-3344-43cc-80e9-e5414cd651ca"
   },
   "outputs": [
    {
     "name": "stdout",
     "output_type": "stream",
     "text": [
      "Finding synonyms...\n",
      "Found 479 synonyms. Operating with 2241 vectors now\n"
     ]
    }
   ],
   "source": [
    "#Generate distance matrix\n",
    "Y = pdist(use_vecs, 'cosine')\n",
    "\n",
    "\n",
    "print('Finding synonyms...')\n",
    "distance_matrix = squareform(Y)\n",
    "dist_matrix_sq = np.triu(distance_matrix)\n",
    "syns = {}\n",
    "remove = []\n",
    "rows = dist_matrix_sq.shape[0]\n",
    "cols = dist_matrix_sq.shape[0]\n",
    "for x in range(0, rows):\n",
    "    for y in range(0, cols):\n",
    "        if x >= y:\n",
    "            continue\n",
    "        elif dist_matrix_sq[x][y] <= 0.01:\n",
    "            if x in syns:\n",
    "                syns[x].append(y)\n",
    "            else:\n",
    "                syns[x] = [y]\n",
    "            if y in syns:\n",
    "                syns[y].append(x)\n",
    "            else:\n",
    "                syns[y] = [x]\n",
    "            remove.append(y)\n",
    "\n",
    "keep = []\n",
    "for i in range(0, rows):\n",
    "    if i not in remove:\n",
    "        keep.append(i)\n",
    "\n",
    "use_vecs_c = use_vecs[keep]\n",
    "\n",
    "sppmi_mat_c = sppmi_mat[keep,:]\n",
    "sppmi_mat_c = sppmi_mat_c[:,keep]\n",
    "\n",
    "print('Found %s synonyms. Operating with %s vectors now' % (len(set(remove)), len(use_vecs_c)))\n",
    "\n",
    "Y_c = pdist(use_vecs_c, 'cosine')\n",
    "\n",
    "\n",
    "sep_indx_src = len(source_keywords_set) -1\n",
    "sep_indx_inter = len(source_keywords_set) + len(intersection_keywords_set) - 1\n",
    "\n",
    "new_seps = []\n",
    "\n",
    "prev = 'query'\n",
    "for i in range(len(use_vecs_c)):\n",
    "    current = trace_stem(indx2keyword[keep[i]])\n",
    "    if current != prev:\n",
    "        new_seps.append(i)\n",
    "    prev = current\n",
    "    \n",
    "\n",
    "sep_indx_src_c = new_seps[0] - 1\n",
    "sep_indx_inter_c = new_seps[1] - 1\n",
    "indx2keyword_c = {k:indx2keyword[keep[k]] for k in range(len(use_vecs_c))}\n",
    "keyword2indx_c = {v:k for k,v in indx2keyword_c.items()}\n"
   ]
  },
  {
   "cell_type": "code",
   "execution_count": 21,
   "metadata": {
    "colab": {
     "base_uri": "https://localhost:8080/",
     "height": 35
    },
    "colab_type": "code",
    "id": "oAMeNWWo3FZJ",
    "outputId": "9da2358c-6b4f-43f6-ffd6-23a5fea4e904"
   },
   "outputs": [],
   "source": [
    "syn_query = []\n",
    "syn_link = []\n",
    "syn_target = []\n",
    "\n",
    "for k,v in indx2keyword_c.items():\n",
    "    trace = trace_stem(v)\n",
    "    if trace == 'query':\n",
    "        syn_query.append(v)\n",
    "    elif trace == 'link':\n",
    "        syn_link.append(v)\n",
    "    else:\n",
    "        syn_target.append(v)\n",
    "\n",
    "# print(len(syn_query), len(syn_link), len(syn_target))"
   ]
  },
  {
   "cell_type": "markdown",
   "metadata": {
    "colab_type": "text",
    "id": "kRVNLRMomU64"
   },
   "source": [
    "## Analyzing Inter-group Similarities\n",
    "\n",
    "The second stage of our method focuses on exploring the similarity matrix $S$ that was obtained in the last step. To overcome the conceptual distance between the query and target corpora, we look for structural patterns in the similarity relationships between keywords on the query vocabulary and those found exclusively in the target vocabulary. For this task, we rely on the construction of a complete graph $G$ using the distance matrix $D$, which enables us to analyze the similarity between nodes (tokens) using different scaling techniques to reduce the complexity of the resulting graph. \n",
    "\n",
    "\n",
    "In order to map all tokens in $V_{t}$ to their counterpart in $V_q$, we identify the shortest path that connects a token in $V_{t}$ to any other token $V_{q}$. Formally, we can define the set of shortest paths $P'_{j}$ from the token $j$ in $V_{t}$ to all tokens in $V_{q}$ as the sequence of node pairs $(t_{j}^{t},t_{k1}^{r}), (t_{k1}^{r},t_{k2}^{r}), \\dots, (t_{kl}^{r},t_{i}^{q})$ with $r \\in \\{q,l,t\\}$. Given that all pairs are edges representing distances, the sum of all distance pairs in a path in $P'$ gives the total distance between the token $t_{j}^{t}$ and every other token in $V_{q}$. Therefore, there exists a shortest path $P$ in $P'$ connecting the node $t_{j}^{t}$ to another node $t_{i}^{q}$ that, by (6), yields a maximum similarity over all other alternative paths to tokens in $V_{q}$. Note that when $|P| = 1$, the similarity score $sim$ is equal to the value of the similarity matrix $S$ at $S(t_{j}, t_{i})$.\n",
    "\n",
    "(7) $\n",
    "    sim(t_{j}^{t}, t_{i}^{q}) = 1 - \\min_{P \\in P'_{j}}\\{\\sum_{k=1}^{l}{dist(t_{k},t_{k+1})} \\mid (t_{k},t_{k+1}) \\in P\\}\\\\\n",
    "$\n",
    "\n",
    "\n",
    "By (7), the path $P_{t^{t}_{j}}$ that maximizes the similarity score $sim$ is a \\textit{significant} path of the target token $t^{t}_{j}$ in $G$ because it connects it to its most similar counterpart in $V_{q}$. These paths can be easily computed by a multi-source version of the Dijkstra algorithm.\n",
    "\n",
    "After all shortest paths have been calculated, we can group similar nodes by the number of shared links by their respective paths from $V_{t}$ to $V_{q}$. In this way, sets of target nodes that present structural similarities in their relationship with the query dataset can be grouped together. This builds upon the idea that nodes related to the same topics have the likelihood to share more links in the shortest paths that relate them to tokens in $V_{q}$, while shortest paths of dissimilar nodes have few or no links in common <cite data-cite=\"5825190/2M3GJCKB\"></cite>.\n",
    "\n",
    "\n",
    "Particularly, the subgraph resulting from merging two or more shortest paths with common elements $P_{1}, P_{2} \\dots P_{n}$ is a spanning tree of its nodes in $G$. This procedure is illustrated in the figure below. On the left, two shortest paths for tokens $t_{1}^{t}$ and $t_{2}^{t}$ are shown. As $|V_{t}| \\gg |V_{q}|$, some paths will share at least a common destination token in $V_{q}$, $t_{1}^{q}$ in the example. Input paths are ultimately merged into the same tree $T_{t_{1}^{q}}$.\n",
    "\n",
    "<img src='img/path-generation.png'>*Figure*: Shortest paths $P(t^{1}_{t})$ (left, top) and $P(t^{2}_{t})$ (left, bottom) connecting tokens $t^{1}_{t}$ and $t^{2}_{t}$ to their closest neighbor in $V_{q}$. The proposed method detects coincident tokens in the resulting paths and constructs the spanning tree that contains them. This results in a partition of the dataset in which tokens in $V_{t}$ are grouped together if they relate to $V_{q}$ in a similar manner.</img>\n",
    "\n",
    "\n"
   ]
  },
  {
   "cell_type": "markdown",
   "metadata": {},
   "source": [
    "After merging paths with common elements we obtain a set of trees $T = \\{T_{1}, T_{2}\\dots T_{i}\\}$ for each token $t^{q}_{i} \\in V_{q}$ present in any path in $P$. Note that at this point not all tokens in $V_{q}$ can be found in $T$, whereas all tokens in $V_{t}$ are. The solution to this issue is trivial and can be solved by adding a token $t^{j}_{q}$ not present in $T$ to the MST of its nearest-neighbor given that there are not any other shorter paths connecting $t^{j}_{q}$ to any other token in $V_{t}$. At the end of this process, any tree, or a combination of trees in $T$, along with related documents, can be represented in a visualization according to the procedure outlined in the next sections."
   ]
  },
  {
   "cell_type": "markdown",
   "metadata": {
    "colab_type": "text",
    "id": "sGLD1r3tpT3Y"
   },
   "source": [
    "### Generating the model\n",
    "The following cells generate a visualization model based on paths extracted from proximity data. \n",
    "If you want to recreate the process (*it could take several hours*),\n",
    "remove the pre-generated pickle file './model/all-paths.pkl' and run the code."
   ]
  },
  {
   "cell_type": "code",
   "execution_count": 22,
   "metadata": {
    "colab": {},
    "colab_type": "code",
    "id": "6JVQBk9jnLa0"
   },
   "outputs": [],
   "source": [
    "def generate_paths(dist_matrix, sep_indx_src, sep_indx_inter, indx2keyword):\n",
    "    dist_matrix_sq = np.triu(squareform(dist_matrix))\n",
    "    dists_graph = nx.from_numpy_matrix(dist_matrix_sq)\n",
    "  \n",
    "    paths_by_dest = {}\n",
    "    paths_location = './model/all-paths.pkl'\n",
    "  \n",
    "    try:\n",
    "        infile = open(paths_location, 'rb')\n",
    "        paths_by_dest = pickle.load(infile)\n",
    "    except FileNotFoundError:      \n",
    "        for j in range(sep_indx_inter + 1, len(indx2keyword)):\n",
    "            print('Calculating best path for %s/%s' % (j, len(indx2keyword) - 1))\n",
    "            dist, path = nx.multi_source_dijkstra(dists_graph, set(range(0,sep_indx_src + 1)), target=j)\n",
    "            paths_by_dest[j] = {'path' : path, 'distance': dist}\n",
    "            print(indx2keyword[j], paths_by_dest[j]['distance'], [(indx2keyword[n], trace_stem(indx2keyword[n])) for n in paths_by_dest[j]['path']])\n",
    "    \n",
    "    output = open('all-paths.pkl', 'wb')\n",
    "    pickle.dump(paths_by_dest, output)\n",
    "    \n",
    "    shutil.move('all-paths.pkl', paths_location)\n",
    "\n",
    "  \n",
    "    return dists_graph, paths_by_dest"
   ]
  },
  {
   "cell_type": "markdown",
   "metadata": {
    "colab_type": "text",
    "id": "fsXj5lxlpKHM"
   },
   "source": [
    "### Main"
   ]
  },
  {
   "cell_type": "code",
   "execution_count": 23,
   "metadata": {
    "colab": {},
    "colab_type": "code",
    "id": "1HxZ4dPZmXhp"
   },
   "outputs": [],
   "source": [
    "def sortFn(a):\n",
    "    cmp_str = ''\n",
    "    for i in range(len(a)):\n",
    "        cmp_str += indx2keyword_c[a[i]]\n",
    "\n",
    "    return cmp_str\n",
    "\n",
    "def merge_subs(lst_of_lsts):\n",
    "    copy_list = copy.deepcopy(lst_of_lsts)\n",
    "    res = []\n",
    "    for row in copy_list:\n",
    "        for i, resrow in enumerate(res):\n",
    "            if row[0]==resrow[0]:\n",
    "                res[i] += row[1:]\n",
    "                break\n",
    "        else:\n",
    "            res.append(row)\n",
    "    return res\n",
    "\n",
    "dists_graph, paths_by_dest = generate_paths(Y_c, sep_indx_src_c, sep_indx_inter_c, indx2keyword_c)"
   ]
  },
  {
   "cell_type": "code",
   "execution_count": 24,
   "metadata": {
    "colab": {
     "base_uri": "https://localhost:8080/",
     "height": 2452
    },
    "colab_type": "code",
    "id": "KRv8gD-QNXDh",
    "outputId": "34f22eea-14a1-440a-8d00-619ee50a06a7"
   },
   "outputs": [
    {
     "name": "stdout",
     "output_type": "stream",
     "text": [
      "[('aborigin', 'query'), ('unifi', 'target'), ('unifi', 'target'), ('input', 'target'), ('teleoper', 'target'), ('atom', 'target'), ('echographi', 'target'), ('levels-of-detail', 'target'), ('teleoper', 'target'), ('haptic', 'target'), ('sphere', 'target'), ('cross', 'target'), ('sphere', 'target'), ('terascal', 'target'), ('world-wide-web', 'target'), ('pdm', 'target'), ('wayfind', 'target'), ('shock', 'target'), ('forcefeedback', 'target'), ('projector', 'target'), ('pc', 'target'), ('invers', 'target'), ('head', 'target'), ('surgic', 'target'), ('hysteroscopi', 'target'), ('shear-warp', 'target'), ('speech', 'target'), ('haptic', 'target'), ('6-dof', 'target'), ('invers', 'target'), ('kinemat', 'target'), ('section', 'target'), ('anatom', 'target'), ('section', 'target'), ('carv', 'target'), ('seam', 'target')]\n",
      "[('academ', 'query'), ('manipul', 'target'), ('contour', 'target'), ('magnif', 'target'), ('data-driven', 'target'), ('data-driven', 'target'), ('data-min', 'target'), ('oracl', 'target'), ('inter-cel', 'target'), ('depend', 'target'), ('write', 'link'), ('prewrit', 'target'), ('diagram', 'target'), ('color', 'target'), ('logic', 'target'), ('write', 'link'), ('prewrit', 'target'), ('convers', 'target'), ('mail', 'target'), ('discuss', 'target'), ('mail', 'target'), ('email', 'target'), ('lumin', 'target'), ('ryb', 'target'), ('meta', 'target'), ('travers', 'target'), ('pseudo', 'target'), ('substrat', 'target'), ('weav', 'target'), ('residu', 'target'), ('intent', 'target'), ('write', 'link'), ('prewrit', 'target'), ('whiteboard', 'target'), ('consider', 'target'), ('write', 'link'), ('prewrit', 'target'), ('pen', 'target'), ('write', 'link'), ('touch', 'target'), ('ambigu', 'target'), ('theoret', 'target')]\n",
      "[('ancient', 'query'), ('multi-touch', 'target')]\n",
      "[('app', 'query'), ('crowdsourc', 'link'), ('probabilist', 'target'), ('reason', 'target'), ('crowdsourc', 'link'), ('euler', 'target'), ('crowdsourc', 'link'), ('rate', 'target'), ('crowdsourc', 'link'), ('fallaci', 'target'), ('crowdsourc', 'link'), ('euler', 'target'), ('improv', 'target')]\n",
      "[('arab', 'query'), ('fiction', 'link'), ('interlink', 'target')]\n",
      "[('armenian', 'query'), ('vari', 'target'), ('merg', 'target'), ('constraint', 'target'), ('attribute-driven', 'target'), ('popul', 'target')]\n",
      "[('audio', 'query'), ('literaci', 'link'), ('instrument', 'link'), ('measur', 'target'), ('non-destruct', 'target'), ('literaci', 'link'), ('rasch', 'target')]\n",
      "[('audiovisu', 'query'), ('collect', 'link'), ('entity-bas', 'target'), ('workspac', 'target'), ('collect', 'link'), ('entity-bas', 'target'), ('intellig', 'target'), ('collect', 'link'), ('entity-bas', 'target'), ('workspac', 'target'), ('meta-visu', 'target'), ('co-loc', 'target'), ('collect', 'link'), ('entity-bas', 'target'), ('forag', 'target'), ('collect', 'link'), ('entity-bas', 'target'), ('collect', 'link'), ('entity-bas', 'target'), ('workspac', 'target'), ('meta-visu', 'target'), ('similan', 'target'), ('note', 'target'), ('note', 'target'), ('tabletop', 'target'), ('note', 'target'), ('tabletop', 'target'), ('treatment', 'target')]\n",
      "[('augustan-era', 'query'), ('world', 'target'), ('backchannel', 'target')]\n",
      "[('australian', 'query'), ('gpu', 'target'), ('travel', 'link'), ('godel', 'target'), ('travel', 'link'), ('univers', 'target'), ('bind', 'target')]\n",
      "[('barcod', 'query'), ('expans', 'target'), ('two-hand', 'target'), ('stereoscop', 'target'), ('fill', 'target'), ('abstract', 'target'), ('content-actor', 'target'), ('iter', 'target'), ('patent', 'target'), ('declar', 'target'), ('wizard', 'target'), ('overdraw', 'target'), ('soccer', 'target'), ('inquiri', 'target'), ('interview', 'target'), ('question', 'target')]\n",
      "[('bayerisch', 'query'), ('onlin', 'link'), ('perform', 'target'), ('fantasi', 'target'), ('musician', 'link'), ('bracket', 'target'), ('pick', 'target')]\n",
      "[('betham', 'query'), ('volumetr', 'target'), ('deformablemodel', 'target'), ('neurosci', 'target'), ('image-swept', 'target'), ('causal', 'target'), ('compet', 'target'), ('computerassist', 'target'), ('problemsolv', 'target'), ('causal', 'target'), ('caus', 'target'), ('meta-flow', 'target'), ('emerg', 'target'), ('multitempor', 'target'), ('hypothesi', 'target'), ('sensit', 'target'), ('compet', 'target'), ('hypothes', 'target'), ('connectom', 'target'), ('meta-flow', 'target'), ('petascal', 'target'), ('petascal', 'target'), ('high-throughput', 'target'), ('evid', 'target'), ('build', 'target'), ('tenni', 'target'), ('trust', 'target'), ('radiom', 'target'), ('starcraft', 'target'), ('petascal', 'target'), ('high-throughput', 'target'), ('wide-field', 'target')]\n",
      "[('bibliographi', 'query'), ('close', 'link'), ('cartesiangrid', 'target'), ('close', 'link'), ('cartesiangrid', 'target'), ('bodi', 'target'), ('close', 'link'), ('cartesiangrid', 'target'), ('center', 'target'), ('close', 'link'), ('cartesiangrid', 'target'), ('cubic', 'target'), ('close', 'link'), ('cartesiangrid', 'target'), ('cubic', 'target'), ('lattic', 'target'), ('propag', 'target'), ('close', 'link'), ('cartesiangrid', 'target'), ('cubic', 'target'), ('body-cent', 'target'), ('topic', 'link'), ('latent', 'target'), ('alloc', 'target'), ('close', 'link'), ('cartesiangrid', 'target'), ('cubic', 'target'), ('face-cent', 'target'), ('close', 'link'), ('cartesiangrid', 'target'), ('cubic', 'target'), ('face-cent', 'target'), ('atomist', 'target'), ('close', 'link'), ('evenly-spac', 'target'), ('close', 'link'), ('strategi', 'target'), ('close', 'link'), ('cartesiangrid', 'target'), ('cubic', 'target'), ('box', 'target'), ('topic', 'link'), ('latent', 'target')]\n",
      "[('biographi', 'query'), ('vector-sc', 'target'), ('fishey', 'target'), ('vector-sc', 'target'), ('zoom', 'target'), ('internet-bas', 'target'), ('perceiv', 'target'), ('suggest', 'target'), ('photic', 'target'), ('perceiv', 'target'), ('suggest', 'target'), ('wiki', 'target'), ('schemat', 'target'), ('perceiv', 'target'), ('suggest', 'target'), ('k-mean', 'target'), ('wysiwyg', 'target'), ('funnel', 'target'), ('vector-sc', 'target'), ('perceiv', 'target')]\n",
      "[('black', 'query'), ('drug', 'target'), ('cielab', 'target'), ('ornitholog', 'target'), ('token', 'target'), ('mutual', 'target'), ('tacit', 'target'), ('agenc', 'target')]\n",
      "[('charact', 'query'), ('level-of-detail', 'target'), ('non-rigid', 'target'), ('zoomabl', 'target'), ('pad++', 'target'), ('move', 'target'), ('bioinformat', 'target'), ('multi-scal', 'target'), ('express', 'target'), ('microarray', 'target'), ('multiple-view', 'target'), ('hardware-assist', 'target'), ('car', 'target'), ('structure-awar', 'target'), ('auto', 'target'), ('gene', 'target'), ('profil', 'target'), ('multi-timepoint', 'target')]\n",
      "[('co-retweet', 'query'), ('co-cit', 'link'), ('pathfind', 'target'), ('tree', 'target'), ('co-cit', 'link'), ('pathfind', 'target'), ('controversi', 'target'), ('geography-bas', 'target'), ('controversi', 'target'), ('duplic', 'target'), ('co-cit', 'link'), ('paper-refer', 'target'), ('controversi', 'target'), ('socialnetsens', 'target'), ('twitter', 'link'), ('mood', 'target'), ('interreflect', 'target'), ('co-cit', 'link'), ('pathfind', 'target'), ('tree-bas', 'target')]\n",
      "[('cohes', 'query'), ('biomolecular', 'target'), ('biolog', 'target'), ('multi-represent', 'target'), ('focu', 'target'), ('biomolecular', 'target'), ('pathway', 'target'), ('multi-represent', 'target'), ('biomolecular', 'target'), ('pathway', 'target'), ('salient', 'target'), ('identifi', 'target'), ('wave', 'target'), ('quasi-tre', 'target'), ('isoform', 'target'), ('acycl', 'target'), ('tuboid', 'target'), ('regulatori', 'target'), ('scale-fre', 'target'), ('legal', 'target'), ('quasi-tre', 'target'), ('mark', 'target'), ('menu', 'target'), ('quasi-tre', 'target'), ('mark', 'target'), ('quasi-tre', 'target'), ('treenetviz', 'target'), ('regulatori', 'target'), ('regul', 'target'), ('strateg', 'target'), ('supergraph', 'target'), ('subset', 'target'), ('biomolecular', 'target'), ('regulatori', 'target'), ('isoform', 'target'), ('quasi-tre', 'target'), ('large-neighborhood', 'target'), ('rule-bas', 'target')]\n",
      "[('collat', 'query'), ('forc', 'link'), ('multigrid', 'target'), ('algebra', 'target'), ('forc', 'link'), ('multigrid', 'target'), ('forc', 'link'), ('multilevel', 'target'), ('major', 'target'), ('storylin', 'link'), ('story-tel', 'target'), ('storylin', 'link'), ('vast', 'target')]\n",
      "[('coloc', 'query'), ('revert', 'target'), ('asynchron', 'target'), ('oculu', 'target'), ('handoff', 'target')]\n",
      "[('confer', 'query'), ('smooth', 'target'), ('guarante', 'target'), ('triangul', 'target'), ('survey', 'link'), ('discrimin', 'target'), ('dimensionality-reduct', 'target'), ('compon', 'target'), ('survey', 'link'), ('discrimin', 'target'), ('centroid', 'target'), ('singular', 'target'), ('survey', 'link'), ('discrimin', 'target'), ('centroid', 'target'), ('valu', 'target'), ('smooth', 'target'), ('guarante', 'target'), ('delaunay', 'target'), ('epipolar', 'target'), ('smooth', 'target'), ('guarante', 'target'), ('delaunay', 'target'), ('survey', 'link'), ('taxonomi', 'target'), ('survey', 'link'), ('linear', 'target'), ('optim', 'target'), ('smooth', 'target'), ('guarante', 'target'), ('higher-dimension', 'target'), ('uniform', 'target'), ('order', 'target'), ('uniform', 'target'), ('order', 'target'), ('layer', 'target'), ('uniform', 'target'), ('colormap', 'target'), ('plane', 'target'), ('uniform', 'target'), ('colormap', 'target'), ('tube', 'target'), ('survey', 'link'), ('linear', 'target'), ('moment', 'target'), ('symmetr', 'target'), ('smooth', 'target'), ('guarante', 'target'), ('triangul', 'target'), ('non-regular', 'target'), ('uniform', 'target'), ('speed', 'target'), ('cell-project', 'target'), ('survey', 'link'), ('discrimin', 'target'), ('dimensionality-reduct', 'target'), ('princip', 'target'), ('uniform', 'target'), ('colormap', 'target'), ('uniform', 'target'), ('colormap', 'target'), ('isolumin', 'target'), ('parallelogram', 'target'), ('survey', 'link'), ('discrimin', 'target'), ('dimens', 'target'), ('uniform', 'target'), ('quantif', 'target'), ('survey', 'link'), ('discrimin', 'target'), ('regular', 'target'), ('survey', 'link'), ('linear', 'target'), ('coupl', 'target'), ('higher', 'target'), ('survey', 'link'), ('discrimin', 'target'), ('dimensionality-reduct', 'target'), ('survey', 'link'), ('discrimin', 'target'), ('survey', 'link'), ('discrimin', 'target'), ('centroid', 'target'), ('survey', 'link'), ('real', 'target'), ('smooth', 'target'), ('smooth', 'target'), ('guarante', 'target'), ('smooth', 'target'), ('qualiti', 'target'), ('uniform', 'target'), ('colormap', 'target'), ('dti', 'target'), ('survey', 'link'), ('discrimin', 'target'), ('decomposit', 'target'), ('survey', 'link'), ('linear', 'target'), ('moment', 'target'), ('survey', 'link'), ('human-in-the-loop', 'target'), ('smooth', 'target'), ('hydrodynam', 'target'), ('uniform', 'target'), ('power', 'link'), ('lineup', 'target'), ('uniform', 'target'), ('fluctuat', 'target'), ('uniform', 'target'), ('nonparametr', 'target'), ('uniform', 'target'), ('colormap', 'target'), ('seismolog', 'target'), ('uniform', 'target'), ('survey', 'link'), ('bit', 'target')]\n",
      "[('conserv', 'query'), ('bezier', 'target'), ('space-tim', 'target'), ('cube', 'target'), ('march', 'target'), ('space-tim', 'target'), ('cube', 'target'), ('splat', 'target'), ('area', 'link'), ('tabl', 'target'), ('extrem', 'target'), ('bandwidth-limit', 'target'), ('resourc', 'target'), ('aggreg', 'target'), ('antialias', 'target'), ('shade', 'target'), ('rectilinear', 'target'), ('encod', 'target'), ('photon', 'target'), ('illumin', 'target'), ('plasma', 'target'), ('tokamak', 'target'), ('sum', 'target'), ('shadow', 'target'), ('gauss', 'target'), ('space-tim', 'target'), ('cube', 'target'), ('orbit', 'target'), ('cancer', 'target'), ('raytrac', 'target'), ('photon', 'target'), ('heat', 'target'), ('feature-tempor', 'target'), ('texton', 'target'), ('motion-compens', 'target'), ('interest', 'target'), ('space-tim', 'target'), ('cube', 'target'), ('vandv', 'target'), ('area', 'link'), ('rectangular', 'target'), ('mechan', 'target'), ('area-preserv', 'target'), ('chao', 'target'), ('sum', 'target'), ('exponenti', 'target'), ('heat', 'target'), ('shape-bas', 'target'), ('monge-breni', 'target'), ('sum', 'target'), ('gradient-fre', 'target'), ('motion-compens', 'target'), ('eye-track', 'target'), ('space-tim', 'target'), ('motion-compens', 'target'), ('tone', 'target'), ('sum', 'target'), ('epidemiolog', 'target'), ('sum', 'target'), ('refract', 'target'), ('multiclass', 'target')]\n",
      "[('cooccurr', 'query'), ('brain', 'target'), ('mr', 'target'), ('brain', 'target'), ('multi-mod', 'target'), ('spectroscopi', 'target')]\n",
      "[('coword', 'query'), ('sankey', 'target'), ('journal', 'target'), ('end-us', 'target'), ('solvent', 'target')]\n",
      "[('crossinstitut', 'query'), ('bar', 'target'), ('mosaic', 'target'), ('line', 'target'), ('physic', 'target'), ('multipl', 'target'), ('condit', 'target'), ('guidelin', 'link'), ('eda', 'target'), ('guidelin', 'link'), ('bivari', 'target'), ('best', 'link'), ('small', 'target'), ('guidelin', 'link'), ('geovista', 'target'), ('guidelin', 'link'), ('logarithm', 'target'), ('guidelin', 'link'), ('braid', 'target'), ('horizon', 'target'), ('chart', 'target'), ('score', 'target'), ('rank', 'target'), ('joint', 'target'), ('behavior', 'target'), ('guidelin', 'link'), ('braid', 'target'), ('guidelin', 'link'), ('braid', 'target'), ('horizon', 'target'), ('guidelin', 'link'), ('braid', 'target'), ('stack', 'target'), ('score', 'target'), ('multi-facet', 'target'), ('bar', 'target'), ('score', 'target'), ('magnitud', 'target'), ('best', 'link'), ('whitespac', 'target'), ('shape-chang', 'target'), ('best', 'link'), ('manometri', 'target'), ('constraint-bas', 'target'), ('guidelin', 'link'), ('braid', 'target'), ('horizon', 'target'), ('colorfield', 'target')]\n",
      "[('diachron', 'query'), ('el', 'target'), ('chang', 'link'), ('sculptur', 'target'), ('co-occurr', 'link'), ('telco', 'target'), ('multitouch', 'target')]\n",
      "[('diplomat', 'query'), ('theme', 'target'), ('co-clust', 'target')]\n",
      "[('disaggreg', 'query'), ('progress', 'target'), ('frequenc', 'target')]\n",
      "[('drama', 'query'), ('p2p', 'target'), ('matrix-bas', 'target')]\n",
      "[('dramat', 'query'), ('pairwis', 'target')]\n",
      "[('dunhuang', 'query'), ('flow', 'target'), ('segment', 'target'), ('popout', 'target')]\n",
      "[('editor', 'query'), ('expect', 'target'), ('common', 'target'), ('md', 'target'), ('spring', 'target'), ('cue', 'target'), ('md', 'target'), ('md', 'target'), ('spring', 'target'), ('embedd', 'target'), ('cue', 'target'), ('proxim', 'target'), ('ajax', 'target'), ('matric', 'target'), ('node-link', 'target'), ('contact', 'target'), ('ajax', 'target'), ('confus', 'target'), ('md', 'target'), ('spring', 'target'), ('interdomain', 'target'), ('result', 'target'), ('color-contrast', 'target'), ('defici', 'target'), ('recolor', 'target'), ('seek', 'target'), ('incomplet', 'target'), ('exemplar', 'target'), ('concept', 'link'), ('hass', 'target'), ('concept', 'link'), ('hass', 'target'), ('photo', 'target'), ('ui', 'target')]\n",
      "[('eigenpag', 'query'), ('factori', 'link'), ('marey', 'target'), ('smart', 'target'), ('radial', 'target'), ('physics-bas', 'target'), ('draw', 'target'), ('node', 'target'), ('congest', 'target'), ('factori', 'link'), ('marey', 'target'), ('industri', 'link'), ('rigid', 'target'), ('overlay', 'target'), ('timeseri', 'target'), ('vie', 'target'), ('turbul', 'target'), ('identif', 'target'), ('user-gener', 'target'), ('topolayout', 'target'), ('motif', 'target'), ('mutat', 'target'), ('factori', 'link'), ('marey', 'target'), ('subgraph', 'target'), ('focus-context', 'target'), ('details-on-demand', 'target')]\n",
      "[('encyclopedia', 'query'), ('modular', 'target'), ('dataflow', 'target'), ('modular', 'target'), ('paradigm', 'target'), ('secur', 'target'), ('lens', 'target'), ('financi', 'target'), ('market', 'target'), ('automot', 'target'), ('adjac', 'target'), ('readabl', 'target'), ('intrus', 'target'), ('play', 'target'), ('world-in-miniatur', 'target'), ('attack', 'target'), ('wormhol', 'target'), ('attack', 'target'), ('concentr', 'target'), ('between', 'target'), ('central', 'target'), ('grand', 'target'), ('knolwedg', 'target'), ('triag', 'target'), ('confluent', 'target'), ('vulner', 'target')]\n",
      "[('entiti', 'query'), ('name', 'link'), ('categor', 'target'), ('cross-filt', 'target'), ('name', 'link'), ('googl', 'target')]\n",
      "[('epigraphi', 'query'), ('paint', 'target'), ('upwind', 'target'), ('intrins', 'target'), ('vertex', 'target'), ('characterist', 'target'), ('frangi', 'target')]\n",
      "[('epub', 'query'), ('book', 'link'), ('ebook', 'target'), ('book', 'link'), ('scent', 'target')]\n",
      "[('fabric', 'query'), ('stori', 'target')]\n",
      "[('face', 'query'), ('blue', 'target'), ('sampl', 'target'), ('experiment', 'target'), ('large-scal', 'target'), ('activ', 'target'), ('debug', 'target'), ('rule', 'target'), ('call', 'target'), ('forest', 'target'), ('explain', 'target'), ('recommend', 'target'), ('forest', 'target'), ('artifici', 'target'), ('situat', 'target'), ('awar', 'target'), ('explanatori', 'target'), ('attent', 'target'), ('forest', 'target'), ('random', 'target'), ('infer', 'target'), ('appli', 'target'), ('privaci', 'target'), ('retweet', 'target'), ('forest', 'target'), ('mixed-in', 'target'), ('healthcar', 'target'), ('chromosom', 'target'), ('peer', 'target'), ('blue', 'target'), ('graphlet', 'target'), ('visual-interact', 'target'), ('anonym', 'target'), ('lstm', 'target'), ('forest', 'target'), ('explain', 'target'), ('adversari', 'target'), ('q-network', 'target'), ('forest', 'target'), ('user-steer', 'target'), ('vis4ml', 'target')]\n",
      "[('femin', 'query'), ('artist', 'link'), ('technolog', 'target'), ('artist', 'link'), ('walk-up-and-us', 'target'), ('public', 'link'), ('dissemin', 'target'), ('public', 'link'), ('globe', 'target')]\n",
      "[('feminist', 'query'), ('make', 'link'), ('decis', 'target'), ('make', 'link'), ('allevi', 'target'), ('make', 'link'), ('evidence-bas', 'target'), ('low-dimension', 'target'), ('make', 'link'), ('attract', 'target'), ('strip', 'target'), ('multi-object', 'target'), ('make', 'link'), ('anchor', 'target'), ('make', 'link'), ('skylin', 'target')]\n",
      "[('fennica', 'query'), ('techniqu', 'target'), ('midi', 'target'), ('portabl', 'target'), ('object-ori', 'target')]\n",
      "[('floor', 'query'), ('medic', 'target'), ('surgeri', 'target'), ('cell', 'target'), ('compar', 'target'), ('hardi', 'target'), ('continu', 'target'), ('transport', 'target'), ('densiti', 'target'), ('computer-assist', 'target'), ('crack', 'target'), ('static', 'target'), ('schedul', 'target'), ('support', 'target'), ('formula', 'target'), ('multi-thread', 'target'), ('implant', 'target'), ('kernel', 'target'), ('foundat', 'target'), ('raster', 'target')]\n",
      "[('french', 'query'), ('varianc', 'link'), ('dual', 'target'), ('varianc', 'link'), ('local', 'target'), ('varianc', 'link'), ('dect', 'target'), ('varianc', 'link'), ('dual', 'target'), ('enzo', 'target')]\n",
      "[('full', 'query'), ('multimedia', 'target'), ('brows', 'link'), ('distort', 'target'), ('brows', 'link'), ('focus+context', 'target'), ('relat', 'link'), ('high-dimension', 'target'), ('brows', 'link'), ('navig', 'target'), ('brows', 'link'), ('drill-down', 'target'), ('treemap', 'target'), ('spatio-tempor', 'target'), ('multi-camera', 'target'), ('brows', 'link'), ('drill-down', 'target'), ('space-fil', 'target'), ('brows', 'link'), ('drill-down', 'target'), ('multi-focu', 'target'), ('brows', 'link'), ('drill-down', 'target'), ('structure-bas', 'target'), ('surveil', 'target'), ('stock', 'target'), ('brows', 'link'), ('expand-ahead', 'target'), ('brows', 'link'), ('drill-down', 'target'), ('brows', 'link'), ('genealog', 'target'), ('brows', 'link'), ('multi-tre', 'target'), ('trajectori', 'target'), ('news', 'target'), ('brows', 'link'), ('pedigre', 'target'), ('taxi', 'target'), ('discoverag', 'target'), ('store', 'link'), ('key-valu', 'target'), ('road-bas', 'target'), ('rsvp', 'target'), ('brows', 'link'), ('drill-down', 'target'), ('distance-similar', 'target')]\n",
      "[('galeazza', 'query'), ('geometri', 'target'), ('sweep', 'target'), ('deform', 'target'), ('tomographi', 'target'), ('subdivis', 'target'), ('patch', 'target'), ('quaternion', 'target'), ('curv', 'target'), ('acceler', 'target'), ('presenc', 'target'), ('voxel-bas', 'target'), ('pen-and-ink', 'target'), ('scheme', 'target'), ('quasi-interpol', 'target'), ('iso-valu', 'target'), ('denois', 'target'), ('post-illumin', 'target'), ('tetrahed', 'target'), ('leap', 'target'), ('x-ray', 'target'), ('mont', 'target'), ('import', 'target'), ('nondestruct', 'target'), ('convolution-bas', 'target'), ('planetari', 'target'), ('indirect', 'target'), ('stereopsi', 'target'), ('radiograph', 'target'), ('realism', 'target'), ('multi-volum', 'target'), ('longest', 'target'), ('gto', 'target'), ('direct-touch', 'target'), ('model-bas', 'target'), ('defer', 'target'), ('cuda', 'target'), ('metal-artifact', 'target'), ('carbon', 'target'), ('reinforc', 'target'), ('mission', 'target'), ('bubbl', 'target')]\n",
      "[('genesi', 'query'), ('stabil', 'target')]\n",
      "[('geo-annot', 'query'), ('pixel-fil', 'target'), ('vortic', 'target'), ('scivi', 'target'), ('highlight', 'target'), ('orientation-enhanc', 'target')]\n",
      "[('geo', 'query'), ('framework', 'target'), ('spreadsheet', 'target'), ('scenario', 'target'), ('input-output', 'target'), ('collag', 'target'), ('visad', 'target'), ('risk', 'target'), ('editori', 'target'), ('investig', 'target'), ('decision-mak', 'target'), ('mpi', 'target'), ('dashboard', 'target'), ('insight-bas', 'target'), ('wall-display', 'target'), ('graph-level', 'target'), ('word-scal', 'target'), ('spectrum', 'target'), ('goal', 'target')]\n",
      "[('gephi', 'query'), ('tour', 'target'), ('dimension', 'target'), ('correspond', 'target'), ('class', 'target'), ('texture-bas', 'target'), ('out-of-core-method', 'target'), ('pixel-ori', 'target'), ('contract-bas', 'target'), ('storag', 'target'), ('seismic', 'target'), ('query-driven', 'target'), ('guid', 'target'), ('explod', 'target'), ('weight', 'target'), ('relation-bas', 'target'), ('top-down', 'target'), ('tour', 'target'), ('circular', 'target'), ('student', 'target'), ('enterpris', 'target'), ('conting', 'target'), ('verbal', 'target'), ('associ', 'target'), ('unsupervis', 'target'), ('what-if', 'target'), ('what-if', 'target'), ('auto-differenti', 'target'), ('subgroup', 'target')]\n",
      "[('german', 'query'), ('multi', 'target'), ('resolut', 'link'), ('slope', 'target'), ('bank', 'target'), ('resolut', 'link'), ('slope', 'target'), ('degre', 'target'), ('resolut', 'link'), ('slope', 'target'), ('aspect', 'target'), ('resolut', 'link'), ('slope', 'target')]\n",
      "[('good', 'query'), ('monitor', 'target'), ('worldmapp', 'target'), ('geo-tag', 'target'), ('spars', 'target'), ('microblog', 'target'), ('report', 'target'), ('scenario-bas', 'target'), ('media', 'link'), ('contagion', 'target'), ('live', 'target'), ('competit', 'target'), ('geo-tag', 'target'), ('map-lik', 'target')]\n",
      "[('gothic', 'query'), ('force-direct', 'target'), ('late', 'link'), ('cardiac', 'target'), ('pc-mri', 'target'), ('hemodynam', 'target'), ('aneurysm', 'target'), ('late', 'link'), ('mri', 'target'), ('theorem', 'target'), ('late', 'link'), ('cardiac', 'target'), ('pc-mri', 'target'), ('hemodynam', 'target'), ('inflow', 'target'), ('cerebr', 'target'), ('late', 'link'), ('cardiac', 'target'), ('pc-mri', 'target'), ('blood', 'target'), ('front', 'target'), ('late', 'link'), ('mri', 'target'), ('late', 'link'), ('cardiac', 'target'), ('pc-mri', 'target'), ('vortex', 'target'), ('late', 'link'), ('viabil', 'target'), ('blood-flow', 'target'), ('illustr', 'target'), ('cortic', 'target'), ('group', 'target'), ('late', 'link'), ('cardiac', 'target'), ('4d', 'target'), ('late', 'link'), ('spect', 'target'), ('late', 'link'), ('viabil', 'target'), ('enhanc', 'link'), ('inconsist', 'target'), ('late', 'link'), ('viabil', 'target'), ('enhanc', 'link'), ('silhouett', 'target'), ('late', 'link'), ('cardiac', 'target'), ('predic', 'target'), ('late', 'link'), ('cardiac', 'target'), ('late', 'link'), ('viabil', 'target'), ('valley', 'target'), ('ridg', 'target'), ('valley', 'target'), ('late', 'link'), ('cardiac', 'target'), ('coronari', 'target'), ('late', 'link'), ('cardiac', 'target'), ('coronari', 'target'), ('myocardi', 'target'), ('late', 'link'), ('viabil', 'target'), ('blood-flow', 'target'), ('probe', 'target'), ('lung', 'target'), ('late', 'link'), ('viabil', 'target'), ('blood-flow', 'target'), ('late', 'link'), ('cardiac', 'target'), ('4d', 'target'), ('focus-and-context', 'target'), ('late', 'link'), ('cardiac', 'target'), ('pc-mri', 'target'), ('hemodynam', 'target'), ('inflow', 'target'), ('zone', 'target'), ('late', 'link'), ('cardiac', 'target'), ('pc-mri', 'target'), ('hemodynam', 'target'), ('late', 'link'), ('cardiac', 'target'), ('pc-mri', 'target'), ('hemodynam', 'target'), ('inflow', 'target'), ('late', 'link'), ('cardiac', 'target'), ('pc-mri', 'target'), ('late', 'link'), ('mri', 'target'), ('reidemeist', 'target'), ('late', 'link'), ('mri', 'target'), ('streamsurfac', 'target')]\n",
      "[('hansard', 'query'), ('undo-redo', 'target')]\n",
      "[('historiographi', 'query'), ('psychophys', 'target'), ('anesthesia', 'target')]\n",
      "[('htrc', 'query'), ('geo-tempor', 'target'), ('session', 'target'), ('multi-rel', 'target'), ('locat', 'target'), ('billboard', 'target'), ('bitcoin', 'target')]\n",
      "[('humain', 'query'), ('facial', 'target'), ('cfd', 'target'), ('compact', 'target'), ('file', 'target'), ('steer', 'target'), ('geostatist', 'target'), ('problem', 'target'), ('entropi', 'target'), ('autostereoscopi', 'target'), ('mohr', 'target'), ('circl', 'target'), ('quantum', 'target'), ('lossless', 'target'), ('assembl', 'target'), ('solv', 'target'), ('anomal', 'target'), ('dichromaci', 'target'), ('isomorph', 'target'), ('csg', 'target'), ('evolv', 'target'), ('n-bodi', 'target'), ('fault', 'target'), ('simulation-ensembl', 'target'), ('epidem', 'target'), ('long', 'target')]\n",
      "[('hypergraph', 'query'), ('k-d', 'target'), ('essenti', 'target'), ('directx', 'target'), ('slider', 'target'), ('updat', 'target'), ('facet', 'target'), ('timelin', 'target'), ('streamgraph', 'target'), ('undo', 'target'), ('2d1/2', 'target'), ('multi-focus+context', 'target'), ('recal', 'target'), ('size', 'target'), ('egocentr', 'target')]\n",
      "[('id', 'query'), ('colon', 'link'), ('computer-aid', 'target'), ('colon', 'link'), ('ct', 'target'), ('control', 'target'), ('colon', 'link'), ('camera', 'target'), ('colon', 'link'), ('colonoscopi', 'target'), ('colon', 'link'), ('endoscopi', 'target'), ('colon', 'link'), ('flatten', 'target'), ('plaqu', 'target'), ('vessel', 'target'), ('colon', 'link'), ('colonoscopi', 'target'), ('centerlin', 'target'), ('colon', 'link'), ('parameter', 'target'), ('colon', 'link'), ('endoscopi', 'target'), ('partial', 'target'), ('colon', 'link'), ('flatten', 'target'), ('atla', 'target'), ('colon', 'link'), ('flatten', 'target'), ('colon', 'link'), ('tracheo-bronchi', 'target'), ('pituitari', 'target'), ('colon', 'link'), ('colonographi', 'target'), ('colon', 'link'), ('colonographi', 'target'), ('diagnosi', 'target'), ('colon', 'link'), ('colonoscopi', 'target'), ('polyp', 'target'), ('colon', 'link'), ('endoscopi', 'target'), ('sinu', 'target'), ('colon', 'link'), ('flatten', 'target'), ('plaqu', 'target'), ('colon', 'link'), ('shape-preserv', 'target'), ('colon', 'link'), ('flatten', 'target'), ('plaqu', 'target'), ('transcathet', 'target')]\n",
      "[('implic', 'query'), ('extens', 'target'), ('issu', 'target'), ('activity-cent', 'target'), ('domain', 'target'), ('bound', 'target'), ('genom', 'target'), ('life', 'target'), ('morphabl', 'target'), ('roadblock', 'target'), ('impact', 'target'), ('cybersecur', 'target'), ('activity-cent', 'target')]\n",
      "[('inclus', 'query'), ('line-integr', 'target'), ('advect', 'target'), ('volum', 'target'), ('icon', 'target'), ('grid', 'target'), ('critic', 'link'), ('streamlin', 'target'), ('line-integr', 'target'), ('fluid', 'target'), ('c1-interpol', 'target'), ('field', 'target'), ('line-integr', 'target'), ('tuft', 'target'), ('tetrahedr', 'target'), ('critic', 'link'), ('point', 'target'), ('perspect', 'link'), ('anti-alias', 'target'), ('distanc', 'target'), ('spline', 'target'), ('critic', 'link'), ('poisson', 'target'), ('disk', 'target'), ('grid', 'target'), ('unstructur', 'target'), ('hardwar', 'target'), ('line-integr', 'target'), ('advect', 'target'), ('unsteadi', 'target'), ('line-integr', 'target'), ('jitter', 'target'), ('c1-interpol', 'target'), ('opengl', 'target'), ('templat', 'target'), ('distribut', 'target'), ('critic', 'link'), ('poisson', 'target'), ('seed', 'target'), ('critic', 'link'), ('poisson', 'target'), ('voronoi', 'target'), ('plume', 'target'), ('critic', 'link'), ('poisson', 'target'), ('simplici', 'target'), ('genu', 'target'), ('pathlin', 'target'), ('trianlg', 'target'), ('line-integr', 'target'), ('combinatori', 'target'), ('mantl', 'target'), ('hyperstream-lin', 'target'), ('hyperstreamlin', 'target'), ('c1-interpol', 'target'), ('separatric', 'target'), ('perspect', 'link'), ('dither', 'target'), ('pre-integr', 'target'), ('hyperstream-lin', 'target'), ('degener', 'target'), ('c1-interpol', 'target'), ('separatric', 'target'), ('reaction-diffus', 'target'), ('perspect', 'link'), ('tetrahedra', 'target'), ('perspect', 'link'), ('dither', 'target'), ('hyperstream-lin', 'target'), ('hyperstream-lin', 'target'), ('degener', 'target'), ('trisector', 'target'), ('critic', 'link'), ('farthest', 'target'), ('perspect', 'link'), ('drr', 'target'), ('client-serv', 'target'), ('line-integr', 'target'), ('rheoscop', 'target'), ('porou', 'target'), ('c1-interpol', 'target'), ('separatric', 'target'), ('streak', 'target'), ('critic', 'link'), ('insect', 'target'), ('critic', 'link'), ('insect', 'target'), ('flight', 'target'), ('combinatori', 'target'), ('polyhedr', 'target'), ('quasi', 'target'), ('c1-interpol', 'target'), ('math', 'target'), ('c1-interpol', 'target'), ('isoclin', 'target'), ('c1-interpol', 'target'), ('cover', 'target'), ('branch', 'target'), ('c1-interpol', 'target'), ('cover', 'target'), ('line-integr', 'target'), ('advect', 'target'), ('unsteadi', 'target'), ('recircul', 'target'), ('hyperstream-lin', 'target'), ('degener', 'target'), ('neutral', 'target')]\n",
      "[('institut', 'query'), ('ray', 'target'), ('terrain', 'target'), ('transluc', 'target'), ('special', 'link'), ('rel', 'target'), ('four-dimension', 'target'), ('special', 'link'), ('rel', 'target'), ('plenopt', 'target'), ('special', 'link'), ('doppler', 'target'), ('preintegr', 'target'), ('special', 'link'), ('poincar', 'target'), ('special', 'link'), ('aberr', 'target'), ('time-ori', 'target')]\n",
      "[('interdisciplinar', 'query'), ('complet', 'target'), ('physically-bas', 'target'), ('neuron', 'target'), ('matter', 'target'), ('dt-mri', 'target'), ('complet', 'target'), ('white', 'target'), ('tractographi', 'target'), ('medicin', 'target'), ('complet', 'target'), ('white', 'target'), ('tractographi', 'target'), ('spectat', 'target'), ('nebula', 'target'), ('complet', 'target'), ('white', 'target'), ('matter', 'target'), ('complet', 'target'), ('white', 'target'), ('tractographi', 'target'), ('tract', 'target'), ('dust', 'target'), ('complet', 'target')]\n",
      "[('intermedia', 'query'), ('grammar-direct', 'target'), ('time-crit', 'target'), ('vascular', 'target'), ('nonmanifold', 'target'), ('fire', 'target'), ('maximum', 'target'), ('strain-rat', 'target'), ('slant', 'target'), ('rose', 'target'), ('vascular', 'target'), ('bikeshar', 'target'), ('persuas', 'target'), ('elabor', 'target'), ('multilinear', 'target'), ('human-cent', 'target'), ('replic', 'target')]\n",
      "[('intertextu', 'query'), ('prosthet', 'target'), ('prosthet', 'target'), ('heart', 'target'), ('valv', 'target'), ('health', 'target'), ('inject', 'target'), ('polar', 'target'), ('rail', 'target'), ('rate-of-deform', 'target'), ('dissimilar', 'target'), ('discours', 'target'), ('linguisit', 'target'), ('infrastructur', 'target'), ('datafram', 'target'), ('optimis', 'target'), ('drone', 'target'), ('details-first', 'target')]\n",
      "[('island', 'query'), ('memori', 'link'), ('larg', 'target'), ('blobbi', 'target'), ('dataset', 'target'), ('superscalar', 'target'), ('processor', 'target'), ('forecast', 'target'), ('memori', 'link'), ('extern', 'target'), ('memori', 'link'), ('lod', 'target'), ('memori', 'link'), ('prefetch', 'target'), ('coastal', 'target'), ('environment', 'target'), ('imageri', 'target'), ('memori', 'link'), ('phone', 'target'), ('www', 'target'), ('infovi', 'target'), ('memori', 'link'), ('share', 'target'), ('query-by-exampl', 'target'), ('analog', 'target'), ('mani', 'target'), ('summari', 'target'), ('geophys', 'target'), ('embellish', 'target'), ('jam', 'target'), ('memento', 'target')]\n",
      "[('itinerari', 'query'), ('match', 'link'), ('remot', 'target'), ('sens', 'target'), ('satellit', 'target'), ('program', 'link'), ('pan', 'target'), ('program', 'link'), ('hypertext', 'target'), ('stream', 'target'), ('polygon', 'target'), ('cam', 'target'), ('match', 'link'), ('descriptor', 'target'), ('curvatur', 'target'), ('match', 'link'), ('renderman', 'target'), ('gpu-acceler', 'target'), ('shader', 'target'), ('match', 'link'), ('descriptor', 'target'), ('match', 'link'), ('descriptor', 'target'), ('npr', 'target'), ('gpu-acceler', 'target'), ('autom', 'link'), ('answer', 'target')]\n",
      "[('jazz', 'query'), ('hierarch', 'target'), ('util', 'target')]\n",
      "[('justic', 'query'), ('focuss', 'target'), ('review', 'target'), ('configur', 'target'), ('prop', 'target'), ('molecular', 'target'), ('construct', 'target'), ('3dimension', 'target'), ('prop', 'target'), ('prop', 'target'), ('dna', 'target'), ('prop', 'target'), ('dna', 'target'), ('nano', 'target'), ('nanotechnolog', 'target'), ('testb', 'target'), ('prop', 'target'), ('dna', 'target'), ('nano', 'target')]\n",
      "[('laboring-class', 'query'), ('specif', 'target'), ('scatterplot', 'target'), ('referenc', 'target'), ('speadsheet', 'target'), ('acquisit', 'target'), ('widget', 'target'), ('synthet', 'target'), ('ecosystem', 'target'), ('nomin', 'target'), ('tradeoff', 'target'), ('subject', 'target'), ('insight', 'target'), ('flicker', 'target'), ('intersect', 'target'), ('two-surfac', 'target'), ('overview', 'target'), ('clean', 'target'), ('busi', 'target'), ('crop', 'target'), ('laboratori', 'target'), ('enron', 'target'), ('flexibilty-us', 'target'), ('fuzzi', 'target'), ('tabular', 'target'), ('mdmv', 'target'), ('synthet', 'target'), ('n-d', 'target'), ('coverag', 'target'), ('bertin', 'target'), ('expert', 'target'), ('confid', 'target'), ('decal', 'target'), ('mturk', 'target')]\n",
      "[('latin', 'query'), ('stress', 'target'), ('crowd', 'target'), ('laplacian', 'target'), ('anisotropi', 'target'), ('crowd', 'target')]\n",
      "[('lexic', 'query'), ('nonneg', 'target'), ('factor', 'target'), ('wavelet', 'target'), ('lipschitz', 'target'), ('floating-point', 'target'), ('compress', 'target'), ('stochast', 'target'), ('len', 'target'), ('fourier', 'target'), ('resampl', 'target'), ('transmiss', 'target'), ('nonneg', 'target'), ('magic', 'target'), ('floating-point', 'target'), ('code', 'target'), ('skeleton', 'target'), ('quantiz', 'target'), ('meta-data', 'target'), ('hyperslic', 'target'), ('block', 'target'), ('signal', 'target'), ('scale-invari', 'target'), ('dirichlet', 'target'), ('floating-point', 'target'), ('split', 'target'), ('nonneg', 'target'), ('waveletsat', 'target'), ('scagnost', 'target')]\n",
      "[('loc', 'query'), ('fcc', 'target'), ('crisi', 'target')]\n",
      "[('madrid', 'query'), ('3d-textur', 'target'), ('period', 'link'), ('confin', 'target'), ('magnet', 'target'), ('conform', 'target'), ('self-interfer', 'target'), ('primit', 'target'), ('recoveri', 'target'), ('interstellar', 'target'), ('period', 'link'), ('confin', 'target'), ('fish-ey', 'target'), ('geodemograph', 'target'), ('schematis', 'target'), ('volume-preserv', 'target'), ('surpris', 'target')]\n",
      "[('manuscript', 'query'), ('throughput', 'target')]\n",
      "[('mediev', 'query'), ('fit', 'target'), ('demograph', 'target'), ('energi', 'target'), ('demograph', 'target'), ('demand', 'target'), ('ellipsoid', 'target')]\n",
      "[('mesoamerica', 'query'), ('ultrasound', 'target'), ('opac', 'target'), ('landscap', 'link'), ('barrier', 'target')]\n",
      "[('ming', 'query'), ('bone', 'target'), ('event', 'link'), ('heath', 'target'), ('record', 'target'), ('gradient', 'target'), ('event', 'link'), ('outflow', 'target'), ('event', 'link'), ('heath', 'target'), ('event', 'link'), ('informat', 'target'), ('water', 'target'), ('event', 'link'), ('heath', 'target'), ('cohort', 'target'), ('event', 'link'), ('heath', 'target'), ('definit', 'target'), ('event', 'link'), ('clickstream', 'target')]\n",
      "[('miss', 'query'), ('multidimension', 'target'), ('multivari', 'target'), ('browser', 'target'), ('octre', 'target'), ('partial-volume-effect', 'target'), ('ray-cast', 'target'), ('probabl', 'target'), ('multi-valu', 'target'), ('partial-volume-effect', 'target'), ('tomograph', 'target'), ('point-bas', 'target'), ('imput', 'link'), ('time-seri', 'target'), ('captur', 'target'), ('multi-vari', 'target'), ('partial-volume-effect', 'target'), ('super', 'target'), ('density-bas', 'target'), ('confoc', 'target'), ('immunofluoresc', 'target'), ('multiwavelength', 'target'), ('astrophys', 'target'), ('super-splin', 'target'), ('dot', 'target'), ('olap', 'target'), ('forens', 'target'), ('autopsi', 'target'), ('outlier', 'target'), ('data-parallel', 'target'), ('fraud', 'target'), ('broadcast', 'target'), ('starplot', 'target'), ('sensor', 'target'), ('air', 'target'), ('multiwavelength', 'target'), ('topology-bas', 'target'), ('confoc', 'target'), ('neurobiolog', 'target'), ('financ', 'target'), ('self-organ', 'target'), ('multi-lay', 'target'), ('contigu', 'target'), ('transact', 'target'), ('linkag', 'target'), ('partial-volume-effect', 'target'), ('curve-centric-reform', 'target'), ('fractal', 'target'), ('permut', 'target'), ('glyph-bas', 'target'), ('multiform', 'target'), ('linewidth', 'target'), ('overlap', 'target'), ('start', 'target'), ('basebal', 'target'), ('multi-cor', 'target'), ('guidanc', 'target'), ('hsne', 'target'), ('univari', 'target'), ('bimanu', 'target')]\n",
      "[('monasteri', 'query'), ('weather', 'target'), ('station-bas', 'target'), ('observ', 'target'), ('station-bas', 'target'), ('spaghetti', 'target')]\n",
      "[('morphosyntact', 'query'), ('find', 'link'), ('morpholog', 'target'), ('deriv', 'target'), ('normal', 'link'), ('taylor', 'target'), ('cut', 'target'), ('normal', 'link'), ('strain', 'target'), ('normal', 'link'), ('shear', 'target'), ('normal', 'link'), ('anisotrop', 'target'), ('normal', 'link'), ('gouraud', 'target'), ('find', 'link'), ('c++', 'target'), ('demand-driven', 'target'), ('find', 'link'), ('c++', 'target'), ('demand-driven', 'target'), ('lazi', 'target'), ('find', 'link'), ('c++', 'target'), ('demand-driven', 'target'), ('python', 'target'), ('normal', 'link'), ('triangular', 'target'), ('exterior', 'target'), ('interior', 'target'), ('exterior', 'target'), ('remov', 'target'), ('normal', 'link'), ('strain', 'target'), ('anti-symmetr', 'target'), ('find', 'link'), ('c++', 'target'), ('find', 'link'), ('c++', 'target'), ('page', 'target'), ('find', 'link'), ('c++', 'target'), ('page', 'target'), ('ga', 'target'), ('programm', 'target'), ('find', 'link'), ('c++', 'target'), ('page', 'target'), ('ga', 'target'), ('find', 'link'), ('c++', 'target'), ('page', 'target'), ('roam', 'target'), ('exterior', 'target'), ('orient', 'target'), ('exterior', 'target'), ('find', 'link'), ('astronom', 'target'), ('aid', 'link'), ('comprehens', 'target'), ('information-guid', 'target'), ('aid', 'link'), ('summar', 'target'), ('coopetit', 'target'), ('development', 'target')]\n",
      "[('multilay', 'query'), ('altern', 'link'), ('collis', 'target'), ('altern', 'link'), ('least', 'target'), ('altern', 'link'), ('least', 'target'), ('squar', 'target'), ('degrad', 'target'), ('wall', 'target'), ('inspect', 'target'), ('altern', 'link'), ('knot', 'target'), ('flexibl', 'target'), ('altern', 'link'), ('knot', 'target'), ('famili', 'target'), ('high-resolut', 'target'), ('depict', 'target'), ('fluoresc', 'target'), ('just-in-tim', 'target'), ('altern', 'link'), ('scatter/gath', 'target'), ('degrad', 'target'), ('degrad', 'target'), ('ivu', 'target'), ('degrad', 'target'), ('thick', 'target')]\n",
      "[('multilingu', 'query'), ('boolean', 'target'), ('organ', 'link'), ('blur', 'target')]\n",
      "[('museographi', 'query'), ('metaphor', 'target'), ('basi', 'target'), ('ontolog', 'link'), ('clinic', 'target'), ('hierarchi', 'target'), ('standard', 'link'), ('abil', 'target'), ('individu', 'target'), ('desir', 'target'), ('effici', 'target'), ('tessel', 'target'), ('standard', 'link'), ('orthogon', 'target'), ('differenti', 'target'), ('botan', 'target'), ('botan', 'target'), ('huge', 'target'), ('sitemap', 'target'), ('slice', 'target'), ('2d', 'target'), ('slice', 'target'), ('train', 'target'), ('orthograph', 'target'), ('medial', 'target'), ('train', 'target'), ('orthograph', 'target'), ('axi', 'target'), ('standard', 'link'), ('differ', 'target'), ('c-apertur', 'target'), ('proteom', 'target'), ('combin', 'target'), ('elast', 'target'), ('combin', 'target'), ('standard', 'link'), ('abil', 'target'), ('mathemat', 'target'), ('radio', 'target'), ('standard', 'link'), ('abil', 'target'), ('individu', 'target'), ('desir', 'target'), ('standard', 'link'), ('abil', 'target'), ('individu', 'target'), ('desir', 'target'), ('engag', 'target'), ('standard', 'link'), ('abil', 'target'), ('individu', 'target'), ('vote', 'target'), ('elect', 'target'), ('medial', 'target'), ('left', 'target'), ('train', 'target'), ('train', 'target'), ('orthograph', 'target'), ('biplot', 'target'), ('phenom', 'target'), ('phenotyp', 'target'), ('antichain', 'target'), ('cross-sect', 'target'), ('catalog', 'target')]\n",
      "[('narratolog', 'query'), ('angiographi', 'target'), ('reform', 'target'), ('planar', 'target'), ('reform', 'target'), ('ewa', 'target'), ('solut', 'target'), ('fingerprint', 'target'), ('paramet', 'target'), ('chemistri', 'target'), ('back-project', 'target'), ('verifi', 'target'), ('neighborhood', 'target'), ('walker', 'target'), ('uncertain', 'target'), ('pareto', 'target'), ('high-cont', 'target'), ('hilbert', 'target'), ('bloom', 'target')]\n",
      "[('new', 'query'), ('predict', 'target')]\n",
      "[('nobil', 'query'), ('rout', 'target'), ('black-and-whit', 'target')]\n",
      "[('novel', 'query'), ('halo', 'target'), ('empir', 'target'), ('histogram', 'target'), ('consum', 'target'), ('eigenvector', 'target'), ('higher-ord', 'target'), ('signatur', 'target'), ('dw-mri', 'target'), ('stop', 'target'), ('stem', 'target'), ('fast-forward', 'target'), ('limit', 'target'), ('stagger', 'target'), ('proofread', 'target'), ('migrat', 'target'), ('gaze', 'target')]\n",
      "[('novelti', 'query'), ('diverg', 'target'), ('gap', 'target'), ('contourtre', 'target'), ('eyegaz', 'target'), ('seifert', 'target'), ('numeros', 'target'), ('monoscop', 'target'), ('synteni', 'target'), ('novic', 'target'), ('kullback-leibl', 'target'), ('proxem', 'target'), ('memor', 'target'), ('portfolio', 'target'), ('ground', 'target')]\n",
      "[('ocr', 'query'), ('macro', 'target'), ('spray', 'target'), ('brush', 'target'), ('link', 'link'), ('coordin', 'target'), ('multi-field', 'target'), ('metavisu', 'target'), ('interrog', 'target'), ('vehicl', 'target'), ('2.0', 'target'), ('metavisu', 'target'), ('biomechan', 'target'), ('instant', 'target'), ('metavisu', 'target'), ('inhomogen', 'target'), ('sea', 'target'), ('exampl', 'target'), ('macro', 'target')]\n",
      "[('pars', 'query'), ('implicit', 'target'), ('context', 'target'), ('raycast', 'target'), ('retriev', 'link'), ('repositori', 'target'), ('momentum', 'target'), ('sparklin', 'target'), ('feedback', 'link'), ('relev', 'target')]\n",
      "[('pedagogi', 'query'), ('narr', 'link'), ('rhetor', 'target'), ('frame', 'target'), ('narr', 'link'), ('rhetor', 'target'), ('effect', 'target'), ('narr', 'link'), ('rhetor', 'target'), ('narr', 'link'), ('rhetor', 'target'), ('semiot', 'target'), ('bookmark', 'target'), ('error-bas', 'target')]\n",
      "[('polit', 'query'), ('listen', 'target'), ('lifelog', 'target')]\n",
      "[('popular', 'query'), ('real-tim', 'target'), ('adapt', 'target')]\n",
      "[('practice-bas', 'query'), ('user-machin', 'target'), ('screen', 'target'), ('nest', 'target'), ('toolkit', 'target'), ('transpar', 'target'), ('screen-door', 'target'), ('transpar', 'target'), ('task', 'target'), ('non-photorealist', 'target'), ('perceptu', 'target'), ('ethnograph', 'target'), ('satisfact', 'target'), ('accuraci', 'target'), ('artifact', 'link'), ('salienc', 'target'), ('user-machin', 'target'), ('screen', 'target'), ('pda', 'target'), ('conjoint', 'target'), ('user-machin', 'target'), ('non-spati', 'target'), ('requir', 'target'), ('sketch', 'target'), ('hand-drawn', 'target'), ('goal-ori', 'target'), ('concret', 'target'), ('typolog', 'target'), ('lo-fidel', 'target'), ('user-centr', 'target'), ('rapid', 'target')]\n",
      "[('propoerti', 'query'), ('access', 'link'), ('cache-coher', 'target')]\n",
      "[('prosopographi', 'query'), ('cave', 'target'), ('homeland', 'target'), ('wikipedia', 'target'), ('involv', 'target')]\n",
      "[('protect', 'query'), ('minimum', 'target'), ('span', 'target')]\n",
      "[('queer', 'query'), ('scatter', 'target'), ('advanc', 'target'), ('shepard', 'target'), ('mpu', 'target'), ('synchron', 'target')]\n",
      "[('racial', 'query'), ('filter', 'target'), ('select', 'target'), ('placement', 'target'), ('consist', 'target'), ('realtim', 'target'), ('server', 'target'), ('label', 'link'), ('occlusion-fre', 'target'), ('consist', 'target'), ('consist', 'target'), ('hci', 'target'), ('nice', 'target'), ('oac', 'target')]\n",
      "[('religion', 'query'), ('variabl', 'target'), ('parametr', 'target'), ('ensembl', 'target'), ('boxplot', 'target'), ('band', 'target'), ('familiar', 'target')]\n",
      "[('renaiss', 'query'), ('rectangl', 'target'), ('edg', 'target'), ('pack', 'target'), ('rectangl', 'target'), ('bundl', 'target'), ('reorder', 'target'), ('recurr', 'target'), ('aasymmetr', 'target'), ('nois', 'target'), ('rectangl', 'target'), ('biclust', 'target'), ('rectangl', 'target')]\n",
      "[('reproduct', 'query'), ('non-manifold', 'target'), ('gabriel', 'target'), ('quadrat', 'target'), ('coulomb', 'target'), ('geometry-bas', 'target'), ('learning-from-crowd', 'target'), ('+', 'target')]\n",
      "[('reus', 'query'), ('clothmodel', 'target'), ('thin', 'target'), ('string', 'target'), ('evolutionari', 'target')]\n",
      "[('rhyme', 'query'), ('cooper', 'target'), ('sound', 'link'), ('room', 'target'), ('trace', 'target'), ('sound', 'link'), ('room', 'target'), ('phonon', 'target'), ('finit', 'target'), ('sound', 'link'), ('room', 'target'), ('phonon', 'target'), ('discontinu', 'target'), ('correl', 'target'), ('life-cycl', 'target'), ('sound', 'link'), ('room', 'target'), ('phonon', 'target'), ('spacetim', 'target'), ('think', 'link'), ('work', 'target'), ('sound', 'link'), ('room', 'target'), ('acoust', 'target'), ('sound', 'link'), ('room', 'target'), ('phonon', 'target'), ('finit', 'target'), ('high-ord', 'target'), ('spectral', 'target'), ('current', 'target'), ('veloc', 'target'), ('qualit', 'target'), ('sound', 'link'), ('room', 'target'), ('phonon', 'target'), ('pixel', 'target'), ('sound', 'link'), ('room', 'target'), ('phonon', 'target'), ('finit', 'target'), ('cut-plan', 'target'), ('sound', 'link'), ('room', 'target'), ('phonon', 'target'), ('pixel-exact', 'target'), ('sound', 'link'), ('room', 'target'), ('phonon', 'target'), ('finit', 'target'), ('galerkin', 'target'), ('sound', 'link'), ('aural', 'target'), ('sound', 'link'), ('room', 'target'), ('phonon', 'target'), ('sound', 'link'), ('room', 'target'), ('computer-support', 'target'), ('communication-mind', 'target'), ('esthet', 'link'), ('themeriv', 'target'), ('esthet', 'link'), ('lastfm', 'target'), ('sound', 'link'), ('room', 'target'), ('phonon', 'target'), ('finit', 'target'), ('high-ord', 'target'), ('sound', 'link'), ('room', 'target'), ('phonon', 'target'), ('finit', 'target'), ('gpu-bas', 'target'), ('assess', 'link'), ('guard', 'target'), ('transcript', 'target'), ('benchmark', 'target'), ('sound', 'link'), ('room', 'target'), ('ospray', 'target')]\n",
      "[('r', 'query'), ('interactom', 'target'), ('workflow', 'link'), ('state-transition-bas', 'target')]\n",
      "[('road', 'query'), ('scanlin', 'target'), ('curvilinear', 'target'), ('irregular', 'target'), ('invari', 'target'), ('synthesi', 'target'), ('scene', 'target'), ('oceanographi', 'target'), ('preattent', 'target'), ('multiscal', 'target'), ('multi-level', 'target'), ('watersh', 'target'), ('gaussian', 'target'), ('internet', 'target'), ('feature-extract', 'target'), ('swirl', 'target'), ('bifurc', 'target'), ('feature-bas', 'target'), ('cool', 'target'), ('core', 'target'), ('disclin', 'target'), ('liquid', 'target'), ('nemat', 'target'), ('liquid', 'target'), ('traceless', 'target'), ('smoke', 'target'), ('object', 'link'), ('lie', 'target'), ('join', 'target'), ('pariti', 'target'), ('gestalt', 'target'), ('rotat', 'target'), ('galilean', 'target'), ('redesign', 'target'), ('object', 'link'), ('kill', 'target'), ('corelin', 'target')]\n",
      "[('roll', 'query'), ('estim', 'target'), ('motion', 'target'), ('star', 'target'), ('latenc', 'target'), ('rdf', 'target'), ('coarea', 'target'), ('radviz', 'target'), ('conjunct', 'target'), ('opinion', 'target'), ('de-nois', 'target'), ('relationship', 'target'), ('angular', 'target'), ('small-multipl', 'target'), ('set-typ', 'target'), ('opinion', 'target'), ('influenc', 'target'), ('user-author', 'target')]\n",
      "[('russian', 'query'), ('metric', 'link'), ('multiphas', 'target'), ('quadric', 'target'), ('detail', 'target'), ('recurs', 'target'), ('metric', 'link'), ('multiphas', 'target'), ('simplif', 'target'), ('partit', 'target'), ('massiv', 'target'), ('out-of-cor', 'target'), ('metric', 'link'), ('multiphas', 'target'), ('mesh', 'target'), ('metric', 'link'), ('multiphas', 'target'), ('quadric', 'target'), ('appearance-preserv', 'target'), ('triangl', 'target'), ('metric', 'link'), ('multiphas', 'target'), ('quadric', 'target'), ('appearance-preserv', 'target'), ('triangl', 'target'), ('bintre', 'target'), ('metric', 'link'), ('multiphas', 'target'), ('quadric', 'target'), ('detail', 'target'), ('view-depend', 'target'), ('metric', 'link'), ('multiphas', 'target'), ('multiresoluton', 'target'), ('frame-to-fram', 'target'), ('cache-awar', 'target'), ('coher', 'target'), ('metric', 'link'), ('multiphas', 'target'), ('quadric', 'target'), ('appearance-preserv', 'target'), ('triangl', 'target'), ('greedi', 'target'), ('metric', 'link'), ('multiphas', 'target'), ('quadric', 'target'), ('multiresolut', 'target'), ('error', 'target'), ('metric', 'link'), ('multiphas', 'target'), ('quadric', 'target'), ('metric', 'link'), ('multiphas', 'target'), ('quadric', 'target'), ('contract', 'target'), ('cach', 'target'), ('metric', 'link'), ('multiphas', 'target'), ('quadric', 'target'), ('contract', 'target'), ('decim', 'target'), ('massiv', 'target'), ('semi-regular', 'target'), ('massiv', 'target'), ('sort', 'target'), ('isometr', 'target'), ('metric', 'link'), ('multiphas', 'target'), ('rheolog', 'target'), ('metric', 'link'), ('multiphas', 'target'), ('quadric', 'target'), ('appearance-preserv', 'target'), ('triangl', 'target'), ('bintre', 'target'), ('binari', 'target'), ('metric', 'link'), ('multiphas', 'target'), ('quadric', 'target'), ('appearance-preserv', 'target'), ('metric', 'link'), ('multiphas', 'target'), ('multiresoluton', 'target'), ('matrix', 'target'), ('mean-shift', 'target'), ('spectrometri', 'target'), ('cache-awar', 'target'), ('remesh', 'target'), ('dendrogram', 'target'), ('dendrogram', 'target'), ('compound', 'target'), ('continuum', 'target')]\n",
      "[('scientometr', 'query'), ('preload', 'target'), ('hardware-acceler', 'target'), ('earth-spac', 'target'), ('non-rectilinear', 'target'), ('earth', 'target'), ('embodi', 'target'), ('pixel-bas', 'target'), ('dual-scal', 'target'), ('systemat', 'target'), ('crowd-sourc', 'target'), ('glanceabl', 'target'), ('histolog', 'target'), ('at-a-gl', 'target')]\n",
      "[('semi-automat', 'query'), ('semi', 'target'), ('higraph', 'target'), ('multi-inst', 'target')]\n",
      "[('shakespear', 'query'), ('homolog', 'link'), ('oct-tre', 'target'), ('voxel', 'target'), ('homolog', 'link'), ('oct-tre', 'target'), ('level', 'target'), ('homolog', 'link'), ('oct-tre', 'target'), ('set', 'target'), ('homolog', 'link'), ('approxim', 'target'), ('homolog', 'link'), ('plant', 'target'), ('separ', 'target'), ('betti', 'target'), ('betti', 'target'), ('number', 'target'), ('arc', 'target'), ('bard', 'target'), ('cliqu', 'target'), ('reeb', 'target'), ('homolog', 'link'), ('oct-tre', 'target'), ('array', 'target'), ('homolog', 'link'), ('oct-tre', 'target'), ('cliqu', 'target'), ('spine', 'target'), ('cliqu', 'target')]\n",
      "[('slave', 'query'), ('sense-mak', 'target'), ('dens', 'target'), ('rfid', 'target'), ('forum', 'target'), ('disambigu', 'target')]\n",
      "[('sociolinguist', 'query'), ('categori', 'target'), ('home', 'target'), ('demonstr', 'target')]\n",
      "[('sociolog', 'query'), ('character', 'target')]\n",
      "[('spam', 'query'), ('time', 'target'), ('blog', 'link'), ('nonlinear', 'target'), ('blog', 'link'), ('seri', 'target'), ('blog', 'link'), ('detect', 'target'), ('blog', 'link'), ('time-depend', 'target'), ('arbitrari', 'target'), ('blog', 'link'), ('anomali', 'target'), ('blog', 'link'), ('breakdown', 'target'), ('multi-attribut', 'target'), ('blog', 'link'), ('trend', 'target'), ('blog', 'link'), ('timetre', 'target'), ('blog', 'link'), ('movement', 'target'), ('blog', 'link'), ('skin', 'target'), ('blog', 'link'), ('hosvd', 'target'), ('blog', 'link'), ('subdtw', 'target'), ('blog', 'link'), ('e-transact', 'target'), ('blog', 'link'), ('turbin', 'target'), ('blog', 'link'), ('aloud', 'target'), ('blog', 'link'), ('street', 'target')]\n",
      "[('stain', 'query'), ('materi', 'link'), ('complex', 'target'), ('discret', 'target'), ('biomed', 'target'), ('relight', 'target'), ('light', 'target'), ('morph', 'target'), ('many-cor', 'target'), ('colour', 'target'), ('hartley', 'target'), ('composit', 'target'), ('architectur', 'link'), ('compat', 'target'), ('occlus', 'target'), ('architectur', 'link'), ('warp', 'target'), ('architectur', 'link'), ('compat', 'target'), ('depth', 'target'), ('clip', 'target'), ('architectur', 'link'), ('walkthrough', 'target'), ('kurtosi', 'target'), ('tensor', 'target'), ('muscl', 'target'), ('diffus', 'target'), ('eulerian', 'target'), ('boundari', 'target'), ('barycentr', 'target'), ('oceanograph', 'target'), ('fiber', 'target'), ('hybrid', 'target'), ('fine', 'target'), ('solid', 'target'), ('materi', 'link'), ('morse-smal', 'target'), ('fragment', 'target'), ('electro-holographi', 'target'), ('object-ord', 'target'), ('empti', 'target'), ('accur', 'target'), ('sample-bas', 'target'), ('relight', 'target'), ('cross-slit', 'target'), ('spheric', 'target'), ('cluster-bas', 'target'), ('valid', 'target'), ('indic', 'target'), ('kurtosi', 'target'), ('harmon', 'target'), ('morphometr', 'target'), ('materi', 'link'), ('mors', 'target'), ('reson', 'target'), ('materi', 'link'), ('wavefront', 'target'), ('extremum', 'target'), ('muscl', 'target'), ('many-cor', 'target'), ('gigapixel', 'target'), ('viewer', 'target'), ('kurtosi', 'target'), ('approach', 'target'), ('object-ord', 'target')]\n",
      "[('stemmatolog', 'query'), ('parallel', 'target')]\n",
      "[('surrog', 'query'), ('principl', 'target'), ('scroll', 'target')]\n",
      "[('syntax', 'query'), ('isosurfac', 'target'), ('interpol', 'target'), ('shape-plend', 'target'), ('function', 'target'), ('variat', 'link'), ('sub-divis', 'target'), ('refin', 'target'), ('pde', 'target'), ('transfer', 'target'), ('independ', 'target'), ('variat', 'link'), ('fair', 'target'), ('freehand', 'target'), ('variat', 'link'), ('sub-divis', 'target'), ('variat', 'link'), ('total', 'target'), ('example-bas', 'target'), ('knowledge-assist', 'target')]\n",
      "[('t-sne', 'query'), ('hue', 'target'), ('clutter', 'target'), ('non-linear', 'target'), ('numer', 'target'), ('refer', 'target'), ('whole', 'target'), ('subspac', 'target'), ('radar', 'target'), ('optic', 'target'), ('numer', 'target'), ('mass', 'target'), ('overplot', 'target'), ('retin', 'target'), ('multiperspect', 'target'), ('observation-level', 'target'), ('radiofrequ', 'target'), ('sub-dimension', 'target'), ('coron', 'target'), ('stationari', 'target'), ('eject', 'target'), ('boost', 'target')]\n",
      "[('tei', 'query'), ('wrinklemodel', 'target')]\n",
      "[('temporospati', 'query'), ('photogrammetri', 'link'), ('wind', 'target'), ('textur', 'target'), ('vectorfield', 'target'), ('photogrammetri', 'link'), ('wind', 'target'), ('photogrammetri', 'link'), ('wind', 'target'), ('particl', 'target'), ('photogrammetri', 'link'), ('integr', 'link'), ('finite-tim', 'target'), ('expon', 'target'), ('photogrammetri', 'link'), ('tunnel', 'target'), ('photogrammetri', 'link'), ('wind', 'target'), ('oil', 'target'), ('photogrammetri', 'link'), ('vrml', 'target'), ('photogrammetri', 'link'), ('fusion', 'target'), ('boid', 'target'), ('astronomi', 'target'), ('cosmolog', 'target'), ('photogrammetri', 'link'), ('wind', 'target'), ('particl', 'target'), ('ftle', 'target'), ('hyperspectr', 'target'), ('lagrangian', 'target'), ('photogrammetri', 'link'), ('wind', 'target'), ('particl', 'target'), ('inerti', 'target'), ('context-awar', 'target'), ('photogrammetri', 'link'), ('integr', 'link'), ('finite-tim', 'target')]\n",
      "[('tesseract', 'query'), ('connected', 'target'), ('image-bas', 'target'), ('connected', 'target')]\n",
      "[('testament', 'query'), ('mainten', 'target'), ('dark', 'target')]\n",
      "[('text-imag', 'query'), ('align', 'link'), ('tile', 'target'), ('display', 'target'), ('align', 'link'), ('photometr', 'target'), ('geometr', 'target'), ('align', 'link'), ('automat', 'target'), ('align', 'link'), ('stitch', 'target'), ('protein', 'target'), ('ribbon', 'target'), ('fold', 'target'), ('thread', 'target'), ('ribbon', 'target'), ('ribbon', 'target'), ('acid', 'target'), ('align', 'link'), ('blend', 'target'), ('align', 'link'), ('large-format', 'target'), ('calibr', 'target'), ('align', 'link'), ('large-format', 'target'), ('camera-bas', 'target'), ('align', 'link'), ('large-format', 'target'), ('registr', 'target'), ('ribbon', 'target'), ('acid', 'target'), ('ribonucl', 'target'), ('cast', 'target'), ('align', 'link'), ('tile', 'target'), ('align', 'link'), ('format', 'target'), ('align', 'link'), ('seamless', 'target'), ('align', 'link'), ('large-format', 'target'), ('align', 'link'), ('photometr', 'target'), ('multi-projector', 'target'), ('sort-middl', 'target'), ('align', 'link'), ('photometr', 'target'), ('multi-projector', 'target'), ('ribbon', 'target'), ('acid', 'target'), ('rna', 'target'), ('align', 'link'), ('photometr', 'target'), ('multi-projector', 'target'), ('projector-camera', 'target'), ('align', 'link'), ('photometr', 'target'), ('ribbon', 'target'), ('acid', 'target'), ('ribonucl', 'target'), ('cast', 'target'), ('phong', 'target'), ('align', 'link'), ('photometr', 'target'), ('multi-projector', 'target'), ('sort-middl', 'target'), ('gesture-bas', 'target'), ('ribbon', 'target'), ('acid', 'target'), ('ribonucl', 'target')]\n",
      "[('three-dimension', 'query'), ('devic', 'target'), ('microscopi', 'target'), ('telepres', 'target'), ('immers', 'link'), ('panoram', 'target'), ('immers', 'link'), ('intens', 'target'), ('multi-resolut', 'target'), ('four', 'target'), ('mix', 'target'), ('meteorolog', 'target'), ('tele-immers', 'target'), ('four', 'target'), ('cognit', 'target'), ('stereo', 'target'), ('external-memori', 'target'), ('respons', 'target'), ('cartograph', 'target'), ('damag', 'target'), ('ubiquit', 'target'), ('devic', 'target'), ('wall-siz', 'target'), ('multi-us', 'target'), ('realiti', 'link'), ('acuiti', 'target'), ('four', 'target'), ('mix', 'target'), ('omit', 'target'), ('tactil', 'target'), ('four', 'target'), ('mix', 'target'), ('decoy', 'target'), ('four', 'target'), ('mix', 'target'), ('initi', 'target'), ('devic', 'target'), ('multi-display', 'target'), ('devic', 'target'), ('wall-siz', 'target'), ('olfact', 'target'), ('four', 'target')]\n",
      "[('tolstoy', 'query'), ('wordl', 'target')]\n",
      "[('tortur', 'query'), ('cull', 'target'), ('card', 'target'), ('ambient', 'target'), ('calm', 'target'), ('sustain', 'target'), ('pursuit', 'target'), ('origin-destin', 'target')]\n",
      "[('transmedia', 'query'), ('workshop', 'target')]\n",
      "[('txm', 'query'), ('hatch', 'target'), ('domain-specif', 'target'), ('pragmat', 'target'), ('distribution-bas', 'target')]\n",
      "[('ukiyo-', 'query'), ('calcul', 'target'), ('glyph', 'target'), ('rake', 'target'), ('region', 'target'), ('region', 'target'), ('revers', 'target'), ('isocontour', 'target'), ('iso-surfac', 'target'), ('multi-dimension', 'target'), ('scalar', 'target'), ('interv', 'target'), ('manifold', 'target'), ('time-vari', 'target'), ('geodes', 'target'), ('symmetri', 'target'), ('combust', 'target'), ('amr', 'target'), ('verif', 'target'), ('grow', 'target'), ('riemannian', 'target'), ('neurovascular', 'target'), ('multifield', 'target'), ('warm', 'target'), ('soar', 'target'), ('theroy', 'target'), ('largest', 'target'), ('creas', 'target'), ('event-bas', 'target'), ('speci', 'target'), ('brushing+link', 'target'), ('superconductor', 'target'), ('iso-contour', 'target'), ('atmospher', 'target'), ('jet-stream', 'target'), ('copula', 'target'), ('k-anonym', 'target'), ('asymptot', 'target'), ('atmospher', 'target'), ('hypothet', 'target')]\n",
      "[('uniti', 'query'), ('rang', 'target'), ('data-flow', 'target'), ('impost', 'target'), ('high-perform', 'target'), ('disast', 'target'), ('disast', 'target'), ('sketch-bas', 'target')]\n",
      "[('user-test', 'query'), ('develop', 'link'), ('mesoscal', 'target'), ('supercomput', 'target'), ('climat', 'target'), ('web', 'link'), ('wide', 'target'), ('develop', 'link'), ('situ', 'target'), ('stall', 'target'), ('increment', 'target'), ('develop', 'link'), ('situ', 'target'), ('stall', 'target'), ('mixtur', 'target'), ('develop', 'link'), ('mesoscal', 'target'), ('supercomput', 'target'), ('ocean', 'target'), ('develop', 'link'), ('mesoscal', 'target'), ('supercomput', 'target'), ('develop', 'link'), ('mesoscal', 'target'), ('supercomput', 'target'), ('concurr', 'target'), ('develop', 'link'), ('mesoscal', 'target'), ('supercomput', 'target'), ('concurr', 'target'), ('hurrican', 'target'), ('heterogen', 'target'), ('develop', 'link'), ('situ', 'target'), ('develop', 'link'), ('mesoscal', 'target'), ('develop', 'link'), ('situ', 'target'), ('stall', 'target'), ('liter', 'target')]\n",
      "[('willa', 'query'), ('value-by-area', 'target'), ('constrain', 'target'), ('cartogram', 'target'), ('value-by-area', 'target'), ('themat', 'target'), ('lic', 'target'), ('forward', 'target'), ('level-set', 'target'), ('signific', 'target'), ('digimap', 'target'), ('proport', 'target'), ('spiral', 'target'), ('metro', 'target'), ('mercat', 'target'), ('heuristic-bas', 'target'), ('gabor', 'target'), ('choropleth', 'target'), ('autocorrel', 'target')]\n",
      "[('women', 'query'), ('traffic', 'target'), ('bipartit', 'link'), ('descript', 'target'), ('load', 'target'), ('bipartit', 'link'), ('length', 'target')]\n",
      "[('zipf', 'query'), ('law', 'link'), ('enforc', 'target'), ('law', 'link'), ('bayesian', 'target'), ('law', 'link'), ('season', 'target'), ('law', 'link'), ('weber', 'target'), ('hexahedr', 'target')]\n"
     ]
    }
   ],
   "source": [
    "all_paths = [v['path'] for k,v in paths_by_dest.items()]\n",
    "\n",
    "merged_paths_sorted = sorted(merge_subs(all_paths), key=sortFn)\n",
    "\n",
    "for p in merged_paths_sorted:\n",
    "    print([(indx2keyword_c[j], trace_stem(indx2keyword_c[j])) for j in (p)])"
   ]
  },
  {
   "cell_type": "code",
   "execution_count": 25,
   "metadata": {
    "colab": {
     "base_uri": "https://localhost:8080/",
     "height": 2452
    },
    "colab_type": "code",
    "id": "0b3Zb7S1u6-E",
    "outputId": "cae17680-022c-42c9-b7c6-310d4335cbe7"
   },
   "outputs": [
    {
     "name": "stdout",
     "output_type": "stream",
     "text": [
      "[('aboriginal', 'query'), ('unified', 'target'), ('unified', 'target'), ('input', 'target'), ('atomic', 'target'), ('echography', 'target'), ('levels-of-detail', 'target'), ('teleoperation', 'target'), ('teleoperation', 'target'), ('haptic/haptics', 'target'), ('haptic/haptics', 'target'), ('crossing', 'target'), ('sphere', 'target'), ('sphere', 'target'), ('terascale', 'target'), ('world-wide-web', 'target'), ('pdm', 'target'), ('wayfinding', 'target'), ('shock', 'target'), ('forcefeedback', 'target'), ('projector/projectors', 'target'), ('pc', 'target'), ('inverse', 'target'), ('inverse', 'target'), ('head', 'target'), ('surgical', 'target'), ('hysteroscopy', 'target'), ('shear-warp', 'target'), ('speech', 'target'), ('6-dof', 'target'), ('kinematics', 'target'), ('anatomic', 'target'), ('sections', 'target'), ('sections', 'target'), ('carving', 'target'), ('seam', 'target')]\n",
      "[('academic', 'query'), ('writing', 'link'), ('writing', 'link'), ('writing', 'link'), ('writing', 'link'), ('writing', 'link'), ('manipulation/manipulators', 'target'), ('contour/contours/contouring', 'target'), ('magnification', 'target'), ('data-driven', 'target'), ('data-driven', 'target'), ('data-mining', 'target'), ('oracles/oracle', 'target'), ('inter-cell', 'target'), ('dependencies/dependent', 'target'), ('diagrams/diagram/diagraming', 'target'), ('color/coloring', 'target'), ('logical/logic', 'target'), ('conversations/conversion/conversation', 'target'), ('discussions/discussion', 'target'), ('mail', 'target'), ('mail', 'target'), ('email', 'target'), ('luminance', 'target'), ('ryb', 'target'), ('meta', 'target'), ('traversal', 'target'), ('pseudo', 'target'), ('substrate', 'target'), ('weaving', 'target'), ('residue', 'target'), ('intent', 'target'), ('whiteboards/whiteboard', 'target'), ('considerations', 'target'), ('pen', 'target'), ('touch', 'target'), ('ambiguity', 'target'), ('theoretical', 'target'), ('prewriting', 'target'), ('prewriting', 'target'), ('prewriting', 'target'), ('prewriting', 'target')]\n",
      "[('ancient', 'query'), ('multi-touch', 'target')]\n",
      "[('apps', 'query'), ('crowdsourcing/crowdsourced', 'link'), ('crowdsourcing/crowdsourced', 'link'), ('crowdsourcing/crowdsourced', 'link'), ('crowdsourcing/crowdsourced', 'link'), ('crowdsourcing/crowdsourced', 'link'), ('probabilistic', 'target'), ('reasoning', 'target'), ('euler', 'target'), ('euler', 'target'), ('rate', 'target'), ('fallacy', 'target'), ('improvement', 'target')]\n",
      "[('arabic', 'query'), ('fiction', 'link'), ('interlinked', 'target')]\n",
      "[('armenian', 'query'), ('varying', 'target'), ('merging/merge', 'target'), ('constraints/constraint', 'target'), ('attribute-driven', 'target'), ('population', 'target')]\n",
      "[('audio', 'query'), ('instrumentality/instrument', 'link'), ('literacy', 'link'), ('literacy', 'link'), ('measure/measurement/measures', 'target'), ('non-destructive', 'target'), ('rasch', 'target')]\n",
      "[('audiovisual', 'query'), ('collections/collection/collective', 'link'), ('collections/collection/collective', 'link'), ('collections/collection/collective', 'link'), ('collections/collection/collective', 'link'), ('collections/collection/collective', 'link'), ('collections/collection/collective', 'link'), ('workspace', 'target'), ('workspace', 'target'), ('workspace', 'target'), ('intelligent/intelligence', 'target'), ('co-located', 'target'), ('foraging', 'target'), ('entity-based', 'target'), ('entity-based', 'target'), ('entity-based', 'target'), ('entity-based', 'target'), ('entity-based', 'target'), ('entity-based', 'target'), ('meta-visualization', 'target'), ('meta-visualization', 'target'), ('similan', 'target'), ('note', 'target'), ('note', 'target'), ('note', 'target'), ('tabletop', 'target'), ('tabletop', 'target'), ('treatment', 'target')]\n",
      "[('augustan-era', 'query'), ('worlds/world', 'target'), ('backchannel', 'target')]\n",
      "[('australian', 'query'), ('travel', 'link'), ('travel', 'link'), ('gpu/gpus', 'target'), ('godel', 'target'), ('universe', 'target'), ('binding', 'target')]\n",
      "[('barcodes', 'query'), ('expansion', 'target'), ('two-handed', 'target'), ('stereoscopic', 'target'), ('fill/filling', 'target'), ('abstraction', 'target'), ('content-actor', 'target'), ('iterative/iteration', 'target'), ('patent', 'target'), ('declarative', 'target'), ('wizard', 'target'), ('overdraw', 'target'), ('soccer', 'target'), ('inquiry', 'target'), ('interviews/interview', 'target'), ('question', 'target')]\n",
      "[('bayerisches', 'query'), ('online', 'link'), ('musicians', 'link'), ('performance', 'target'), ('fantasy', 'target'), ('bracket', 'target'), ('picks/picking', 'target')]\n",
      "[('betham', 'query'), ('volumetric', 'target'), ('deformablemodels', 'target'), ('neuroscience', 'target'), ('image-swept', 'target'), ('causal/causality', 'target'), ('causal/causality', 'target'), ('computerassisted', 'target'), ('problemsolving', 'target'), ('cause', 'target'), ('emergency', 'target'), ('multitemporal', 'target'), ('hypothesis', 'target'), ('sensitivity', 'target'), ('competing', 'target'), ('competing', 'target'), ('hypotheses', 'target'), ('connectome/connectomics', 'target'), ('meta-flow', 'target'), ('meta-flow', 'target'), ('petascale', 'target'), ('petascale', 'target'), ('petascale', 'target'), ('high-throughput', 'target'), ('high-throughput', 'target'), ('evidence', 'target'), ('building', 'target'), ('tennis', 'target'), ('trust', 'target'), ('radiomics', 'target'), ('starcraft', 'target'), ('wide-field', 'target')]\n",
      "[('bibliography', 'query'), ('close/closed', 'link'), ('close/closed', 'link'), ('close/closed', 'link'), ('close/closed', 'link'), ('close/closed', 'link'), ('close/closed', 'link'), ('close/closed', 'link'), ('close/closed', 'link'), ('close/closed', 'link'), ('close/closed', 'link'), ('close/closed', 'link'), ('topic/topics', 'link'), ('topic/topics', 'link'), ('cartesiangrid', 'target'), ('cartesiangrid', 'target'), ('cartesiangrid', 'target'), ('cartesiangrid', 'target'), ('cartesiangrid', 'target'), ('cartesiangrid', 'target'), ('cartesiangrid', 'target'), ('cartesiangrid', 'target'), ('cartesiangrid', 'target'), ('body', 'target'), ('centered/centering', 'target'), ('cubic', 'target'), ('cubic', 'target'), ('cubic', 'target'), ('cubic', 'target'), ('cubic', 'target'), ('cubic', 'target'), ('lattice', 'target'), ('propagation', 'target'), ('body-centered', 'target'), ('allocation', 'target'), ('face-centered', 'target'), ('face-centered', 'target'), ('atomistic', 'target'), ('evenly-spaced', 'target'), ('strategy', 'target'), ('box', 'target'), ('latent', 'target'), ('latent', 'target')]\n",
      "[('biography/biographies', 'query'), ('fisheye', 'target'), ('zoom/zooming', 'target'), ('internet-based', 'target'), ('photic', 'target'), ('suggestive/suggestion/suggested', 'target'), ('suggestive/suggestion/suggested', 'target'), ('suggestive/suggestion/suggested', 'target'), ('wiki/wikis', 'target'), ('schematic/schematics', 'target'), ('k-means', 'target'), ('wysiwyg', 'target'), ('funnel', 'target'), ('vector-scaling', 'target'), ('vector-scaling', 'target'), ('vector-scaling', 'target'), ('perceived', 'target'), ('perceived', 'target'), ('perceived', 'target'), ('perceived', 'target')]\n",
      "[('black', 'query'), ('drug', 'target'), ('cielab', 'target'), ('ornithology', 'target'), ('token', 'target'), ('mutual', 'target'), ('tacit', 'target'), ('agency', 'target')]\n",
      "[('characters/character', 'query'), ('level-of-detail', 'target'), ('non-rigid', 'target'), ('zoomable', 'target'), ('pad++', 'target'), ('moving/moves', 'target'), ('bioinformatics/bioinformatic', 'target'), ('multi-scale', 'target'), ('expressive/expression/expressiveness/expressions', 'target'), ('microarrays/microarray', 'target'), ('multiple-views/multiple-view', 'target'), ('hardware-assisted', 'target'), ('car', 'target'), ('structure-aware', 'target'), ('auto', 'target'), ('gene', 'target'), ('profiling', 'target'), ('multi-timepoint', 'target')]\n",
      "[('co-retweet', 'query'), ('twitter', 'link'), ('co-citation', 'link'), ('co-citation', 'link'), ('co-citation', 'link'), ('co-citation', 'link'), ('tree/trees', 'target'), ('pathfinder', 'target'), ('pathfinder', 'target'), ('pathfinder', 'target'), ('geography-based', 'target'), ('controversy', 'target'), ('controversy', 'target'), ('controversy', 'target'), ('duplications', 'target'), ('paper-reference', 'target'), ('socialnetsense', 'target'), ('mood', 'target'), ('interreflections', 'target'), ('tree-based', 'target')]\n",
      "[('cohesion', 'query'), ('biology/biological/biologic', 'target'), ('focus', 'target'), ('pathway/pathways', 'target'), ('pathway/pathways', 'target'), ('multi-representation', 'target'), ('multi-representation', 'target'), ('salient', 'target'), ('identifiable', 'target'), ('waves/wave', 'target'), ('quasi-tree', 'target'), ('quasi-tree', 'target'), ('quasi-tree', 'target'), ('quasi-tree', 'target'), ('quasi-tree', 'target'), ('acyclic', 'target'), ('tuboids', 'target'), ('scale-free', 'target'), ('legal', 'target'), ('menus/menu', 'target'), ('marking', 'target'), ('marking', 'target'), ('treenetviz', 'target'), ('regulation', 'target'), ('strategic', 'target'), ('supergraph', 'target'), ('subsets/subset', 'target'), ('biomolecular', 'target'), ('biomolecular', 'target'), ('biomolecular', 'target'), ('biomolecular', 'target'), ('regulatory', 'target'), ('regulatory', 'target'), ('regulatory', 'target'), ('isoforms', 'target'), ('isoforms', 'target'), ('large-neighborhood', 'target'), ('rule-based', 'target')]\n",
      "[('collation', 'query'), ('storyline/storylines', 'link'), ('storyline/storylines', 'link'), ('force', 'link'), ('force', 'link'), ('force', 'link'), ('algebraic/algebra', 'target'), ('multigrid', 'target'), ('multigrid', 'target'), ('multilevel', 'target'), ('majorization/majority', 'target'), ('story-telling', 'target'), ('vast', 'target')]\n",
      "[('colocation', 'query'), ('revert', 'target'), ('asynchronous', 'target'), ('oculus', 'target'), ('handoff', 'target')]\n",
      "[('conference', 'query'), ('survey', 'link'), ('survey', 'link'), ('survey', 'link'), ('survey', 'link'), ('survey', 'link'), ('survey', 'link'), ('survey', 'link'), ('survey', 'link'), ('survey', 'link'), ('survey', 'link'), ('survey', 'link'), ('survey', 'link'), ('survey', 'link'), ('survey', 'link'), ('survey', 'link'), ('survey', 'link'), ('survey', 'link'), ('survey', 'link'), ('power', 'link'), ('triangulation/triangulated/triangulations', 'target'), ('triangulation/triangulated/triangulations', 'target'), ('components/component', 'target'), ('singularities/singularity/singular', 'target'), ('value', 'target'), ('epipolar', 'target'), ('delaunay', 'target'), ('delaunay', 'target'), ('taxonomy/taxonomies', 'target'), ('linear/linearity', 'target'), ('linear/linearity', 'target'), ('linear/linearity', 'target'), ('linear/linearity', 'target'), ('optimization/optimal/optimality', 'target'), ('higher-dimensional', 'target'), ('ordering/order/ordered/orders', 'target'), ('ordering/order/ordered/orders', 'target'), ('layered/layers/layer/layering', 'target'), ('plane/planes', 'target'), ('tubing/tubes/tube', 'target'), ('symmetric', 'target'), ('non-regular', 'target'), ('speed', 'target'), ('cell-projection', 'target'), ('principal', 'target'), ('colormaps/colormapping/colormap', 'target'), ('colormaps/colormapping/colormap', 'target'), ('colormaps/colormapping/colormap', 'target'), ('colormaps/colormapping/colormap', 'target'), ('colormaps/colormapping/colormap', 'target'), ('colormaps/colormapping/colormap', 'target'), ('isoluminance', 'target'), ('parallelogram', 'target'), ('dimension', 'target'), ('quantification', 'target'), ('regularity/regular/regularization', 'target'), ('coupling/couple', 'target'), ('higher', 'target'), ('dimensionality-reduction', 'target'), ('dimensionality-reduction', 'target'), ('dimensionality-reduction', 'target'), ('discriminant/discriminative', 'target'), ('discriminant/discriminative', 'target'), ('discriminant/discriminative', 'target'), ('discriminant/discriminative', 'target'), ('discriminant/discriminative', 'target'), ('discriminant/discriminative', 'target'), ('discriminant/discriminative', 'target'), ('discriminant/discriminative', 'target'), ('discriminant/discriminative', 'target'), ('discriminant/discriminative', 'target'), ('centroidal/centroid', 'target'), ('centroidal/centroid', 'target'), ('centroidal/centroid', 'target'), ('real', 'target'), ('smoothing/smooth/smoothed/smoothness', 'target'), ('smoothing/smooth/smoothed/smoothness', 'target'), ('smoothing/smooth/smoothed/smoothness', 'target'), ('smoothing/smooth/smoothed/smoothness', 'target'), ('smoothing/smooth/smoothed/smoothness', 'target'), ('smoothing/smooth/smoothed/smoothness', 'target'), ('smoothing/smooth/smoothed/smoothness', 'target'), ('smoothing/smooth/smoothed/smoothness', 'target'), ('smoothing/smooth/smoothed/smoothness', 'target'), ('guaranteed', 'target'), ('guaranteed', 'target'), ('guaranteed', 'target'), ('guaranteed', 'target'), ('guaranteed', 'target'), ('guaranteed', 'target'), ('quality', 'target'), ('dti', 'target'), ('decomposition', 'target'), ('moment', 'target'), ('moment', 'target'), ('human-in-the-loop', 'target'), ('hydrodynamics', 'target'), ('lineups', 'target'), ('fluctuation', 'target'), ('nonparametric', 'target'), ('seismological', 'target'), ('uniformity', 'target'), ('uniformity', 'target'), ('uniformity', 'target'), ('uniformity', 'target'), ('uniformity', 'target'), ('uniformity', 'target'), ('uniformity', 'target'), ('uniformity', 'target'), ('uniformity', 'target'), ('uniformity', 'target'), ('uniformity', 'target'), ('uniformity', 'target'), ('uniformity', 'target'), ('uniformity', 'target'), ('bit', 'target')]\n",
      "[('conservation', 'query'), ('areas/area', 'link'), ('areas/area', 'link'), ('bezier', 'target'), ('marching', 'target'), ('cubes/cube', 'target'), ('cubes/cube', 'target'), ('cubes/cube', 'target'), ('cubes/cube', 'target'), ('splatting', 'target'), ('table/tables', 'target'), ('extremality/extremal', 'target'), ('bandwidth-limited', 'target'), ('resource', 'target'), ('aggregation/aggregated/aggregate', 'target'), ('antialiasing', 'target'), ('shading', 'target'), ('rectilinear', 'target'), ('encoding/encodings', 'target'), ('illuminated/illumination', 'target'), ('plasma', 'target'), ('tokamak', 'target'), ('shadow/shadows', 'target'), ('gauss', 'target'), ('orbit', 'target'), ('cancer', 'target'), ('raytracing', 'target'), ('photon', 'target'), ('photon', 'target'), ('heat', 'target'), ('heat', 'target'), ('feature-temporal', 'target'), ('texton', 'target'), ('interest/interesting', 'target'), ('vandv', 'target'), ('rectangular', 'target'), ('mechanical/mechanics', 'target'), ('area-preserving/area-preservation', 'target'), ('chaos', 'target'), ('exponential', 'target'), ('shape-based', 'target'), ('monge-brenier', 'target'), ('gradient-free', 'target'), ('eye-tracking', 'target'), ('space-time', 'target'), ('space-time', 'target'), ('space-time', 'target'), ('space-time', 'target'), ('space-time', 'target'), ('motion-compensated', 'target'), ('motion-compensated', 'target'), ('motion-compensated', 'target'), ('tone', 'target'), ('summed', 'target'), ('summed', 'target'), ('summed', 'target'), ('summed', 'target'), ('summed', 'target'), ('epidemiology', 'target'), ('refraction', 'target'), ('multiclass', 'target')]\n",
      "[('cooccurrences', 'query'), ('mr', 'target'), ('brain', 'target'), ('brain', 'target'), ('multi-modal/multi-modality', 'target'), ('spectroscopy', 'target')]\n",
      "[('coword', 'query'), ('sankey', 'target'), ('journalism', 'target'), ('end-user', 'target'), ('solvent', 'target')]\n",
      "[('crossinstitutional', 'query'), ('guidelines', 'link'), ('guidelines', 'link'), ('guidelines', 'link'), ('guidelines', 'link'), ('guidelines', 'link'), ('guidelines', 'link'), ('guidelines', 'link'), ('guidelines', 'link'), ('guidelines', 'link'), ('best', 'link'), ('best', 'link'), ('best', 'link'), ('mosaic', 'target'), ('lines/line', 'target'), ('physics/physical/physically/physicalization', 'target'), ('multiple/multiples', 'target'), ('conditional/conditioning', 'target'), ('eda', 'target'), ('bivariate', 'target'), ('small', 'target'), ('geovista', 'target'), ('logarithm/logarithmic', 'target'), ('charts/chart', 'target'), ('ranking/rankings/rank', 'target'), ('joint', 'target'), ('behavior/behavioral', 'target'), ('braided', 'target'), ('braided', 'target'), ('braided', 'target'), ('braided', 'target'), ('braided', 'target'), ('horizon', 'target'), ('horizon', 'target'), ('horizon', 'target'), ('stacked/stacks/stacking/stack', 'target'), ('multi-facet/multi-faceted', 'target'), ('bar', 'target'), ('bar', 'target'), ('scoring', 'target'), ('scoring', 'target'), ('scoring', 'target'), ('magnitude', 'target'), ('whitespace', 'target'), ('shape-changing', 'target'), ('manometry', 'target'), ('constraint-based', 'target'), ('colorfields', 'target')]\n",
      "[('diachronic', 'query'), ('change/changes', 'link'), ('co-occurrence/co-occurrences', 'link'), ('el', 'target'), ('sculptures', 'target'), ('telco', 'target'), ('multitouch', 'target')]\n",
      "[('diplomatic', 'query'), ('themes', 'target'), ('co-clustering', 'target')]\n",
      "[('disaggregation', 'query'), ('progressive/progression', 'target'), ('frequency', 'target')]\n",
      "[('drama', 'query'), ('p2p', 'target'), ('matrix-based', 'target')]\n",
      "[('dramatic/dramatization', 'query'), ('pairwise', 'target')]\n",
      "[('dunhuang', 'query'), ('flow/flowing/flows', 'target'), ('segmentation/segmented', 'target'), ('popout', 'target')]\n",
      "[('editor', 'query'), ('concept/concepts', 'link'), ('concept/concepts', 'link'), ('expected', 'target'), ('common', 'target'), ('spring', 'target'), ('spring', 'target'), ('spring', 'target'), ('cue/cues', 'target'), ('cue/cues', 'target'), ('mds', 'target'), ('mds', 'target'), ('mds', 'target'), ('mds', 'target'), ('embedders/embedder', 'target'), ('proximity', 'target'), ('matrices', 'target'), ('node-link', 'target'), ('contact', 'target'), ('ajax', 'target'), ('ajax', 'target'), ('confusion', 'target'), ('interdomain', 'target'), ('results/result', 'target'), ('color-contrast', 'target'), ('deficiency', 'target'), ('recoloring', 'target'), ('seeking', 'target'), ('incomplete', 'target'), ('exemplar', 'target'), ('hasse', 'target'), ('hasse', 'target'), ('photos', 'target'), ('ui', 'target')]\n",
      "[('eigenpages', 'query'), ('industry', 'link'), ('factorial/factory', 'link'), ('factorial/factory', 'link'), ('factorial/factory', 'link'), ('smart', 'target'), ('radial', 'target'), ('physics-based', 'target'), ('drawing', 'target'), ('node', 'target'), ('congestion', 'target'), ('rigid', 'target'), ('overlay/overlays', 'target'), ('timeseries', 'target'), ('vie', 'target'), ('turbulence', 'target'), ('identification', 'target'), ('user-generated', 'target'), ('topolayout', 'target'), ('motif', 'target'), ('mutations', 'target'), ('marey', 'target'), ('marey', 'target'), ('marey', 'target'), ('subgraph', 'target'), ('focus-context', 'target'), ('details-on-demand', 'target')]\n",
      "[('encyclopedia', 'query'), ('modular', 'target'), ('modular', 'target'), ('dataflow', 'target'), ('paradigm', 'target'), ('security', 'target'), ('lenses', 'target'), ('financial', 'target'), ('market', 'target'), ('automotive', 'target'), ('adjacency', 'target'), ('readability', 'target'), ('intrusion', 'target'), ('play', 'target'), ('world-in-miniature', 'target'), ('wormhole', 'target'), ('attacks/attack', 'target'), ('attacks/attack', 'target'), ('concentration', 'target'), ('betweenness', 'target'), ('centrality/centralized', 'target'), ('grand', 'target'), ('knolwedge', 'target'), ('triage', 'target'), ('confluent', 'target'), ('vulnerability', 'target')]\n",
      "[('entity', 'query'), ('named/names/name', 'link'), ('named/names/name', 'link'), ('categorization/categorical', 'target'), ('cross-filtered', 'target'), ('google', 'target')]\n",
      "[('epigraphy', 'query'), ('painting/paintings', 'target'), ('upwind', 'target'), ('intrinsic', 'target'), ('vertex', 'target'), ('characteristic/characteristics', 'target'), ('frangi', 'target')]\n",
      "[('epub', 'query'), ('book', 'link'), ('book', 'link'), ('ebooks', 'target'), ('scent/scented', 'target')]\n",
      "[('fabrication', 'query'), ('story', 'target')]\n",
      "[('faces', 'query'), ('sampling/sample/sampled', 'target'), ('experimental/experimentation', 'target'), ('large-scale', 'target'), ('active/activity', 'target'), ('debugging', 'target'), ('rule', 'target'), ('call', 'target'), ('recommendations/recommendation/recommender', 'target'), ('artificial', 'target'), ('situation/situational/situated', 'target'), ('awareness/aware', 'target'), ('explanatory', 'target'), ('attention/attentionally', 'target'), ('random', 'target'), ('inference', 'target'), ('applied', 'target'), ('privacy', 'target'), ('retweeting', 'target'), ('mixed-initiative', 'target'), ('healthcare', 'target'), ('chromosome', 'target'), ('peer', 'target'), ('blue', 'target'), ('blue', 'target'), ('graphlet', 'target'), ('visual-interactive', 'target'), ('anonymization/anonymity', 'target'), ('lstm', 'target'), ('explainability/explainable', 'target'), ('explainability/explainable', 'target'), ('adversarial', 'target'), ('q-network', 'target'), ('forests/forest', 'target'), ('forests/forest', 'target'), ('forests/forest', 'target'), ('forests/forest', 'target'), ('forests/forest', 'target'), ('forests/forest', 'target'), ('user-steerable', 'target'), ('vis4ml', 'target')]\n",
      "[('feminism/feminisms', 'query'), ('public/publications', 'link'), ('public/publications', 'link'), ('artists/artistic', 'link'), ('artists/artistic', 'link'), ('technology', 'target'), ('walk-up-and-use', 'target'), ('dissemination', 'target'), ('globe', 'target')]\n",
      "[('feminist', 'query'), ('making/make', 'link'), ('making/make', 'link'), ('making/make', 'link'), ('making/make', 'link'), ('making/make', 'link'), ('making/make', 'link'), ('decision/decisions', 'target'), ('alleviating/alleviation', 'target'), ('evidence-based', 'target'), ('low-dimensional', 'target'), ('attraction', 'target'), ('strip', 'target'), ('multi-objective', 'target'), ('anchoring', 'target'), ('skyline', 'target')]\n",
      "[('fennica', 'query'), ('techniques/technique', 'target'), ('midi', 'target'), ('portable', 'target'), ('object-oriented', 'target')]\n",
      "[('floor', 'query'), ('medical', 'target'), ('surgery', 'target'), ('cells/cell', 'target'), ('comparative', 'target'), ('hardy', 'target'), ('continuity/continuous', 'target'), ('transport/transportation', 'target'), ('density', 'target'), ('computer-assisted', 'target'), ('crack', 'target'), ('static', 'target'), ('scheduling/schedule/schedules', 'target'), ('support', 'target'), ('formula', 'target'), ('multi-threading', 'target'), ('implant/implantation', 'target'), ('kernel', 'target'), ('foundations', 'target'), ('raster', 'target')]\n",
      "[('french', 'query'), ('variance', 'link'), ('variance', 'link'), ('variance', 'link'), ('variance', 'link'), ('dual', 'target'), ('dual', 'target'), ('locality/local', 'target'), ('dect', 'target'), ('enzo', 'target')]\n",
      "[('full', 'query'), ('browsing', 'link'), ('browsing', 'link'), ('browsing', 'link'), ('browsing', 'link'), ('browsing', 'link'), ('browsing', 'link'), ('browsing', 'link'), ('browsing', 'link'), ('browsing', 'link'), ('browsing', 'link'), ('browsing', 'link'), ('browsing', 'link'), ('browsing', 'link'), ('relations/relational/related', 'link'), ('store', 'link'), ('multimedia', 'target'), ('distortion', 'target'), ('focus+context', 'target'), ('high-dimensional', 'target'), ('navigation', 'target'), ('treemaps/treemap', 'target'), ('spatio-temporal', 'target'), ('multi-camera', 'target'), ('space-filling', 'target'), ('multi-focus', 'target'), ('structure-based', 'target'), ('surveillance', 'target'), ('stock', 'target'), ('expand-ahead', 'target'), ('drill-down', 'target'), ('drill-down', 'target'), ('drill-down', 'target'), ('drill-down', 'target'), ('drill-down', 'target'), ('drill-down', 'target'), ('genealogy/genealogies', 'target'), ('multi-trees', 'target'), ('trajectory/trajectories', 'target'), ('news', 'target'), ('pedigree', 'target'), ('taxi', 'target'), ('discoverage', 'target'), ('key-value', 'target'), ('road-based', 'target'), ('rsvp', 'target'), ('distance-similarity', 'target')]\n",
      "[('galeazza', 'query'), ('geometry', 'target'), ('sweeping/sweep', 'target'), ('deformation/deformable/deformations', 'target'), ('tomography', 'target'), ('subdivision', 'target'), ('patches', 'target'), ('quaternions', 'target'), ('curves/curve/curved', 'target'), ('acceleration', 'target'), ('presence', 'target'), ('voxel-based', 'target'), ('pen-and-ink', 'target'), ('schemes/scheme', 'target'), ('quasi-interpolation', 'target'), ('iso-values', 'target'), ('denoising', 'target'), ('post-illumination', 'target'), ('tetrahedal', 'target'), ('leaping', 'target'), ('x-ray', 'target'), ('monte', 'target'), ('importance', 'target'), ('nondestructive', 'target'), ('convolution-based', 'target'), ('planetary', 'target'), ('indirect', 'target'), ('stereopsis', 'target'), ('radiograph/radiographs', 'target'), ('realism', 'target'), ('multi-volume', 'target'), ('longest', 'target'), ('gto', 'target'), ('direct-touch', 'target'), ('model-based', 'target'), ('deferred', 'target'), ('cuda', 'target'), ('metal-artifact', 'target'), ('carbon', 'target'), ('reinforced/reinforcement', 'target'), ('mission', 'target'), ('bubble', 'target')]\n",
      "[('genesis', 'query'), ('stability', 'target')]\n",
      "[('geo-annotation', 'query'), ('pixel-filling', 'target'), ('vorticity/vortices', 'target'), ('scivis', 'target'), ('highlighting', 'target'), ('orientation-enhanced', 'target')]\n",
      "[('geo', 'query'), ('framework/frameworks', 'target'), ('spreadsheet/spreadsheets', 'target'), ('scenario', 'target'), ('input-output', 'target'), ('collage', 'target'), ('visad', 'target'), ('risk', 'target'), ('editorial', 'target'), ('investigative/investigation', 'target'), ('decision-making', 'target'), ('mpi', 'target'), ('dashboards', 'target'), ('insight-based', 'target'), ('wall-displays', 'target'), ('graph-level', 'target'), ('word-scale', 'target'), ('spectrum', 'target'), ('goals', 'target')]\n",
      "[('gephi', 'query'), ('dimensionality/dimensional', 'target'), ('correspondence/correspondents', 'target'), ('classing', 'target'), ('texture-based', 'target'), ('out-of-core-methods', 'target'), ('pixel-oriented', 'target'), ('contract-based', 'target'), ('storage', 'target'), ('seismic', 'target'), ('query-driven', 'target'), ('guided', 'target'), ('exploded', 'target'), ('weighting', 'target'), ('relation-based', 'target'), ('top-down', 'target'), ('tour', 'target'), ('tour', 'target'), ('circular', 'target'), ('student', 'target'), ('enterprise', 'target'), ('contingency', 'target'), ('verbal', 'target'), ('association', 'target'), ('unsupervised', 'target'), ('what-if', 'target'), ('what-if', 'target'), ('auto-differentiation', 'target'), ('subgroup', 'target')]\n",
      "[('german', 'query'), ('resolution/resolutions', 'link'), ('resolution/resolutions', 'link'), ('resolution/resolutions', 'link'), ('resolution/resolutions', 'link'), ('multi', 'target'), ('banking', 'target'), ('degrees/degree', 'target'), ('aspect', 'target'), ('slope', 'target'), ('slope', 'target'), ('slope', 'target'), ('slope', 'target')]\n",
      "[('good', 'query'), ('media', 'link'), ('monitoring/monitor', 'target'), ('worldmapper', 'target'), ('sparse/sparsely', 'target'), ('microblogging/microblog', 'target'), ('reporting', 'target'), ('scenario-based', 'target'), ('contagion', 'target'), ('live', 'target'), ('competition', 'target'), ('geo-tagged', 'target'), ('geo-tagged', 'target'), ('map-like', 'target')]\n",
      "[('gothic', 'query'), ('enhancement', 'link'), ('enhancement', 'link'), ('late', 'link'), ('late', 'link'), ('late', 'link'), ('late', 'link'), ('late', 'link'), ('late', 'link'), ('late', 'link'), ('late', 'link'), ('late', 'link'), ('late', 'link'), ('late', 'link'), ('late', 'link'), ('late', 'link'), ('late', 'link'), ('late', 'link'), ('late', 'link'), ('late', 'link'), ('late', 'link'), ('late', 'link'), ('late', 'link'), ('late', 'link'), ('late', 'link'), ('late', 'link'), ('late', 'link'), ('late', 'link'), ('force-directed', 'target'), ('aneurysm/aneurysms', 'target'), ('theorem', 'target'), ('cerebral', 'target'), ('blood', 'target'), ('front/fronts', 'target'), ('mri', 'target'), ('mri', 'target'), ('mri', 'target'), ('mri', 'target'), ('vortex', 'target'), ('illustration/illustrative/illustrations', 'target'), ('cortical', 'target'), ('grouping/group', 'target'), ('4d', 'target'), ('4d', 'target'), ('spect', 'target'), ('inconsistent', 'target'), ('silhouette/silhouettes', 'target'), ('predicates/predicate', 'target'), ('cardiac', 'target'), ('cardiac', 'target'), ('cardiac', 'target'), ('cardiac', 'target'), ('cardiac', 'target'), ('cardiac', 'target'), ('cardiac', 'target'), ('cardiac', 'target'), ('cardiac', 'target'), ('cardiac', 'target'), ('cardiac', 'target'), ('cardiac', 'target'), ('cardiac', 'target'), ('cardiac', 'target'), ('viability', 'target'), ('viability', 'target'), ('viability', 'target'), ('viability', 'target'), ('viability', 'target'), ('viability', 'target'), ('ridge/ridges', 'target'), ('valleys/valley', 'target'), ('valleys/valley', 'target'), ('coronary', 'target'), ('coronary', 'target'), ('myocardial', 'target'), ('probes/probing', 'target'), ('lung', 'target'), ('blood-flow', 'target'), ('blood-flow', 'target'), ('blood-flow', 'target'), ('focus-and-context', 'target'), ('zone', 'target'), ('hemodynamic/hemodynamics', 'target'), ('hemodynamic/hemodynamics', 'target'), ('hemodynamic/hemodynamics', 'target'), ('hemodynamic/hemodynamics', 'target'), ('hemodynamic/hemodynamics', 'target'), ('inflow', 'target'), ('inflow', 'target'), ('inflow', 'target'), ('pc-mri', 'target'), ('pc-mri', 'target'), ('pc-mri', 'target'), ('pc-mri', 'target'), ('pc-mri', 'target'), ('pc-mri', 'target'), ('pc-mri', 'target'), ('pc-mri', 'target'), ('reidemeister', 'target'), ('streamsurfaces', 'target')]\n",
      "[('hansard', 'query'), ('undo-redo', 'target')]\n",
      "[('historiography', 'query'), ('psychophysical/psychophysics', 'target'), ('anesthesia', 'target')]\n",
      "[('htrc', 'query'), ('geo-temporal', 'target'), ('session', 'target'), ('multi-relational', 'target'), ('location/locations', 'target'), ('billboard', 'target'), ('bitcoin', 'target')]\n",
      "[('humaine', 'query'), ('facial', 'target'), ('cfd', 'target'), ('compact/compaction', 'target'), ('file', 'target'), ('steering', 'target'), ('geostatistics', 'target'), ('problem', 'target'), ('entropy', 'target'), ('autostereoscopy', 'target'), ('mohr', 'target'), ('circles/circle', 'target'), ('quantum', 'target'), ('lossless', 'target'), ('assembly', 'target'), ('solving', 'target'), ('anomalous', 'target'), ('dichromacy', 'target'), ('isomorph', 'target'), ('csg', 'target'), ('evolver', 'target'), ('n-body', 'target'), ('fault', 'target'), ('simulation-ensemble', 'target'), ('epidemic', 'target'), ('long', 'target')]\n",
      "[('hypergraph', 'query'), ('k-d', 'target'), ('essential', 'target'), ('directx', 'target'), ('slider', 'target'), ('updating', 'target'), ('faceted', 'target'), ('timeline/timelines', 'target'), ('streamgraph', 'target'), ('undo', 'target'), ('2d1/2', 'target'), ('multi-focus+context', 'target'), ('recall', 'target'), ('size', 'target'), ('egocentric', 'target')]\n",
      "[('ids', 'query'), ('colonized/colon', 'link'), ('colonized/colon', 'link'), ('colonized/colon', 'link'), ('colonized/colon', 'link'), ('colonized/colon', 'link'), ('colonized/colon', 'link'), ('colonized/colon', 'link'), ('colonized/colon', 'link'), ('colonized/colon', 'link'), ('colonized/colon', 'link'), ('colonized/colon', 'link'), ('colonized/colon', 'link'), ('colonized/colon', 'link'), ('colonized/colon', 'link'), ('colonized/colon', 'link'), ('colonized/colon', 'link'), ('colonized/colon', 'link'), ('colonized/colon', 'link'), ('colonized/colon', 'link'), ('computer-aided', 'target'), ('ct', 'target'), ('control/controlled', 'target'), ('camera', 'target'), ('colonoscopy', 'target'), ('colonoscopy', 'target'), ('colonoscopy', 'target'), ('endoscopy', 'target'), ('endoscopy', 'target'), ('endoscopy', 'target'), ('vessel/vessels', 'target'), ('centerlines/centerline', 'target'), ('parameterization/parameterized', 'target'), ('partial', 'target'), ('atlas', 'target'), ('flattening', 'target'), ('flattening', 'target'), ('flattening', 'target'), ('flattening', 'target'), ('flattening', 'target'), ('tracheo-bronchial', 'target'), ('pituitary', 'target'), ('colonography', 'target'), ('colonography', 'target'), ('diagnosis', 'target'), ('polyp', 'target'), ('sinus', 'target'), ('plaque', 'target'), ('plaque', 'target'), ('plaque', 'target'), ('shape-preserving', 'target'), ('transcatheter', 'target')]\n",
      "[('implications', 'query'), ('extensible/extensibility', 'target'), ('issues', 'target'), ('domain', 'target'), ('bounded/bounding', 'target'), ('genomics/genome', 'target'), ('life', 'target'), ('morphable', 'target'), ('roadblock', 'target'), ('impact', 'target'), ('cybersecurity', 'target'), ('activity-centered', 'target'), ('activity-centered', 'target')]\n",
      "[('inclusion', 'query'), ('critical/criticism/critically', 'link'), ('critical/criticism/critically', 'link'), ('critical/criticism/critically', 'link'), ('critical/criticism/critically', 'link'), ('critical/criticism/critically', 'link'), ('critical/criticism/critically', 'link'), ('critical/criticism/critically', 'link'), ('critical/criticism/critically', 'link'), ('critical/criticism/critically', 'link'), ('perspectives/perspective', 'link'), ('perspectives/perspective', 'link'), ('perspectives/perspective', 'link'), ('perspectives/perspective', 'link'), ('perspectives/perspective', 'link'), ('advection', 'target'), ('advection', 'target'), ('advection', 'target'), ('volume/volumes', 'target'), ('iconic/icons', 'target'), ('grid/grids', 'target'), ('grid/grids', 'target'), ('streamlines/streamline', 'target'), ('fluid/fluids', 'target'), ('field/fields', 'target'), ('tufts', 'target'), ('tetrahedralization/tetrahedral/tetrahedrization', 'target'), ('points/point', 'target'), ('anti-aliasing', 'target'), ('distance', 'target'), ('spline/splines', 'target'), ('disk', 'target'), ('unstructured', 'target'), ('hardware', 'target'), ('unsteady', 'target'), ('unsteady', 'target'), ('jitter/jittered', 'target'), ('c1-interpolation', 'target'), ('c1-interpolation', 'target'), ('c1-interpolation', 'target'), ('c1-interpolation', 'target'), ('c1-interpolation', 'target'), ('c1-interpolation', 'target'), ('c1-interpolation', 'target'), ('c1-interpolation', 'target'), ('c1-interpolation', 'target'), ('opengl', 'target'), ('template/templates', 'target'), ('distributed/distribution', 'target'), ('seed/seeding', 'target'), ('voronoi', 'target'), ('plume/plumes', 'target'), ('poisson', 'target'), ('poisson', 'target'), ('poisson', 'target'), ('poisson', 'target'), ('simplicial', 'target'), ('genus', 'target'), ('pathlines', 'target'), ('trianlge', 'target'), ('line-integral', 'target'), ('line-integral', 'target'), ('line-integral', 'target'), ('line-integral', 'target'), ('line-integral', 'target'), ('line-integral', 'target'), ('line-integral', 'target'), ('line-integral', 'target'), ('combinatorial', 'target'), ('combinatorial', 'target'), ('mantle', 'target'), ('hyperstreamlines/hyperstreamline', 'target'), ('separatrices', 'target'), ('separatrices', 'target'), ('separatrices', 'target'), ('pre-integrated/pre-integration', 'target'), ('degenerate', 'target'), ('degenerate', 'target'), ('degenerate', 'target'), ('reaction-diffusion', 'target'), ('tetrahedra', 'target'), ('dithering', 'target'), ('dithering', 'target'), ('hyperstream-lines', 'target'), ('hyperstream-lines', 'target'), ('hyperstream-lines', 'target'), ('hyperstream-lines', 'target'), ('hyperstream-lines', 'target'), ('trisectors', 'target'), ('farthest', 'target'), ('drr', 'target'), ('client-server', 'target'), ('rheoscopic', 'target'), ('porous', 'target'), ('streak', 'target'), ('insect', 'target'), ('insect', 'target'), ('flight', 'target'), ('polyhedral', 'target'), ('quasi', 'target'), ('math', 'target'), ('isocline', 'target'), ('branch/branched', 'target'), ('covering', 'target'), ('covering', 'target'), ('recirculation', 'target'), ('neutral', 'target')]\n",
      "[('institutional', 'query'), ('special', 'link'), ('special', 'link'), ('special', 'link'), ('special', 'link'), ('special', 'link'), ('ray/rays', 'target'), ('terrain/terrains', 'target'), ('translucent/translucence', 'target'), ('four-dimensional', 'target'), ('relativity', 'target'), ('relativity', 'target'), ('plenoptic', 'target'), ('doppler', 'target'), ('preintegration/preintegrated', 'target'), ('poincare', 'target'), ('aberration', 'target'), ('time-oriented', 'target')]\n",
      "[('interdisciplinarity', 'query'), ('physically-based', 'target'), ('neuronal/neuron', 'target'), ('dt-mri', 'target'), ('medicine', 'target'), ('tractography', 'target'), ('tractography', 'target'), ('tractography', 'target'), ('spectating', 'target'), ('nebulae/nebula', 'target'), ('white', 'target'), ('white', 'target'), ('white', 'target'), ('white', 'target'), ('matter', 'target'), ('matter', 'target'), ('tracts', 'target'), ('dust', 'target'), ('completion', 'target'), ('completion', 'target'), ('completion', 'target'), ('completion', 'target'), ('completion', 'target'), ('completion', 'target')]\n",
      "[('intermedia', 'query'), ('grammar-directed', 'target'), ('time-critical', 'target'), ('nonmanifold', 'target'), ('fire', 'target'), ('maximum', 'target'), ('strain-rate', 'target'), ('slant', 'target'), ('rose', 'target'), ('vascular', 'target'), ('vascular', 'target'), ('bikeshare', 'target'), ('persuasive/persuasion', 'target'), ('elaboration', 'target'), ('multilinear', 'target'), ('human-centered', 'target'), ('replication', 'target')]\n",
      "[('intertextuality', 'query'), ('prosthetic', 'target'), ('prosthetic', 'target'), ('heart', 'target'), ('valves/valve', 'target'), ('health', 'target'), ('injection', 'target'), ('polar', 'target'), ('rail', 'target'), ('rate-of-deformation', 'target'), ('dissimilarity', 'target'), ('discourse', 'target'), ('linguisitics', 'target'), ('infrastructure/infrastructures', 'target'), ('dataframe', 'target'), ('optimisation', 'target'), ('drones', 'target'), ('details-first', 'target')]\n",
      "[('island', 'query'), ('memory/memories', 'link'), ('memory/memories', 'link'), ('memory/memories', 'link'), ('memory/memories', 'link'), ('memory/memories', 'link'), ('memory/memories', 'link'), ('large', 'target'), ('blobby', 'target'), ('dataset/datasets', 'target'), ('superscalar', 'target'), ('processors/processor', 'target'), ('forecasting/forecast/forecasts', 'target'), ('external/externalization/externalizations', 'target'), ('lods/lod', 'target'), ('prefetching', 'target'), ('coastal', 'target'), ('environmental', 'target'), ('imagery', 'target'), ('phone/phones', 'target'), ('www', 'target'), ('infovis', 'target'), ('shared/sharing', 'target'), ('query-by-example', 'target'), ('analogy/analog', 'target'), ('many', 'target'), ('summary/summaries', 'target'), ('geophysics', 'target'), ('embellishments', 'target'), ('jam', 'target'), ('memento', 'target')]\n",
      "[('itineraries', 'query'), ('automated/automation', 'link'), ('matching', 'link'), ('matching', 'link'), ('matching', 'link'), ('matching', 'link'), ('matching', 'link'), ('programming/program', 'link'), ('programming/program', 'link'), ('remote', 'target'), ('sensing/sense', 'target'), ('satellite', 'target'), ('pan/panning', 'target'), ('hypertext', 'target'), ('stream/streaming', 'target'), ('polygon/polygonal/polygons/polygonization', 'target'), ('cam', 'target'), ('curvature/curvatures', 'target'), ('renderman', 'target'), ('shader/shaders', 'target'), ('descriptors', 'target'), ('descriptors', 'target'), ('descriptors', 'target'), ('npr', 'target'), ('gpu-acceleration', 'target'), ('gpu-acceleration', 'target'), ('answering/answer', 'target')]\n",
      "[('jazz', 'query'), ('hierarchical/hierarchically', 'target'), ('utility', 'target')]\n",
      "[('justice', 'query'), ('focussing', 'target'), ('reviews/review', 'target'), ('configuration', 'target'), ('molecular', 'target'), ('construction/constructive', 'target'), ('3dimensional', 'target'), ('props', 'target'), ('props', 'target'), ('props', 'target'), ('props', 'target'), ('props', 'target'), ('dna', 'target'), ('dna', 'target'), ('dna', 'target'), ('nanotechnology', 'target'), ('testbed', 'target'), ('nano', 'target'), ('nano', 'target')]\n",
      "[('laboring-class', 'query'), ('specification/specific/specifications', 'target'), ('scatterplot/scatterplots', 'target'), ('referenced', 'target'), ('speadsheets', 'target'), ('acquisition', 'target'), ('widgets', 'target'), ('synthetic', 'target'), ('synthetic', 'target'), ('ecosystems', 'target'), ('nominal', 'target'), ('tradeoffs/tradeoff', 'target'), ('subjects/subjective', 'target'), ('insight', 'target'), ('flicker', 'target'), ('intersecting/intersections', 'target'), ('two-surface', 'target'), ('overview', 'target'), ('cleaning', 'target'), ('business', 'target'), ('cropping', 'target'), ('laboratory', 'target'), ('enron', 'target'), ('flexibilty-usability', 'target'), ('fuzzy', 'target'), ('tabular', 'target'), ('mdmv', 'target'), ('n-d', 'target'), ('coverage', 'target'), ('bertin', 'target'), ('expert', 'target'), ('confidence', 'target'), ('decal', 'target'), ('mturk', 'target')]\n",
      "[('latin', 'query'), ('stress', 'target'), ('laplacian', 'target'), ('anisotropy', 'target'), ('crowd', 'target'), ('crowd', 'target')]\n",
      "[('lexical', 'query'), ('factors/factorization', 'target'), ('wavelet/wavelets', 'target'), ('lipschitz', 'target'), ('compression/compressed', 'target'), ('stochastic', 'target'), ('lens', 'target'), ('fourier', 'target'), ('resampling', 'target'), ('transmission', 'target'), ('magic', 'target'), ('coding/code/codes', 'target'), ('skeletonization/skeleton', 'target'), ('quantization', 'target'), ('meta-data', 'target'), ('hyperslice', 'target'), ('block', 'target'), ('signal', 'target'), ('scale-invariant', 'target'), ('dirichlet', 'target'), ('floating-point', 'target'), ('floating-point', 'target'), ('floating-point', 'target'), ('split', 'target'), ('nonnegative', 'target'), ('nonnegative', 'target'), ('nonnegative', 'target'), ('waveletsat', 'target'), ('scagnostics', 'target')]\n",
      "[('locative', 'query'), ('fcc', 'target'), ('crisis', 'target')]\n",
      "[('madrid', 'query'), ('periodization/periodic', 'link'), ('periodization/periodic', 'link'), ('3d-textures', 'target'), ('magnetic/magnetism', 'target'), ('conformal/conformation', 'target'), ('self-interference', 'target'), ('primitives', 'target'), ('recovery', 'target'), ('interstellar', 'target'), ('confined', 'target'), ('confined', 'target'), ('fish-eye', 'target'), ('geodemographics', 'target'), ('schematisation', 'target'), ('volume-preserving', 'target'), ('surprise', 'target')]\n",
      "[('manuscript/manuscripts', 'query'), ('throughput', 'target')]\n",
      "[('medieval', 'query'), ('fitting/fitness', 'target'), ('demographics/demographic', 'target'), ('demographics/demographic', 'target'), ('energy', 'target'), ('demand', 'target'), ('ellipsoids', 'target')]\n",
      "[('mesoamerica', 'query'), ('landscape/landscapes', 'link'), ('ultrasound', 'target'), ('opacity', 'target'), ('barrier', 'target')]\n",
      "[('ming', 'query'), ('event/events', 'link'), ('event/events', 'link'), ('event/events', 'link'), ('event/events', 'link'), ('event/events', 'link'), ('event/events', 'link'), ('event/events', 'link'), ('bone', 'target'), ('records/recording', 'target'), ('gradient', 'target'), ('outflow', 'target'), ('heath', 'target'), ('heath', 'target'), ('heath', 'target'), ('heath', 'target'), ('informatics', 'target'), ('water', 'target'), ('cohort', 'target'), ('definition', 'target'), ('clickstream', 'target')]\n",
      "[('missing', 'query'), ('imputation', 'link'), ('multidimensional', 'target'), ('multivariate', 'target'), ('browser', 'target'), ('octree/octrees', 'target'), ('ray-casting', 'target'), ('probability', 'target'), ('multi-valued', 'target'), ('partial-volume-effect', 'target'), ('partial-volume-effect', 'target'), ('partial-volume-effect', 'target'), ('partial-volume-effect', 'target'), ('tomographic', 'target'), ('point-based', 'target'), ('time-series', 'target'), ('capture', 'target'), ('multi-variate', 'target'), ('super', 'target'), ('density-based', 'target'), ('confocal', 'target'), ('confocal', 'target'), ('immunofluorescence', 'target'), ('astrophysics/astrophysical', 'target'), ('super-splines', 'target'), ('dots/dot', 'target'), ('olap', 'target'), ('forensics', 'target'), ('autopsies', 'target'), ('outliers/outlier', 'target'), ('data-parallel', 'target'), ('fraud', 'target'), ('broadcast', 'target'), ('starplot', 'target'), ('sensor', 'target'), ('air', 'target'), ('multiwavelength', 'target'), ('multiwavelength', 'target'), ('topology-based', 'target'), ('neurobiology', 'target'), ('finance', 'target'), ('self-organizing', 'target'), ('multi-layer', 'target'), ('contiguity', 'target'), ('transaction', 'target'), ('linkage', 'target'), ('curve-centric-reformation', 'target'), ('fractal', 'target'), ('permutation', 'target'), ('glyph-based', 'target'), ('multiform', 'target'), ('linewidth', 'target'), ('overlapping', 'target'), ('start', 'target'), ('baseball', 'target'), ('multi-core', 'target'), ('guidance', 'target'), ('hsne', 'target'), ('univariate', 'target'), ('bimanual', 'target')]\n",
      "[('monastery', 'query'), ('weather', 'target'), ('observation/observational/observer', 'target'), ('station-based', 'target'), ('station-based', 'target'), ('spaghetti', 'target')]\n",
      "[('morphosyntactic', 'query'), ('finding', 'link'), ('finding', 'link'), ('finding', 'link'), ('finding', 'link'), ('finding', 'link'), ('finding', 'link'), ('finding', 'link'), ('finding', 'link'), ('finding', 'link'), ('finding', 'link'), ('aids/aided', 'link'), ('aids/aided', 'link'), ('normalization/normal/normalized', 'link'), ('normalization/normal/normalized', 'link'), ('normalization/normal/normalized', 'link'), ('normalization/normal/normalized', 'link'), ('normalization/normal/normalized', 'link'), ('normalization/normal/normalized', 'link'), ('normalization/normal/normalized', 'link'), ('morphological', 'target'), ('derivative/derivatives', 'target'), ('taylor', 'target'), ('cutting/cut', 'target'), ('strain', 'target'), ('strain', 'target'), ('shear', 'target'), ('anisotropic', 'target'), ('gouraud', 'target'), ('demand-driven', 'target'), ('demand-driven', 'target'), ('demand-driven', 'target'), ('lazy/laziness', 'target'), ('python', 'target'), ('triangular', 'target'), ('interior', 'target'), ('removal', 'target'), ('anti-symmetric', 'target'), ('c++', 'target'), ('c++', 'target'), ('c++', 'target'), ('c++', 'target'), ('c++', 'target'), ('c++', 'target'), ('c++', 'target'), ('c++', 'target'), ('paging', 'target'), ('paging', 'target'), ('paging', 'target'), ('paging', 'target'), ('programmable', 'target'), ('gas', 'target'), ('gas', 'target'), ('roaming', 'target'), ('orientation', 'target'), ('exterior', 'target'), ('exterior', 'target'), ('exterior', 'target'), ('exterior', 'target'), ('astronomical', 'target'), ('comprehension', 'target'), ('information-guided', 'target'), ('summarization', 'target'), ('coopetition', 'target'), ('developmental', 'target')]\n",
      "[('multilayer', 'query'), ('alternative', 'link'), ('alternative', 'link'), ('alternative', 'link'), ('alternative', 'link'), ('alternative', 'link'), ('alternative', 'link'), ('collision', 'target'), ('least', 'target'), ('least', 'target'), ('squares', 'target'), ('wall', 'target'), ('inspection', 'target'), ('flexible', 'target'), ('knots/knot', 'target'), ('knots/knot', 'target'), ('family', 'target'), ('high-resolution', 'target'), ('depiction', 'target'), ('fluorescence', 'target'), ('just-in-time', 'target'), ('scatter/gather', 'target'), ('degradation', 'target'), ('degradation', 'target'), ('degradation', 'target'), ('degradation', 'target'), ('ivus', 'target'), ('thickness', 'target')]\n",
      "[('multilinguality/multilingualism', 'query'), ('organization/organic', 'link'), ('boolean', 'target'), ('blurring', 'target')]\n",
      "[('museography', 'query'), ('ontologies/ontological/ontology', 'link'), ('standards/standardized', 'link'), ('standards/standardized', 'link'), ('standards/standardized', 'link'), ('standards/standardized', 'link'), ('standards/standardized', 'link'), ('standards/standardized', 'link'), ('standards/standardized', 'link'), ('metaphors/metaphor', 'target'), ('basis', 'target'), ('clinical', 'target'), ('hierarchies/hierarchy', 'target'), ('efficient/efficiency', 'target'), ('tessellation/tessellations', 'target'), ('orthogonality/orthogonal', 'target'), ('differential/differentiation/differentials', 'target'), ('botanical', 'target'), ('botanical', 'target'), ('huge', 'target'), ('sitemap', 'target'), ('2d', 'target'), ('slice', 'target'), ('slice', 'target'), ('orthographic', 'target'), ('orthographic', 'target'), ('orthographic', 'target'), ('medial', 'target'), ('medial', 'target'), ('axis', 'target'), ('difference/differences', 'target'), ('c-aperture', 'target'), ('proteomics', 'target'), ('elastic', 'target'), ('combinations/combination', 'target'), ('combinations/combination', 'target'), ('ability', 'target'), ('ability', 'target'), ('ability', 'target'), ('ability', 'target'), ('ability', 'target'), ('mathematics/mathematical', 'target'), ('radio', 'target'), ('desirable', 'target'), ('desirable', 'target'), ('desirable', 'target'), ('engagement', 'target'), ('individual', 'target'), ('individual', 'target'), ('individual', 'target'), ('individual', 'target'), ('voting', 'target'), ('election', 'target'), ('left', 'target'), ('training', 'target'), ('training', 'target'), ('training', 'target'), ('training', 'target'), ('biplots', 'target'), ('phenomics', 'target'), ('phenotype/phenotypes', 'target'), ('antichain', 'target'), ('cross-sectional', 'target'), ('catalog', 'target')]\n",
      "[('narratology', 'query'), ('angiography', 'target'), ('planar', 'target'), ('reformation', 'target'), ('reformation', 'target'), ('ewa', 'target'), ('solutions/solution', 'target'), ('fingerprinting', 'target'), ('parameter', 'target'), ('chemistry', 'target'), ('back-projection', 'target'), ('verifiable', 'target'), ('neighborhood', 'target'), ('walker', 'target'), ('uncertain', 'target'), ('pareto', 'target'), ('high-content', 'target'), ('hilbert', 'target'), ('bloom', 'target')]\n",
      "[('new', 'query'), ('prediction/predictive', 'target')]\n",
      "[('nobility', 'query'), ('routing/route', 'target'), ('black-and-white', 'target')]\n",
      "[('novel', 'query'), ('haloed/halos/halo', 'target'), ('empirical', 'target'), ('histogram/histograms', 'target'), ('consumer', 'target'), ('eigenvector', 'target'), ('higher-order', 'target'), ('signatures', 'target'), ('dw-mri', 'target'), ('stopping', 'target'), ('stem', 'target'), ('fast-forward', 'target'), ('limitations', 'target'), ('staggered', 'target'), ('proofreading', 'target'), ('migration', 'target'), ('gaze', 'target')]\n",
      "[('novelty', 'query'), ('divergence', 'target'), ('gap', 'target'), ('contourtrees', 'target'), ('eyegaze', 'target'), ('seifert', 'target'), ('numerosity', 'target'), ('monoscopic', 'target'), ('synteny', 'target'), ('novices/novice', 'target'), ('kullback-leibler', 'target'), ('proxemics', 'target'), ('memorability', 'target'), ('portfolio', 'target'), ('grounded', 'target')]\n",
      "[('ocr', 'query'), ('linking/linked/link/links', 'link'), ('spray', 'target'), ('brushing', 'target'), ('coordinates/coordinated/coordination/coordinate', 'target'), ('multi-field', 'target'), ('metavisualization', 'target'), ('metavisualization', 'target'), ('metavisualization', 'target'), ('interrogative', 'target'), ('vehicle', 'target'), ('2.0', 'target'), ('biomechanics', 'target'), ('instant', 'target'), ('inhomogeneous', 'target'), ('sea', 'target'), ('example', 'target'), ('macros', 'target'), ('macros', 'target')]\n",
      "[('parsing', 'query'), ('retrieval', 'link'), ('feedback', 'link'), ('implicit/implicits', 'target'), ('context', 'target'), ('raycasting', 'target'), ('repositories/repository', 'target'), ('momentum', 'target'), ('sparklines', 'target'), ('relevance', 'target')]\n",
      "[('pedagogy', 'query'), ('narratives/narrative', 'link'), ('narratives/narrative', 'link'), ('narratives/narrative', 'link'), ('narratives/narrative', 'link'), ('frames/frame/framing', 'target'), ('effect/effects/effectiveness', 'target'), ('rhetoric', 'target'), ('rhetoric', 'target'), ('rhetoric', 'target'), ('rhetoric', 'target'), ('semiotics', 'target'), ('bookmarks', 'target'), ('error-based', 'target')]\n",
      "[('political/politics', 'query'), ('listening', 'target'), ('lifelogging', 'target')]\n",
      "[('popular', 'query'), ('real-time', 'target'), ('adaptive', 'target')]\n",
      "[('practice-based', 'query'), ('artifacts', 'link'), ('screen/screening', 'target'), ('screen/screening', 'target'), ('nested', 'target'), ('toolkit/toolkits', 'target'), ('screen-door', 'target'), ('transparency/transparent', 'target'), ('transparency/transparent', 'target'), ('tasks/task', 'target'), ('non-photorealistic', 'target'), ('perceptual', 'target'), ('ethnographic', 'target'), ('satisfaction', 'target'), ('accuracy', 'target'), ('saliency', 'target'), ('pda', 'target'), ('conjoint', 'target'), ('user-machine', 'target'), ('user-machine', 'target'), ('user-machine', 'target'), ('non-spatial', 'target'), ('requirements/requirement', 'target'), ('sketching/sketch', 'target'), ('hand-drawn', 'target'), ('goal-oriented', 'target'), ('concrete', 'target'), ('typology', 'target'), ('lo-fidelity', 'target'), ('user-centred', 'target'), ('rapid', 'target')]\n",
      "[('propoerty', 'query'), ('access/accessibility', 'link'), ('cache-coherent', 'target')]\n",
      "[('prosopography', 'query'), ('cave', 'target'), ('homeland', 'target'), ('wikipedia', 'target'), ('involvement', 'target')]\n",
      "[('protection/protected', 'query'), ('minimum', 'target'), ('span/spanning', 'target')]\n",
      "[('queer', 'query'), ('scattered/scattering/scatter', 'target'), ('advancing/advanced', 'target'), ('shepard', 'target'), ('mpu', 'target'), ('synchronous/synchronization', 'target')]\n",
      "[('racial', 'query'), ('labeling/label', 'link'), ('filtering/filters/filter/filtered', 'target'), ('selection/selective/selections', 'target'), ('placement', 'target'), ('realtime', 'target'), ('server', 'target'), ('occlusion-free', 'target'), ('consistency', 'target'), ('consistency', 'target'), ('consistency', 'target'), ('hci', 'target'), ('nice', 'target'), ('oac', 'target')]\n",
      "[('religions', 'query'), ('variable/variability/variables', 'target'), ('parametric/parametrization', 'target'), ('ensembles/ensemble', 'target'), ('boxplots', 'target'), ('band', 'target'), ('familiarity', 'target')]\n",
      "[('renaissance', 'query'), ('edge/edges', 'target'), ('packing', 'target'), ('bundling/bundles', 'target'), ('reorderable/reordering', 'target'), ('recurrent/recurrence', 'target'), ('aasymmetric', 'target'), ('noise', 'target'), ('biclusters/bicluster/biclustering', 'target'), ('rectangle', 'target'), ('rectangle', 'target'), ('rectangle', 'target'), ('rectangle', 'target')]\n",
      "[('reproduction', 'query'), ('non-manifold', 'target'), ('gabriel', 'target'), ('quadratic', 'target'), ('coulomb', 'target'), ('geometry-based', 'target'), ('learning-from-crowds', 'target'), ('+', 'target')]\n",
      "[('reuse', 'query'), ('clothmodeling', 'target'), ('thinning', 'target'), ('string', 'target'), ('evolutionary', 'target')]\n",
      "[('rhyme', 'query'), ('esthetics', 'link'), ('esthetics', 'link'), ('assessment', 'link'), ('sound', 'link'), ('sound', 'link'), ('sound', 'link'), ('sound', 'link'), ('sound', 'link'), ('sound', 'link'), ('sound', 'link'), ('sound', 'link'), ('sound', 'link'), ('sound', 'link'), ('sound', 'link'), ('sound', 'link'), ('sound', 'link'), ('sound', 'link'), ('sound', 'link'), ('sound', 'link'), ('thinking', 'link'), ('cooperative', 'target'), ('tracing/traces', 'target'), ('finite', 'target'), ('finite', 'target'), ('finite', 'target'), ('finite', 'target'), ('finite', 'target'), ('finite', 'target'), ('discontinuity/discontinuous', 'target'), ('correlation/correlations/correlative', 'target'), ('life-cycle', 'target'), ('spacetimes/spacetime', 'target'), ('work/working', 'target'), ('acoustic/acoustics', 'target'), ('spectral', 'target'), ('currents', 'target'), ('velocity', 'target'), ('qualitative', 'target'), ('pixel', 'target'), ('cut-planes/cut-plane', 'target'), ('pixel-exact', 'target'), ('galerkin', 'target'), ('auralization', 'target'), ('phonon', 'target'), ('phonon', 'target'), ('phonon', 'target'), ('phonon', 'target'), ('phonon', 'target'), ('phonon', 'target'), ('phonon', 'target'), ('phonon', 'target'), ('phonon', 'target'), ('phonon', 'target'), ('phonon', 'target'), ('room', 'target'), ('room', 'target'), ('room', 'target'), ('room', 'target'), ('room', 'target'), ('room', 'target'), ('room', 'target'), ('room', 'target'), ('room', 'target'), ('room', 'target'), ('room', 'target'), ('room', 'target'), ('room', 'target'), ('room', 'target'), ('room', 'target'), ('computer-supported', 'target'), ('communication-minded', 'target'), ('themeriver', 'target'), ('lastfm', 'target'), ('high-order', 'target'), ('high-order', 'target'), ('gpu-based', 'target'), ('guard', 'target'), ('transcription', 'target'), ('benchmarks', 'target'), ('ospray', 'target')]\n",
      "[('r', 'query'), ('workflows/workflow', 'link'), ('interactome', 'target'), ('state-transition-based', 'target')]\n",
      "[('road', 'query'), ('objects/object/objectivity', 'link'), ('objects/object/objectivity', 'link'), ('scanline', 'target'), ('curvilinear', 'target'), ('irregular', 'target'), ('invariant/invariants/invariance', 'target'), ('synthesis', 'target'), ('scene', 'target'), ('oceanography', 'target'), ('preattentive', 'target'), ('multiscale', 'target'), ('multi-level', 'target'), ('watershed', 'target'), ('gaussian', 'target'), ('internet', 'target'), ('feature-extraction', 'target'), ('swirl', 'target'), ('bifurcations', 'target'), ('feature-based', 'target'), ('cooling', 'target'), ('core/cores', 'target'), ('disclination', 'target'), ('nematic', 'target'), ('liquid', 'target'), ('liquid', 'target'), ('traceless', 'target'), ('smoke', 'target'), ('lie', 'target'), ('join', 'target'), ('parity', 'target'), ('gestalt', 'target'), ('rotation/rotating/rotational', 'target'), ('galilean', 'target'), ('redesign', 'target'), ('killing', 'target'), ('coreline', 'target')]\n",
      "[('rolling', 'query'), ('estimation', 'target'), ('motion', 'target'), ('star', 'target'), ('latency', 'target'), ('rdf', 'target'), ('coarea', 'target'), ('radviz', 'target'), ('conjunctive', 'target'), ('opinion', 'target'), ('opinion', 'target'), ('de-noising', 'target'), ('relationships/relationship', 'target'), ('angular', 'target'), ('small-multiple', 'target'), ('set-typed', 'target'), ('influence', 'target'), ('user-authored', 'target')]\n",
      "[('russian', 'query'), ('metrics/metric', 'link'), ('metrics/metric', 'link'), ('metrics/metric', 'link'), ('metrics/metric', 'link'), ('metrics/metric', 'link'), ('metrics/metric', 'link'), ('metrics/metric', 'link'), ('metrics/metric', 'link'), ('metrics/metric', 'link'), ('metrics/metric', 'link'), ('metrics/metric', 'link'), ('metrics/metric', 'link'), ('metrics/metric', 'link'), ('metrics/metric', 'link'), ('metrics/metric', 'link'), ('metrics/metric', 'link'), ('detail/details', 'target'), ('detail/details', 'target'), ('recursive', 'target'), ('simplification', 'target'), ('partitioning/partition', 'target'), ('out-of-core', 'target'), ('mesh/meshes/meshing', 'target'), ('triangle', 'target'), ('triangle', 'target'), ('triangle', 'target'), ('triangle', 'target'), ('bintree', 'target'), ('bintree', 'target'), ('view-dependent', 'target'), ('frame-to-frame', 'target'), ('coherence/coherent', 'target'), ('greedy', 'target'), ('multiresolution/multiresolutional', 'target'), ('error', 'target'), ('quadric', 'target'), ('quadric', 'target'), ('quadric', 'target'), ('quadric', 'target'), ('quadric', 'target'), ('quadric', 'target'), ('quadric', 'target'), ('quadric', 'target'), ('quadric', 'target'), ('quadric', 'target'), ('quadric', 'target'), ('contraction', 'target'), ('contraction', 'target'), ('caching/cache', 'target'), ('decimation', 'target'), ('semi-regular', 'target'), ('massive', 'target'), ('massive', 'target'), ('massive', 'target'), ('sorting', 'target'), ('isometric', 'target'), ('multiphase', 'target'), ('multiphase', 'target'), ('multiphase', 'target'), ('multiphase', 'target'), ('multiphase', 'target'), ('multiphase', 'target'), ('multiphase', 'target'), ('multiphase', 'target'), ('multiphase', 'target'), ('multiphase', 'target'), ('multiphase', 'target'), ('multiphase', 'target'), ('multiphase', 'target'), ('multiphase', 'target'), ('multiphase', 'target'), ('multiphase', 'target'), ('rheology', 'target'), ('binary', 'target'), ('appearance-preserving', 'target'), ('appearance-preserving', 'target'), ('appearance-preserving', 'target'), ('appearance-preserving', 'target'), ('appearance-preserving', 'target'), ('multiresoluton', 'target'), ('multiresoluton', 'target'), ('matrix', 'target'), ('mean-shift', 'target'), ('spectrometry', 'target'), ('cache-aware', 'target'), ('cache-aware', 'target'), ('remeshing', 'target'), ('dendrogram', 'target'), ('dendrogram', 'target'), ('compound', 'target'), ('continuum', 'target')]\n",
      "[('scientometrics', 'query'), ('preloading', 'target'), ('hardware-acceleration/hardware-accelerated', 'target'), ('earth-space', 'target'), ('non-rectilinear', 'target'), ('earth', 'target'), ('embodied/embodiment', 'target'), ('pixel-based', 'target'), ('dual-scale', 'target'), ('systematic', 'target'), ('crowd-sourcing', 'target'), ('glanceable', 'target'), ('histology', 'target'), ('at-a-glance', 'target')]\n",
      "[('semi-automatic', 'query'), ('semi', 'target'), ('higraph', 'target'), ('multi-instance', 'target')]\n",
      "[('shakespeare', 'query'), ('homology', 'link'), ('homology', 'link'), ('homology', 'link'), ('homology', 'link'), ('homology', 'link'), ('homology', 'link'), ('homology', 'link'), ('voxelization/voxels/voxel', 'target'), ('level/levels', 'target'), ('sets/set', 'target'), ('approximation/approximations', 'target'), ('plant/plants', 'target'), ('separating', 'target'), ('betti', 'target'), ('betti', 'target'), ('numbers', 'target'), ('arc', 'target'), ('bard', 'target'), ('reeb', 'target'), ('arrays', 'target'), ('oct-trees', 'target'), ('oct-trees', 'target'), ('oct-trees', 'target'), ('oct-trees', 'target'), ('oct-trees', 'target'), ('spine', 'target'), ('cliques', 'target'), ('cliques', 'target'), ('cliques', 'target')]\n",
      "[('slave', 'query'), ('sense-making', 'target'), ('dense', 'target'), ('rfid', 'target'), ('forum', 'target'), ('disambiguation', 'target')]\n",
      "[('sociolinguistics', 'query'), ('categorial/categories/category', 'target'), ('home', 'target'), ('demonstration', 'target')]\n",
      "[('sociology', 'query'), ('characterization', 'target')]\n",
      "[('spam', 'query'), ('blog/blogs', 'link'), ('blog/blogs', 'link'), ('blog/blogs', 'link'), ('blog/blogs', 'link'), ('blog/blogs', 'link'), ('blog/blogs', 'link'), ('blog/blogs', 'link'), ('blog/blogs', 'link'), ('blog/blogs', 'link'), ('blog/blogs', 'link'), ('blog/blogs', 'link'), ('blog/blogs', 'link'), ('blog/blogs', 'link'), ('blog/blogs', 'link'), ('blog/blogs', 'link'), ('blog/blogs', 'link'), ('time', 'target'), ('nonlinear', 'target'), ('series', 'target'), ('detection', 'target'), ('time-dependent', 'target'), ('arbitrary', 'target'), ('anomaly/anomalies', 'target'), ('breakdown', 'target'), ('multi-attribute', 'target'), ('trends/trend', 'target'), ('timetree', 'target'), ('movement/movements', 'target'), ('skin', 'target'), ('hosvd', 'target'), ('subdtw', 'target'), ('e-transaction', 'target'), ('turbine', 'target'), ('aloud', 'target'), ('street', 'target')]\n",
      "[('stains', 'query'), ('architectural/architecture/architectures', 'link'), ('architectural/architecture/architectures', 'link'), ('architectural/architecture/architectures', 'link'), ('architectural/architecture/architectures', 'link'), ('materiality/material/materials', 'link'), ('materiality/material/materials', 'link'), ('materiality/material/materials', 'link'), ('materiality/material/materials', 'link'), ('complexity/complexes/complex', 'target'), ('discrete', 'target'), ('biomedical', 'target'), ('lighting/light', 'target'), ('morphing', 'target'), ('colourization', 'target'), ('hartley', 'target'), ('compositing/composition/composite', 'target'), ('occlusions/occlusion', 'target'), ('warping', 'target'), ('compatible', 'target'), ('compatible', 'target'), ('depth', 'target'), ('clipping', 'target'), ('walkthrough/walkthroughs', 'target'), ('tensor/tensors', 'target'), ('diffusion/diffuse', 'target'), ('eulerian', 'target'), ('boundary', 'target'), ('barycentric', 'target'), ('oceanographic', 'target'), ('fiber/fibers', 'target'), ('hybrid/hybrids', 'target'), ('fine', 'target'), ('solid', 'target'), ('morse-smale', 'target'), ('fragment', 'target'), ('electro-holography', 'target'), ('empty', 'target'), ('accurate', 'target'), ('sample-based', 'target'), ('relighting', 'target'), ('relighting', 'target'), ('cross-slits', 'target'), ('spherical', 'target'), ('cluster-based', 'target'), ('validation', 'target'), ('indices/indicators/indicator', 'target'), ('harmonics/harmonic', 'target'), ('morphometrics', 'target'), ('morse', 'target'), ('resonance', 'target'), ('wavefront', 'target'), ('extremum', 'target'), ('muscle', 'target'), ('muscle', 'target'), ('many-core', 'target'), ('many-core', 'target'), ('gigapixel', 'target'), ('viewer', 'target'), ('kurtosis', 'target'), ('kurtosis', 'target'), ('kurtosis', 'target'), ('approaches', 'target'), ('object-order', 'target'), ('object-order', 'target')]\n",
      "[('stemmatology', 'query'), ('parallel/parallelism', 'target')]\n",
      "[('surrogate', 'query'), ('principle/principles', 'target'), ('scrolling', 'target')]\n",
      "[('syntax', 'query'), ('variation/variational', 'link'), ('variation/variational', 'link'), ('variation/variational', 'link'), ('variation/variational', 'link'), ('isosurface/isosurfaces/isosurfacing', 'target'), ('interpolation', 'target'), ('shape-plending', 'target'), ('functions/function/functional', 'target'), ('refinement', 'target'), ('pde/pdes', 'target'), ('transfer', 'target'), ('independent', 'target'), ('fairing', 'target'), ('freehand', 'target'), ('sub-division', 'target'), ('sub-division', 'target'), ('total', 'target'), ('example-based', 'target'), ('knowledge-assisted', 'target')]\n",
      "[('t-sne', 'query'), ('hue', 'target'), ('clutter', 'target'), ('non-linear', 'target'), ('numerical', 'target'), ('numerical', 'target'), ('reference', 'target'), ('whole', 'target'), ('subspaces/subspace', 'target'), ('radar', 'target'), ('optical', 'target'), ('mass', 'target'), ('overplotting', 'target'), ('retinal', 'target'), ('multiperspective', 'target'), ('observation-level', 'target'), ('radiofrequency', 'target'), ('sub-dimensional', 'target'), ('coronal', 'target'), ('stationary', 'target'), ('ejections', 'target'), ('boosting', 'target')]\n",
      "[('tei', 'query'), ('wrinklemodeling', 'target')]\n",
      "[('temporospatial', 'query'), ('integration/integral/integrating/integrated', 'link'), ('integration/integral/integrating/integrated', 'link'), ('photogrammetry', 'link'), ('photogrammetry', 'link'), ('photogrammetry', 'link'), ('photogrammetry', 'link'), ('photogrammetry', 'link'), ('photogrammetry', 'link'), ('photogrammetry', 'link'), ('photogrammetry', 'link'), ('photogrammetry', 'link'), ('photogrammetry', 'link'), ('photogrammetry', 'link'), ('texture/textures/texturing/textured', 'target'), ('vectorfield', 'target'), ('wind', 'target'), ('wind', 'target'), ('wind', 'target'), ('wind', 'target'), ('wind', 'target'), ('wind', 'target'), ('particles/particle', 'target'), ('particles/particle', 'target'), ('particles/particle', 'target'), ('exponents', 'target'), ('tunneling/tunnel', 'target'), ('oil', 'target'), ('vrml', 'target'), ('fusion', 'target'), ('boids', 'target'), ('astronomy', 'target'), ('cosmology', 'target'), ('ftle', 'target'), ('hyperspectral', 'target'), ('lagrangian', 'target'), ('inertial', 'target'), ('context-aware', 'target'), ('finite-time', 'target'), ('finite-time', 'target')]\n",
      "[('tesseract', 'query'), ('image-based', 'target'), ('connectedness', 'target'), ('connectedness', 'target')]\n",
      "[('testament', 'query'), ('maintenance', 'target'), ('dark', 'target')]\n",
      "[('text-image', 'query'), ('alignment', 'link'), ('alignment', 'link'), ('alignment', 'link'), ('alignment', 'link'), ('alignment', 'link'), ('alignment', 'link'), ('alignment', 'link'), ('alignment', 'link'), ('alignment', 'link'), ('alignment', 'link'), ('alignment', 'link'), ('alignment', 'link'), ('alignment', 'link'), ('alignment', 'link'), ('alignment', 'link'), ('alignment', 'link'), ('alignment', 'link'), ('displays/display', 'target'), ('geometric', 'target'), ('automatic', 'target'), ('stitching', 'target'), ('proteins/protein', 'target'), ('fold/folding', 'target'), ('threading/threads/thread', 'target'), ('ribbons', 'target'), ('ribbons', 'target'), ('ribbons', 'target'), ('ribbons', 'target'), ('ribbons', 'target'), ('ribbons', 'target'), ('ribbons', 'target'), ('acids', 'target'), ('acids', 'target'), ('acids', 'target'), ('acids', 'target'), ('acids', 'target'), ('blending', 'target'), ('calibration', 'target'), ('camera-based', 'target'), ('registration', 'target'), ('casting', 'target'), ('casting', 'target'), ('tiled/tiling/tile', 'target'), ('tiled/tiling/tile', 'target'), ('formation/format', 'target'), ('seamless', 'target'), ('large-format', 'target'), ('large-format', 'target'), ('large-format', 'target'), ('large-format', 'target'), ('sort-middle', 'target'), ('sort-middle', 'target'), ('multi-projector', 'target'), ('multi-projector', 'target'), ('multi-projector', 'target'), ('multi-projector', 'target'), ('rna', 'target'), ('projector-camera', 'target'), ('photometric', 'target'), ('photometric', 'target'), ('photometric', 'target'), ('photometric', 'target'), ('photometric', 'target'), ('photometric', 'target'), ('phong', 'target'), ('gesture-based', 'target'), ('ribonucleic', 'target'), ('ribonucleic', 'target'), ('ribonucleic', 'target')]\n",
      "[('three-dimensionality', 'query'), ('immersive/immersion', 'link'), ('immersive/immersion', 'link'), ('reality', 'link'), ('device/devices', 'target'), ('device/devices', 'target'), ('device/devices', 'target'), ('device/devices', 'target'), ('microscopy', 'target'), ('telepresence', 'target'), ('panoramic', 'target'), ('intensity', 'target'), ('multi-resolution', 'target'), ('mixing/mix/mixed', 'target'), ('mixing/mix/mixed', 'target'), ('mixing/mix/mixed', 'target'), ('mixing/mix/mixed', 'target'), ('meteorology/meteorological', 'target'), ('tele-immersion', 'target'), ('cognition/cognitive', 'target'), ('stereo', 'target'), ('external-memory', 'target'), ('responsive/response', 'target'), ('cartographic', 'target'), ('damage', 'target'), ('ubiquitous', 'target'), ('multi-user', 'target'), ('acuity', 'target'), ('omitted', 'target'), ('tactile', 'target'), ('decoy', 'target'), ('initiative', 'target'), ('multi-display', 'target'), ('wall-sized', 'target'), ('wall-sized', 'target'), ('olfaction', 'target'), ('four', 'target'), ('four', 'target'), ('four', 'target'), ('four', 'target'), ('four', 'target'), ('four', 'target')]\n",
      "[('tolstoy', 'query'), ('wordle', 'target')]\n",
      "[('torture', 'query'), ('culling', 'target'), ('cards/card', 'target'), ('ambient', 'target'), ('calm', 'target'), ('sustainability', 'target'), ('pursuit', 'target'), ('origin-destination', 'target')]\n",
      "[('transmedia', 'query'), ('workshop/workshops', 'target')]\n",
      "[('txm', 'query'), ('hatching', 'target'), ('domain-specific', 'target'), ('pragmatics', 'target'), ('distribution-based', 'target')]\n",
      "[('ukiyo-e', 'query'), ('calculation', 'target'), ('glyphs/glyph', 'target'), ('rakes', 'target'), ('region/regions', 'target'), ('region/regions', 'target'), ('reversal', 'target'), ('isocontour', 'target'), ('iso-surface/iso-surfaces/iso-surfacing', 'target'), ('multi-dimensional', 'target'), ('scalar', 'target'), ('interval/intervals', 'target'), ('manifold/manifolds', 'target'), ('time-varying', 'target'), ('geodesics', 'target'), ('symmetry/symmetries', 'target'), ('combustion', 'target'), ('amr', 'target'), ('verification', 'target'), ('growing', 'target'), ('riemannian', 'target'), ('neurovascular', 'target'), ('multifield/multifields', 'target'), ('warm', 'target'), ('soar', 'target'), ('theroy', 'target'), ('largest', 'target'), ('crease', 'target'), ('event-based', 'target'), ('species', 'target'), ('brushing+linking', 'target'), ('superconductor', 'target'), ('iso-contours', 'target'), ('jet-stream', 'target'), ('copula', 'target'), ('k-anonymity', 'target'), ('asymptotic', 'target'), ('atmospheric', 'target'), ('atmospheric', 'target'), ('hypothetical', 'target')]\n",
      "[('unity', 'query'), ('range', 'target'), ('data-flow', 'target'), ('imposter', 'target'), ('high-performance', 'target'), ('disaster', 'target'), ('disaster', 'target'), ('sketch-based', 'target')]\n",
      "[('user-testing', 'query'), ('web', 'link'), ('development', 'link'), ('development', 'link'), ('development', 'link'), ('development', 'link'), ('development', 'link'), ('development', 'link'), ('development', 'link'), ('development', 'link'), ('development', 'link'), ('development', 'link'), ('climate', 'target'), ('wide', 'target'), ('incremental', 'target'), ('mixture', 'target'), ('ocean', 'target'), ('supercomputing', 'target'), ('supercomputing', 'target'), ('supercomputing', 'target'), ('supercomputing', 'target'), ('supercomputing', 'target'), ('concurrent', 'target'), ('concurrent', 'target'), ('hurricane', 'target'), ('heterogeneous', 'target'), ('situ', 'target'), ('situ', 'target'), ('situ', 'target'), ('situ', 'target'), ('mesoscale', 'target'), ('mesoscale', 'target'), ('mesoscale', 'target'), ('mesoscale', 'target'), ('mesoscale', 'target'), ('mesoscale', 'target'), ('stall', 'target'), ('stall', 'target'), ('stall', 'target'), ('literate', 'target')]\n",
      "[('willa', 'query'), ('constrained', 'target'), ('cartogram/cartograms', 'target'), ('value-by-area', 'target'), ('value-by-area', 'target'), ('thematic', 'target'), ('lic', 'target'), ('forward', 'target'), ('level-sets/level-set', 'target'), ('significance', 'target'), ('digimap', 'target'), ('proportional', 'target'), ('spiral', 'target'), ('metro', 'target'), ('mercator', 'target'), ('heuristic-based', 'target'), ('gabor', 'target'), ('choropleth', 'target'), ('autocorrelation', 'target')]\n",
      "[('women', 'query'), ('bipartite', 'link'), ('bipartite', 'link'), ('traffic', 'target'), ('descriptive/description', 'target'), ('load', 'target'), ('length', 'target')]\n",
      "[('zipf', 'query'), ('law', 'link'), ('law', 'link'), ('law', 'link'), ('law', 'link'), ('enforcement', 'target'), ('bayesian', 'target'), ('seasonal', 'target'), ('weber', 'target'), ('hexahedral', 'target')]\n"
     ]
    }
   ],
   "source": [
    "merged_paths_dict = {}\n",
    "for p in merged_paths_sorted:\n",
    "    merged_paths_dict[indx2keyword_c[p[0]]] = p\n",
    "    print([('/'.join(stems_dictionary[indx2keyword_c[j]]), trace_stem(indx2keyword_c[j])) for j in sorted(p)])"
   ]
  },
  {
   "cell_type": "markdown",
   "metadata": {
    "colab_type": "text",
    "id": "e9oLmaFVK42m"
   },
   "source": [
    "# Visualizing documents via keyword proximity\n",
    "\n",
    "In the last stage, the user is expected to provide a set of keywords to explore the collection. Following the reasoning explained in previous sections, the user employs keywords specific to the query vocabulary to obtain affine keywords and documents from the target corpus. These elements are presented to the user in a visualization that shows exploration paths related to the input query expression. The user is then able to progressively form a mental image of the target corpus by following these paths and, optionally, perform further research on the list of document suggestions that are displayed in the same visualization space. In this section, we comment on the necessary steps that were taken to produce this expected output. \n",
    "\n",
    "The visualization employs a single tree as input, which can be one of the trees in $T$ if only a single keyword is provided, or a tree resulting from combining two or more trees in $T$. The tree is drawn in the plane using the Kamada-Kawai layout algorithm <cite data-cite=\"5825190/3CIKKD6P\"></cite>, where tokens are depicted as vertices (text) and cosine distances as edges (solid lines) in the network. Query, link and target keywords are shown in orange, blue and green colors, respectively. Tokens are translated into their original forms to ensure the readability of the results. In a subsequent step, the visualization is completed by representing documents into the semantic subspace defined by $T$. Firstly, the $TD$ matrix is filtered to obtain documents that contain any of the terms in $T$. Note that each of the resulting documents may contain one or more terms (components) of the semantic subspace $T$. Then, documents are projected according to their components' positions in the plane, as assigned by the Kamada-Kawai layout.\n",
    "\n",
    "<img src='img/doc-projections.png'>*Figure*: Documents are projected into the 2D representation of the semantic subspace defined by $T$. $d_{1}$ is projected to its only component in the subspace, $t_{1}$. Similarly, $d_{2}$ contains terms $t_{3}$ and $t_{4}$ of and therefore it is projected at the mid-distance of the link betwen the two terms. Finally, documents such as $d_{3}$ that contain three or more terms are projected at the centroid of the convex hull formed by the positions of such terms in the plane.</img>\n",
    "\n",
    "Documents are represented as dots in the visualization and follow the same color scheme as keywords: Documents on the query corpus are shown in orange, whereas those appearing in the target dataset are shown in green. Whenever two or more documents share the same position in the plane, they are aggregated in a visual encoding (the size of the circle). We represent links between a document and their related components in the plane with a dashed line, which facilitates the task of identifying relationships between terms and documents.\n"
   ]
  },
  {
   "cell_type": "code",
   "execution_count": 26,
   "metadata": {
    "colab": {},
    "colab_type": "code",
    "id": "mDQqYh8IdSUC"
   },
   "outputs": [],
   "source": [
    "def get_recommendations_for_path(component):\n",
    "    nodes = list(component.nodes())\n",
    "    token_indices = [keep[n] for n in nodes]\n",
    "    docs = []\n",
    "    for doc_index, doc in enumerate(tf_bin_list):\n",
    "        doc_dict = {}\n",
    "        doc_tokens = []\n",
    "        for token_index, token in enumerate(doc):\n",
    "            if token == True and token_index in token_indices:\n",
    "                doc_tokens.append(token_index)\n",
    "        if len(doc_tokens) > 0:\n",
    "            the_doc = all_papers[doc_index]\n",
    "            doc_dict['title'] = the_doc['title']\n",
    "            doc_dict['keywords'] = the_doc['keywords']\n",
    "            doc_dict['title'] = the_doc['title']\n",
    "\n",
    "            if doc_index <= dh_papers_offset:\n",
    "                doc_dict['trace'] = 'query'\n",
    "            else:\n",
    "                doc_dict['trace'] = 'target'\n",
    "\n",
    "            doc_dict['tokens'] = [indx2keyword[i] for i in doc_tokens]\n",
    "            doc_dict['token_indices'] = doc_tokens\n",
    "            doc_dict['token_indices_c'] = [nodes[token_indices.index(i)] for i in doc_tokens]\n",
    "            docs.append(doc_dict)\n",
    "        \n",
    "    return docs"
   ]
  },
  {
   "cell_type": "code",
   "execution_count": 27,
   "metadata": {
    "colab": {},
    "colab_type": "code",
    "id": "Wh-jggChpuq4"
   },
   "outputs": [],
   "source": [
    "def scale_number(unscaled, to_min, to_max, from_min, from_max):\n",
    "    if from_min == from_max: return to_max\n",
    "    return (to_max-to_min)*(unscaled-from_min)/(from_max-from_min)+to_min\n",
    "\n",
    "def build_keywords_tree(G, indx2keyword, stems_dictionary):\n",
    "    counts = []\n",
    "    counts.extend(list(map(lambda x: x[1][\"count\"], list(G.nodes(data=True)))))\n",
    "  \n",
    "    nodes = G.nodes()\n",
    "  \n",
    "    min_dist = 0\n",
    "    max_dist = 0\n",
    "  \n",
    "    for row, data in nx.shortest_path_length(G, weight='weight'):\n",
    "        for col, dist in data.items():\n",
    "            if min_dist > dist:\n",
    "                min_dist = dist\n",
    "            if max_dist < dist:\n",
    "                max_dist = dist\n",
    "  \n",
    "    df = pd.DataFrame(index=nodes, columns=nodes)\n",
    "    for row, data in nx.shortest_path_length(G, weight='weight'):\n",
    "        for col, dist in data.items():\n",
    "            scaled_dist = scale_number(dist, 1, 4, min_dist, max_dist)\n",
    "            df.loc[row,col] = scaled_dist\n",
    "  \n",
    "    df = df.fillna(df.max().max())\n",
    "\n",
    "    pos = nx.kamada_kawai_layout(G, scale=1.0, dim=2, weight='weight', dist=df.to_dict())\n",
    "  \n",
    "  \n",
    "    x = {k:float('%.4f' % v[0])  for k,v in pos.items()}\n",
    "    y = {k:float('%.4f' % v[1]) for k,v in pos.items()}\n",
    "  \n",
    "    nx.set_node_attributes(G, x, 'x')\n",
    "    nx.set_node_attributes(G, y, 'y')\n",
    "  \n",
    "    graph_json = json_graph.node_link_data(G)\n",
    "\n",
    "    docs = get_recommendations_for_path(G)\n",
    "    node_list = list(nodes)\n",
    "\n",
    "    docs_json = {}\n",
    "    \n",
    "    for doc in docs:\n",
    "        doc_keyword_ids = \"+\".join([str(k) for k in sorted(doc['token_indices_c'])])\n",
    "        if doc_keyword_ids in docs_json:\n",
    "            #Doc already added\n",
    "            docs_json[doc_keyword_ids]['count'] += 1\n",
    "            docs_json[doc_keyword_ids]['docs'].append(doc)\n",
    "        else:\n",
    "            if len(doc['token_indices_c']) == 1:\n",
    "                cx = pos[doc['token_indices_c'][0]][0]\n",
    "                cy = pos[doc['token_indices_c'][0]][1]\n",
    "            elif len(doc['token_indices_c']) == 2:\n",
    "                ax = pos[doc['token_indices_c'][0]][0]\n",
    "                ay = pos[doc['token_indices_c'][0]][1]\n",
    "                bx = pos[doc['token_indices_c'][1]][0]\n",
    "                by = pos[doc['token_indices_c'][1]][1]\n",
    "                cx = (ax + bx) / 2\n",
    "                cy = (ay + by) / 2\n",
    "            else:\n",
    "                the_points = [ (pos[i][0], pos[i][1]) for i in doc['token_indices_c']]\n",
    "                hull = ConvexHull(the_points)\n",
    "                cx = np.mean(hull.points[hull.vertices,0])\n",
    "                cy = np.mean(hull.points[hull.vertices,1])\n",
    "\n",
    "            docs_json[doc_keyword_ids] = {\n",
    "              'cx': cx,\n",
    "              'cy': cy,\n",
    "              'count': 1,\n",
    "              'docs': [doc]\n",
    "            }\n",
    "    \n",
    "  \n",
    "    json_obj = {'graph' : graph_json, 'docs' : docs_json}\n",
    "\n",
    "    return json.dumps(json_obj)\n"
   ]
  },
  {
   "cell_type": "markdown",
   "metadata": {},
   "source": [
    "## Combining Significant Paths\n",
    "\n",
    "Apart from the visualization of a single tree, our visualization scheme also supports the combination of two or more query terms to represent related keywords and documents. Given that by definition all trees in $T$ are disjoint subgraphs of $G$, we can find an MST in $G$ that contains all vertices in $T_{1}, T_{2}, \\dots T_{n}$ and that presents the minimum edit distance of all possible MSTs to the sum of all subgraphs. This reasoning is depicted in the Figure below. \n",
    "\n",
    "<img src='img/path-query.png'>*Figure*: Paths for the user-provided terms $T_{t_{1}^{q}}$ and  $T_{t_{2}^{q}}$ are combined into a new path that results from calculating the MST of nodes in the two paths. This procedure ensures that the two paths are presented in the most coherent possible way in the visualization.</img>\n",
    "\n",
    "The tree resulting from the combination of the two paths has similar properties to any other tree in $T$ and thus can be displayed in the same manner as we describe in the next section."
   ]
  },
  {
   "cell_type": "code",
   "execution_count": 28,
   "metadata": {
    "colab": {},
    "colab_type": "code",
    "id": "dR9zAKwwtEp9"
   },
   "outputs": [],
   "source": [
    "# path_keys = ['co-retweet', 'cooccurr']\n",
    "\n",
    "# path_keys = ['bayerisch', 'jazz']\n",
    "\n",
    "# path_keys = ['aborigin']\n",
    "\n",
    "# path_keys = ['palaeographi', 'mediev']\n",
    "\n",
    "# path_keys = ['russian', 'transmedia']\n",
    "\n",
    "# path_keys = ['women']\n",
    "\n",
    "# path_keys = ['co-retweet', 'coword']\n",
    "\n",
    "# path_keys = ['coword']\n",
    "\n",
    "# path_keys = ['shakespear']\n",
    "path_keys = ['willa', 'racial']\n",
    "\n",
    "\n",
    "query_indxs = []\n",
    "sum_path = []\n",
    "for key in path_keys:\n",
    "    sum_path += merged_paths_dict[key]\n",
    "    query_indxs.append(merged_paths_dict[key][0])\n",
    "\n",
    "\n",
    "path_graph = dists_graph.subgraph(sum_path).copy()\n",
    "\n",
    "\n",
    "for u,v,d in path_graph.edges(data=True):\n",
    "    d['sim'] = 1 - d['weight']\n",
    "  \n",
    "for i in path_graph.nodes():\n",
    "    trace = trace_stem(indx2keyword_c[i])\n",
    "    if trace == 'query':\n",
    "        trace_color = '#d95f02'\n",
    "    elif trace == 'link':\n",
    "        trace_color = '#7570b3'\n",
    "    else:\n",
    "        trace_color = '#1b9e77'\n",
    "    path_graph.nodes[i]['keyword'] = stems_dictionary[indx2keyword_c[i]]\n",
    "    count = 0\n",
    "\n",
    "    for k in stems_dictionary[indx2keyword_c[i]]:\n",
    "        count += unigram_counts[k]\n",
    "        path_graph.node[i]['count'] = count\n",
    "        path_graph.nodes[i]['trace_color'] = trace_color\n",
    "        path_graph.nodes[i]['trace'] = trace\n",
    "        \n",
    "T=nx.minimum_spanning_tree(path_graph)\n",
    "\n",
    "json_results = build_keywords_tree(T, indx2keyword_c, stems_dictionary) \n",
    "# print(json_results)"
   ]
  },
  {
   "cell_type": "code",
   "execution_count": 29,
   "metadata": {},
   "outputs": [
    {
     "name": "stdout",
     "output_type": "stream",
     "text": [
      "{\"graph\": {\"directed\": false, \"multigraph\": false, \"graph\": {}, \"nodes\": [{\"keyword\": [\"gabor\"], \"count\": 1, \"trace_color\": \"#1b9e77\", \"trace\": \"target\", \"x\": -0.1819, \"y\": 0.7791, \"id\": 2052}, {\"keyword\": [\"occlusion-free\"], \"count\": 0, \"trace_color\": \"#1b9e77\", \"trace\": \"target\", \"x\": 0.4362, \"y\": 0.2237, \"id\": 1414}, {\"keyword\": [\"heuristic-based\"], \"count\": 0, \"trace_color\": \"#1b9e77\", \"trace\": \"target\", \"x\": 0.3956, \"y\": 0.611, \"id\": 1930}, {\"keyword\": [\"filtering\", \"filters\", \"filter\", \"filtered\"], \"count\": 28, \"trace_color\": \"#1b9e77\", \"trace\": \"target\", \"x\": 0.1005, \"y\": 1.0, \"id\": 523}, {\"keyword\": [\"spiral\"], \"count\": 1, \"trace_color\": \"#1b9e77\", \"trace\": \"target\", \"x\": 0.2504, \"y\": -0.2788, \"id\": 1806}, {\"keyword\": [\"metro\"], \"count\": 1, \"trace_color\": \"#1b9e77\", \"trace\": \"target\", \"x\": 0.5575, \"y\": -0.2393, \"id\": 1810}, {\"keyword\": [\"oac\"], \"count\": 1, \"trace_color\": \"#1b9e77\", \"trace\": \"target\", \"x\": -0.3815, \"y\": -0.0278, \"id\": 1813}, {\"keyword\": [\"racial\"], \"count\": 1, \"trace_color\": \"#d95f02\", \"trace\": \"query\", \"x\": 0.0254, \"y\": 0.198, \"id\": 156}, {\"keyword\": [\"realtime\"], \"count\": 0, \"trace_color\": \"#1b9e77\", \"trace\": \"target\", \"x\": 0.172, \"y\": 0.0418, \"id\": 930}, {\"keyword\": [\"consistency\"], \"count\": 0, \"trace_color\": \"#1b9e77\", \"trace\": \"target\", \"x\": 0.0356, \"y\": -0.0599, \"id\": 1452}, {\"keyword\": [\"significance\"], \"count\": 0, \"trace_color\": \"#1b9e77\", \"trace\": \"target\", \"x\": 0.1166, \"y\": 0.4784, \"id\": 1069}, {\"keyword\": [\"hci\"], \"count\": 2, \"trace_color\": \"#1b9e77\", \"trace\": \"target\", \"x\": -0.1268, \"y\": 0.0071, \"id\": 1453}, {\"keyword\": [\"lic\"], \"count\": 8, \"trace_color\": \"#1b9e77\", \"trace\": \"target\", \"x\": -0.439, \"y\": 0.8991, \"id\": 816}, {\"keyword\": [\"forward\"], \"count\": 1, \"trace_color\": \"#1b9e77\", \"trace\": \"target\", \"x\": -0.7079, \"y\": 0.6898, \"id\": 819}, {\"keyword\": [\"choropleth\"], \"count\": 1, \"trace_color\": \"#1b9e77\", \"trace\": \"target\", \"x\": -0.6157, \"y\": -0.0894, \"id\": 2099}, {\"keyword\": [\"nice\"], \"count\": 1, \"trace_color\": \"#1b9e77\", \"trace\": \"target\", \"x\": -0.4386, \"y\": -0.2553, \"id\": 1716}, {\"keyword\": [\"digimap\"], \"count\": 1, \"trace_color\": \"#1b9e77\", \"trace\": \"target\", \"x\": -0.085, \"y\": -0.5566, \"id\": 1719}, {\"keyword\": [\"autocorrelation\"], \"count\": 0, \"trace_color\": \"#1b9e77\", \"trace\": \"target\", \"x\": -0.1499, \"y\": 0.5052, \"id\": 2112}, {\"keyword\": [\"server\"], \"count\": 2, \"trace_color\": \"#1b9e77\", \"trace\": \"target\", \"x\": -0.4298, \"y\": 0.1962, \"id\": 1089}, {\"keyword\": [\"labeling\", \"label\"], \"count\": 11, \"trace_color\": \"#7570b3\", \"trace\": \"link\", \"x\": -0.1215, \"y\": -0.1792, \"id\": 326}, {\"keyword\": [\"proportional\"], \"count\": 0, \"trace_color\": \"#1b9e77\", \"trace\": \"target\", \"x\": 0.0332, \"y\": -0.3224, \"id\": 1738}, {\"keyword\": [\"selection\", \"selective\", \"selections\"], \"count\": 0, \"trace_color\": \"#1b9e77\", \"trace\": \"target\", \"x\": -0.4234, \"y\": -0.3908, \"id\": 586}, {\"keyword\": [\"cartogram\", \"cartograms\"], \"count\": 4, \"trace_color\": \"#1b9e77\", \"trace\": \"target\", \"x\": 0.2612, \"y\": -0.5058, \"id\": 728}, {\"keyword\": [\"mercator\"], \"count\": 0, \"trace_color\": \"#1b9e77\", \"trace\": \"target\", \"x\": -0.2444, \"y\": -0.7011, \"id\": 1881}, {\"keyword\": [\"value-by-area\"], \"count\": 1, \"trace_color\": \"#1b9e77\", \"trace\": \"target\", \"x\": 0.1047, \"y\": -0.6843, \"id\": 729}, {\"keyword\": [\"thematic\"], \"count\": 0, \"trace_color\": \"#1b9e77\", \"trace\": \"target\", \"x\": 0.4699, \"y\": -0.5356, \"id\": 730}, {\"keyword\": [\"placement\"], \"count\": 14, \"trace_color\": \"#1b9e77\", \"trace\": \"target\", \"x\": 0.4058, \"y\": 0.049, \"id\": 610}, {\"keyword\": [\"willa\"], \"count\": 1, \"trace_color\": \"#d95f02\", \"trace\": \"query\", \"x\": -0.1892, \"y\": 0.2601, \"id\": 120}, {\"keyword\": [\"constrained\"], \"count\": 0, \"trace_color\": \"#1b9e77\", \"trace\": \"target\", \"x\": 0.3182, \"y\": -0.8133, \"id\": 637}, {\"keyword\": [\"level-sets\", \"level-set\"], \"count\": 2, \"trace_color\": \"#1b9e77\", \"trace\": \"target\", \"x\": 0.8519, \"y\": -0.2989, \"id\": 894}], \"links\": [{\"weight\": 0.3467102745714291, \"sim\": 0.6532897254285709, \"source\": 2052, \"target\": 816}, {\"weight\": 0.3984796863011464, \"sim\": 0.6015203136988536, \"source\": 2052, \"target\": 523}, {\"weight\": 0.45032250977098875, \"sim\": 0.5496774902290112, \"source\": 2052, \"target\": 819}, {\"weight\": 0.4982070525162876, \"sim\": 0.5017929474837124, \"source\": 2052, \"target\": 2112}, {\"weight\": 0.3822806528908259, \"sim\": 0.6177193471091741, \"source\": 1414, \"target\": 930}, {\"weight\": 0.41481450370389905, \"sim\": 0.585185496296101, \"source\": 1930, \"target\": 1069}, {\"weight\": 0.126620809770418, \"sim\": 0.873379190229582, \"source\": 1806, \"target\": 1738}, {\"weight\": 0.24642581106754224, \"sim\": 0.7535741889324578, \"source\": 1806, \"target\": 1719}, {\"weight\": 0.2549384709301694, \"sim\": 0.7450615290698306, \"source\": 1806, \"target\": 728}, {\"weight\": 0.39235450329204824, \"sim\": 0.6076454967079518, \"source\": 1806, \"target\": 1810}, {\"weight\": 0.4842016409391674, \"sim\": 0.5157983590608326, \"source\": 1810, \"target\": 894}, {\"weight\": 0.22236453245193943, \"sim\": 0.7776354675480606, \"source\": 1813, \"target\": 2099}, {\"weight\": 0.3182926287099469, \"sim\": 0.6817073712900531, \"source\": 1813, \"target\": 1452}, {\"weight\": 0.1476698367231173, \"sim\": 0.8523301632768827, \"source\": 156, \"target\": 120}, {\"weight\": 0.1945176511546468, \"sim\": 0.8054823488453532, \"source\": 156, \"target\": 1452}, {\"weight\": 0.27487521721428165, \"sim\": 0.7251247827857183, \"source\": 156, \"target\": 1089}, {\"weight\": 0.0949790765553512, \"sim\": 0.9050209234446488, \"source\": 930, \"target\": 1453}, {\"weight\": 0.02041404769505517, \"sim\": 0.9795859523049448, \"source\": 1452, \"target\": 1453}, {\"weight\": 0.06352461734668757, \"sim\": 0.9364753826533124, \"source\": 1452, \"target\": 326}, {\"weight\": 0.3896234187824261, \"sim\": 0.6103765812175739, \"source\": 1452, \"target\": 610}, {\"weight\": 0.4668298946269821, \"sim\": 0.5331701053730179, \"source\": 1452, \"target\": 586}, {\"weight\": 0.0608527829640636, \"sim\": 0.9391472170359364, \"source\": 1069, \"target\": 2112}, {\"weight\": 0.31732475354633427, \"sim\": 0.6826752464536657, \"source\": 1069, \"target\": 120}, {\"weight\": 0.39295149403136453, \"sim\": 0.6070485059686355, \"source\": 1716, \"target\": 326}, {\"weight\": 0.19429342966349739, \"sim\": 0.8057065703365026, \"source\": 1719, \"target\": 1881}, {\"weight\": 0.2469318064501992, \"sim\": 0.7530681935498008, \"source\": 326, \"target\": 1738}, {\"weight\": 0.10641555114813561, \"sim\": 0.8935844488518644, \"source\": 728, \"target\": 729}, {\"weight\": 0.05457894245685946, \"sim\": 0.9454210575431405, \"source\": 729, \"target\": 730}, {\"weight\": 0.25017593446358977, \"sim\": 0.7498240655364102, \"source\": 729, \"target\": 637}]}, \"docs\": {\"326\": {\"cx\": -0.12146130926553361, \"cy\": -0.17924459282380756, \"count\": 5, \"docs\": [{\"title\": \"DIVADIAWI - A Web-based Interface for Semi-automatic Labeling of Historical Document Images\", \"keywords\": [\"historical document images\", \"web interface\", \"semi-automatic labeling\"], \"trace\": \"query\", \"tokens\": [\"label\"], \"token_indices\": [407], \"token_indices_c\": [326]}, {\"title\": \"Molecular Surface Abstraction\", \"keywords\": [\"molecular surfaces\", \"molecular visualization\", \"surfaces\", \"textures\", \"cartographic labeling\"], \"trace\": \"target\", \"tokens\": [\"label\"], \"token_indices\": [407], \"token_indices_c\": [326]}, {\"title\": \"Text Scaffolds for Effective Surface Labeling\", \"keywords\": [\"surface labeling\", \"computational cartography\", \"text authoring\", \"annotation\"], \"trace\": \"target\", \"tokens\": [\"label\"], \"token_indices\": [407], \"token_indices_c\": [326]}, {\"title\": \"Comparing Visual-Interactive Labeling with Active Learning: An Experimental Study\", \"keywords\": [\"labeling\", \"visual-interactive labeling\", \"information visualization\", \"visual analytics\", \"active learning\", \"machine learning\", \"classification\", \"evaluation\", \"experiment\", \"dimensionality reduction\"], \"trace\": \"target\", \"tokens\": [\"label\"], \"token_indices\": [407], \"token_indices_c\": [326]}, {\"title\": \"Labels on Levels: Labeling of Multi-Scale Multi-Instance and Crowded 3D Biological Environments\", \"keywords\": [\"labeling\", \"multi-scale data\", \"multi-instance data\"], \"trace\": \"target\", \"tokens\": [\"label\"], \"token_indices\": [407], \"token_indices_c\": [326]}]}, \"120\": {\"cx\": -0.18918718295897063, \"cy\": 0.26008296386280455, \"count\": 1, \"docs\": [{\"title\": \"Mapping Imagined and Experienced Places: An Exploration of the Geography of Willa Cather\\u2019s Writing\", \"keywords\": [\"willa cather\", \"mapping\", \"gis\", \"spatial turn\"], \"trace\": \"query\", \"tokens\": [\"willa\"], \"token_indices\": [162], \"token_indices_c\": [120]}]}, \"156\": {\"cx\": 0.02538685056184561, \"cy\": 0.1979544880016131, \"count\": 1, \"docs\": [{\"title\": \"Monroe Work Today: Unearthing the Geography of US Lynching Violence\", \"keywords\": [\"racial violence\", \"lynching\", \"gis\"], \"trace\": \"query\", \"tokens\": [\"racial\"], \"token_indices\": [221], \"token_indices_c\": [156]}]}, \"523\": {\"cx\": 0.10051830319764683, \"cy\": 0.9999999999999999, \"count\": 25, \"docs\": [{\"title\": \"Volume sampled voxelization of geometric primitives\", \"keywords\": [\"voxelization\", \"volume sampling\", \"discrete ray tracing\", \"filtering\"], \"trace\": \"target\", \"tokens\": [\"filter\"], \"token_indices\": [607], \"token_indices_c\": [523]}, {\"title\": \"Principal stream surfaces\", \"keywords\": [\"flow field\", \"visualization\", \"volume rendering\", \"filtering\"], \"trace\": \"target\", \"tokens\": [\"filter\"], \"token_indices\": [607], \"token_indices_c\": [523]}, {\"title\": \"A comparison of normal estimation schemes\", \"keywords\": [\"interpolation filters\", \"derivative filters\", \"filter design\", \"normal estimation\", \"taylor series expansion\", \"efficient volume rendering\"], \"trace\": \"target\", \"tokens\": [\"filter\"], \"token_indices\": [607], \"token_indices_c\": [523]}, {\"title\": \"Oriented tensor reconstruction: tracing neural pathways from diffusion tensor MRI\", \"keywords\": [\"diffusion tensors\", \"adaptive filtering\", \"moving least squares\", \"streamlines\", \"fiber tracing\", \"pathways\", \"salient features\"], \"trace\": \"target\", \"tokens\": [\"filter\"], \"token_indices\": [607], \"token_indices_c\": [523]}, {\"title\": \"Heart-muscle fiber reconstruction from diffusion tensor MRI\", \"keywords\": [\"diffusion tensors\", \"dt-mri\", \"fiber tracing\", \"adaptive filtering\", \"moving least squares\", \"streamlines\"], \"trace\": \"target\", \"tokens\": [\"filter\"], \"token_indices\": [607], \"token_indices_c\": [523]}, {\"title\": \"Hardware-based nonlinear filtering and segmentation using high-level shading languages\", \"keywords\": [\"non-linear filtering\", \"segmentation\", \"hardware acceleration\"], \"trace\": \"target\", \"tokens\": [\"filter\"], \"token_indices\": [607], \"token_indices_c\": [523]}, {\"title\": \"Interactive hierarchical dimension ordering, spacing and filtering for exploration of high dimensional datasets\", \"keywords\": [\"dimension ordering\", \"dimension spacing\", \"dimension filtering\", \"multidimensional visualization\", \"high dimensional datasets\"], \"trace\": \"target\", \"tokens\": [\"filter\"], \"token_indices\": [607], \"token_indices_c\": [523]}, {\"title\": \"Hardware-accelerated adaptive EWA volume splatting\", \"keywords\": [\"direct volume rendering\", \"volume splatting\", \"ewa filter\", \"hardware acceleration\"], \"trace\": \"target\", \"tokens\": [\"filter\"], \"token_indices\": [607], \"token_indices_c\": [523]}, {\"title\": \"Metric-Based Network Exploration and Multiscale Scatterplot\", \"keywords\": [\"graph navigation\", \"exploration\", \"scatterplot\", \"multiscale perceptual organization\", \"clustering\", \"filtering\", \"blurring\"], \"trace\": \"target\", \"tokens\": [\"filter\"], \"token_indices\": [607], \"token_indices_c\": [523]}, {\"title\": \"Rough interface reconstruction using the level set method\", \"keywords\": [\"point sampled data\", \"surface reconstruction\", \"level set method\", \"shock filter\", \"total variation preserving\", \"rough surface\"], \"trace\": \"target\", \"tokens\": [\"filter\"], \"token_indices\": [607], \"token_indices_c\": [523]}, {\"title\": \"Methods for efficient, high quality volume resampling in the frequency domain\", \"keywords\": [\"resampling\", \"filters\", \"fourier transform\"], \"trace\": \"target\", \"tokens\": [\"filter\"], \"token_indices\": [607], \"token_indices_c\": [523]}, {\"title\": \"Strategy for seeding 3D streamlines\", \"keywords\": [\"streamlines\", \"flow guided\", \"feature based\", \"filtering\", \"critical points\", \"variable templates\"], \"trace\": \"target\", \"tokens\": [\"filter\"], \"token_indices\": [607], \"token_indices_c\": [523]}, {\"title\": \"VolQD: direct volume rendering of multi-million atom quantum dot simulations\", \"keywords\": [\"volume visualization\", \"volume rendering\", \"programmable graphics hardware\", \"face-centered cubic lattice\", \"reconstruction filter\", \"quantum dots\", \"atomistic simulation\"], \"trace\": \"target\", \"tokens\": [\"filter\"], \"token_indices\": [607], \"token_indices_c\": [523]}, {\"title\": \"Visualization of fibrous and Thread-like Data\", \"keywords\": [\"neuron visualization\", \"gpu acceleration\", \"global illumination\", \"orientation filtering\"], \"trace\": \"target\", \"tokens\": [\"filter\"], \"token_indices\": [607], \"token_indices_c\": [523]}, {\"title\": \"NewsLab: Exploratory Broadcast News Video Analysis\", \"keywords\": [\"large data exploration\", \"broadcast video analysis\", \"time filtering\", \"clustering\", \"animation\", \"comparative analysis\"], \"trace\": \"target\", \"tokens\": [\"filter\"], \"token_indices\": [607], \"token_indices_c\": [523]}, {\"title\": \"On the Visualization of Social and other Scale-Free Networks\", \"keywords\": [\"scale-free network\", \"edge filtering\", \"betweenness centrality\", \"anisotropic shading\"], \"trace\": \"target\", \"tokens\": [\"filter\"], \"token_indices\": [607], \"token_indices_c\": [523]}, {\"title\": \"Isosurface Extraction and View-Dependent filtering from Time-Varying fields Using Persistent Time-Octree (PTOT)\", \"keywords\": [\"isosurface extraction\", \"time-varying fields\", \"persistent data structure\", \"view-dependent filtering\", \"out-of-core methods\"], \"trace\": \"target\", \"tokens\": [\"filter\"], \"token_indices\": [607], \"token_indices_c\": [523]}, {\"title\": \"VDVR: Verifiable Volume Visualization of Projection-Based Data\", \"keywords\": [\"direct volume rendering\", \"computed tomography\", \"filtered back-projection\", \"verifiable visualization\"], \"trace\": \"target\", \"tokens\": [\"filter\"], \"token_indices\": [607], \"token_indices_c\": [523]}, {\"title\": \"Voronoi-Based Extraction and Visualization of Molecular Paths\", \"keywords\": [\"molecular visualization\", \"data filtering\", \"geometry-based techniques\", \"view-dependent visualization\"], \"trace\": \"target\", \"tokens\": [\"filter\"], \"token_indices\": [607], \"token_indices_c\": [523]}, {\"title\": \"MoleView: An Attribute and Structure-Based Semantic Lens for Large Element-Based Plots\", \"keywords\": [\"semantic lenses\", \"magic lenses\", \"graph bundling\", \"attribute filtering\"], \"trace\": \"target\", \"tokens\": [\"filter\"], \"token_indices\": [607], \"token_indices_c\": [523]}, {\"title\": \"ScatterBlogs2: Real-Time Monitoring of Microblog Messages through User-Guided filtering\", \"keywords\": [\"microblog analysis\", \"twitter\", \"text analytics\", \"social media monitoring\", \"live monitoring\", \"visual analytics\", \"information visualization\", \"filter construction\", \"query construction\", \"text classification\"], \"trace\": \"target\", \"tokens\": [\"filter\"], \"token_indices\": [607], \"token_indices_c\": [523]}, {\"title\": \"Low-Pass Filtered Volumetric Shadows\", \"keywords\": [\"direct volume rendering\", \"volume illumination\", \"soft shadows\", \"filtered shadows\", \"summed area table\"], \"trace\": \"target\", \"tokens\": [\"filter\"], \"token_indices\": [607], \"token_indices_c\": [523]}, {\"title\": \"Visualization and Extraction of Carvings for Heritage Conservation\", \"keywords\": [\"feature filtering\", \"feature extraction\", \"heritage preservation\", \"frangi filter\", \"surface analysis\"], \"trace\": \"target\", \"tokens\": [\"filter\"], \"token_indices\": [607], \"token_indices_c\": [523]}, {\"title\": \"On the Treatment of Field Quantities and Elemental Continuity in FEM Solutions\", \"keywords\": [\"flow visualization\", \"discontinuous galerkin methods\", \"continuous galerkin methods\", \"finite element methods\", \"finite volume methods\", \"filtering techniques\", \"scalar field data\", \"irregular and unstructured grids\", \"extraction of surfaces isosurfaces\"], \"trace\": \"target\", \"tokens\": [\"filter\"], \"token_indices\": [607], \"token_indices_c\": [523]}, {\"title\": \"Culling for Extreme-Scale Segmentation Volumes: A Hybrid Deterministic and Probabilistic Approach\", \"keywords\": [\"hierarchical culling\", \"segmented volume data\", \"bloom filter\", \"volume rendering\", \"spatial queries\"], \"trace\": \"target\", \"tokens\": [\"filter\"], \"token_indices\": [607], \"token_indices_c\": [523]}]}, \"586\": {\"cx\": -0.42337243725700646, \"cy\": -0.3907638943388572, \"count\": 26, \"docs\": [{\"title\": \"Directional flow visualization of vector fields\", \"keywords\": [\"glyphs\", \"streamlines\", \"lighting\", \"hue\", \"value\", \"region selection\", \"clutter reduction\", \"flow reversal\"], \"trace\": \"target\", \"tokens\": [\"select\"], \"token_indices\": [672], \"token_indices_c\": [586]}, {\"title\": \"Navigating hierarchies with structure-based brushes\", \"keywords\": [\"brushing\", \"hierarchical representation\", \"interactive selection\", \"exploratory data analysis\"], \"trace\": \"target\", \"tokens\": [\"select\"], \"token_indices\": [672], \"token_indices_c\": [586]}, {\"title\": \"Compound brushing\", \"keywords\": [\"brushing\", \"selection\", \"dynamic graphics\", \"data visualization\", \"higraph\", \"visual programming\", \"dynamic query\"], \"trace\": \"target\", \"tokens\": [\"select\"], \"token_indices\": [672], \"token_indices_c\": [586]}, {\"title\": \"A Rank-by-Feature Framework for Unsupervised Multidimensional Data Exploration Using Low Dimensional Projections\", \"keywords\": [\"information visualization\", \"exploratory data analysis\", \"dynamic query\", \"feature detection selection\", \"statistical graphics\"], \"trace\": \"target\", \"tokens\": [\"select\"], \"token_indices\": [672], \"token_indices_c\": [586]}, {\"title\": \"View selection for volume rendering\", \"keywords\": [\"viewpoint selection\", \"view space partitioning\", \"volume rendering\", \"entropy\", \"visibility\"], \"trace\": \"target\", \"tokens\": [\"select\"], \"token_indices\": [672], \"token_indices_c\": [586]}, {\"title\": \"Dynamic View Selection for Time-Varying Volumes\", \"keywords\": [\"static view selection\", \"image based method\", \"dynamic view selection\", \"information entropy\", \"optimization\"], \"trace\": \"target\", \"tokens\": [\"select\"], \"token_indices\": [672], \"token_indices_c\": [586]}, {\"title\": \"LiveSync: Deformed Viewing Spheres for Knowledge-Based Navigation\", \"keywords\": [\"navigation\", \"interaction\", \"linked views\", \"medical visualization\", \"viewpoint selection\"], \"trace\": \"target\", \"tokens\": [\"select\"], \"token_indices\": [672], \"token_indices_c\": [586]}, {\"title\": \"Supercubes: A High-Level Primitive for Diamond Hierarchies\", \"keywords\": [\"longest edge bisection\", \"diamonds\", \"hierarchy of diamonds\", \"multiresolution models\", \"selective refinement\"], \"trace\": \"target\", \"tokens\": [\"select\"], \"token_indices\": [672], \"token_indices_c\": [586]}, {\"title\": \"Arc Length-Based Aspect Ratio Selection\", \"keywords\": [\"aspect ratio selection\", \"banking to 45 degrees\", \"orientation resolution\"], \"trace\": \"target\", \"tokens\": [\"select\"], \"token_indices\": [672], \"token_indices_c\": [586]}, {\"title\": \"Efficient Structure-Aware Selection Techniques for 3D Point Cloud Visualizations with 2DOF Input\", \"keywords\": [\"3d interaction\", \"spatial selection\", \"direct-touch interaction\"], \"trace\": \"target\", \"tokens\": [\"select\"], \"token_indices\": [672], \"token_indices_c\": [586]}, {\"title\": \"An Empirical Model of Slope Ratio Comparisons\", \"keywords\": [\"banking to 45 degrees\", \"slope perception\", \"orientation resolution\", \"aspect ratio selection\"], \"trace\": \"target\", \"tokens\": [\"select\"], \"token_indices\": [672], \"token_indices_c\": [586]}, {\"title\": \"A Partition-Based Framework for Building and Validating Regression Models\", \"keywords\": [\"regression\", \"model building\", \"visual knowledge discovery\", \"feature selection\", \"data partitioning\", \"guided visualization\"], \"trace\": \"target\", \"tokens\": [\"select\"], \"token_indices\": [672], \"token_indices_c\": [586]}, {\"title\": \"Visual Analytics for Model Selection in Time Series Analysis\", \"keywords\": [\"visual analytics\", \"model selection\", \"visual interaction\", \"time series analysis\", \"coordinated and multiple views\"], \"trace\": \"target\", \"tokens\": [\"select\"], \"token_indices\": [672], \"token_indices_c\": [586]}, {\"title\": \"Multivariate Network Exploration and Presentation: From Detail to Overview via Selections and Aggregations\", \"keywords\": [\"multivariate networks\", \"selections of interest\", \"interaction\", \"direct manipulation\"], \"trace\": \"target\", \"tokens\": [\"select\"], \"token_indices\": [672], \"token_indices_c\": [586]}, {\"title\": \"INFUSE: Interactive Feature Selection for Predictive Modeling of High Dimensional Data\", \"keywords\": [\"predictive modeling\", \"feature selection\", \"classification\", \"visual analytics\", \"high-dimensional data\"], \"trace\": \"target\", \"tokens\": [\"select\"], \"token_indices\": [672], \"token_indices_c\": [586]}, {\"title\": \"Visual Methods for Analyzing Probabilistic Classification Data\", \"keywords\": [\"probabilistic classification\", \"confusion analysis\", \"feature evaluation and selection\", \"visual inspection\"], \"trace\": \"target\", \"tokens\": [\"select\"], \"token_indices\": [672], \"token_indices_c\": [586]}, {\"title\": \"Integrating Predictive Analytics and Social Media\", \"keywords\": [\"social media\", \"predictive analytics\", \"feature selection\"], \"trace\": \"target\", \"tokens\": [\"select\"], \"token_indices\": [672], \"token_indices_c\": [586]}, {\"title\": \"Orientation-Enhanced Parallel Coordinate Plots\", \"keywords\": [\"parallel coordinates\", \"orientation-enhanced parallel coordinates\", \"brushing\", \"orientation-enhanced brushing\", \"data readability\", \"data selection\"], \"trace\": \"target\", \"tokens\": [\"select\"], \"token_indices\": [672], \"token_indices_c\": [586]}, {\"title\": \"Visualizing Multiple Variables Across Scale and Geography\", \"keywords\": [\"scale\", \"geography\", \"multivariate\", \"sensitivity analysis\", \"variable selection\", \"local statistics\", \"geodemographics\", \"energy\"], \"trace\": \"target\", \"tokens\": [\"select\"], \"token_indices\": [672], \"token_indices_c\": [586]}, {\"title\": \"CAST: Effective and Efficient User Interaction for Context-Aware Selection in 3D Particle Clouds\", \"keywords\": [\"selection\", \"spatial selection\", \"structure-aware selection\", \"context-aware selection\", \"exploratory data visualization and analysis\", \"3d interaction\", \"user interaction\"], \"trace\": \"target\", \"tokens\": [\"select\"], \"token_indices\": [672], \"token_indices_c\": [586]}, {\"title\": \"Automatic Selection of Partitioning Variables for Small Multiple Displays\", \"keywords\": [\"small multiple displays\", \"visualization selection\", \"multidimensional data\"], \"trace\": \"target\", \"tokens\": [\"select\"], \"token_indices\": [672], \"token_indices_c\": [586]}, {\"title\": \"Visual Analytics for Development and Evaluation of Order Selection Criteria for Autoregressive Processes\", \"keywords\": [\"visual analytics\", \"time series analysis\", \"order selection\"], \"trace\": \"target\", \"tokens\": [\"select\"], \"token_indices\": [672], \"token_indices_c\": [586]}, {\"title\": \"Screenit: Visual Analysis of Cellular Screens\", \"keywords\": [\"high-content screening\", \"visual analysis\", \"feature selection\", \"image classification\", \"biology\", \"multivariate\", \"hierarchy\"], \"trace\": \"target\", \"tokens\": [\"select\"], \"token_indices\": [672], \"token_indices_c\": [586]}, {\"title\": \"Magnostics: Image-Based Search of Interesting Matrix Views for Guided Network Exploration\", \"keywords\": [\"matrix visualization\", \"visual quality measures\", \"quality metrics\", \"feature detection selection\", \"relational data\"], \"trace\": \"target\", \"tokens\": [\"select\"], \"token_indices\": [672], \"token_indices_c\": [586]}, {\"title\": \"TreePOD: Sensitivity-Aware Selection of Pareto-Optimal Decision Trees\", \"keywords\": [\"model selection\", \"classification trees\", \"visual parameter search\", \"sensitivity analysis\", \"pareto optimality\"], \"trace\": \"target\", \"tokens\": [\"select\"], \"token_indices\": [672], \"token_indices_c\": [586]}, {\"title\": \"RegressionExplorer: Interactive Exploration of Logistic Regression Models with Subgroup Analysis\", \"keywords\": [\"visual analytics\", \"predictive visual analytics\", \"exploratory data analysis\", \"multivariate statistics\", \"regression analysis\", \"variable selection\", \"subgroup analysis\"], \"trace\": \"target\", \"tokens\": [\"select\"], \"token_indices\": [672], \"token_indices_c\": [586]}]}, \"610\": {\"cx\": 0.40577120169641395, \"cy\": 0.04903046963954774, \"count\": 10, \"docs\": [{\"title\": \"A linear iteration time layout algorithm for visualising high-dimensional data\", \"keywords\": [\"layout algorithms\", \"visualization\", \"high-dimensional data\", \"spring models\", \"stochastic algorithms\", \"force-directed placement\"], \"trace\": \"target\", \"tokens\": [\"placement\"], \"token_indices\": [697], \"token_indices_c\": [610]}, {\"title\": \"A flow-guided streamline seeding strategy\", \"keywords\": [\"seed placement\", \"streamline\", \"critical point\", \"voronoi diagram\", \"poisson disk distribution\"], \"trace\": \"target\", \"tokens\": [\"placement\"], \"token_indices\": [697], \"token_indices_c\": [610]}, {\"title\": \"Improving Hybrid MDS with Pivot-Based Searching\", \"keywords\": [\"multidimensional scaling\", \"mds\", \"spring models\", \"hybrid algorithms\", \"pivots\", \"near-neighbour search\", \"force directed placement\"], \"trace\": \"target\", \"tokens\": [\"placement\"], \"token_indices\": [697], \"token_indices_c\": [610]}, {\"title\": \"Vorticity based flow analysis and visualization for Pelton turbine design optimization\", \"keywords\": [\"flow visualization\", \"feature extraction\", \"line placement\"], \"trace\": \"target\", \"tokens\": [\"placement\"], \"token_indices\": [697], \"token_indices_c\": [610]}, {\"title\": \"Evaluating a System for Interactive Exploration of Large, Hierarchically Structured Document Repositories\", \"keywords\": [\"information visualization\", \"navigation\", \"document retrieval\", \"hierarchical repositories\", \"knowledge management\", \"information management\", \"force-directed placement\", \"voronoi\"], \"trace\": \"target\", \"tokens\": [\"placement\"], \"token_indices\": [697], \"token_indices_c\": [610]}, {\"title\": \"Light Collages: lighting design for effective visualization\", \"keywords\": [\"lighting design\", \"scientific illustration\", \"inconsistent lighting\", \"light placement\", \"silhouette enhancement\", \"proximity shadows\"], \"trace\": \"target\", \"tokens\": [\"placement\"], \"token_indices\": [697], \"token_indices_c\": [610]}, {\"title\": \"Farthest point seeding for efficient placement of streamlines\", \"keywords\": [\"streamline placement\", \"farthest point seeding\", \"delaunay triangulation\", \"variable density\", \"multiresolution\"], \"trace\": \"target\", \"tokens\": [\"placement\"], \"token_indices\": [697], \"token_indices_c\": [610]}, {\"title\": \"An Advanced Evenly-Spaced Streamline Placement Algorithm\", \"keywords\": [\"flow visualization\", \"evenly-spaced streamlines\", \"streamline placement\", \"seeding strategy\", \"closed streamlines\"], \"trace\": \"target\", \"tokens\": [\"placement\"], \"token_indices\": [697], \"token_indices_c\": [610]}, {\"title\": \"Effects of Video Placement and Spatial Context Presentation on Path Reconstruction Tasks with Contextualized Videos\", \"keywords\": [\"contextualized videos\", \"design factors\", \"user study\", \"video placement\", \"spatial context\", \"tracking\", \"path reconstruction\"], \"trace\": \"target\", \"tokens\": [\"placement\"], \"token_indices\": [697], \"token_indices_c\": [610]}, {\"title\": \"Asymmetric Tensor field Visualization for Surfaces\", \"keywords\": [\"aasymmetric tensor fields\", \"vector fields\", \"glyph packing\", \"hyperstreamline placement\", \"view-dependent\"], \"trace\": \"target\", \"tokens\": [\"placement\"], \"token_indices\": [697], \"token_indices_c\": [610]}]}, \"637\": {\"cx\": 0.3182005723890632, \"cy\": -0.8133245381317229, \"count\": 4, \"docs\": [{\"title\": \"Image synthesis from a sparse set of views\", \"keywords\": [\"image-based rendering\", \"epipolar geometry\", \"projective invariant\", \"homography\", \"constrained delaunay triangulation\"], \"trace\": \"target\", \"tokens\": [\"constrain\"], \"token_indices\": [725], \"token_indices_c\": [637]}, {\"title\": \"Constrained 3D navigation with 2D controllers\", \"keywords\": [\"navigation\", \"constrained navigation\", \"viewing control\", \"camera control\"], \"trace\": \"target\", \"tokens\": [\"constrain\"], \"token_indices\": [725], \"token_indices_c\": [637]}, {\"title\": \"Visualizing the tightening of knots\", \"keywords\": [\"collision detection\", \"contact\", \"flexible models\", \"tight knots\", \"ideal knots\", \"ropelength\", \"nonlinear optimization\", \"constrained least squares\"], \"trace\": \"target\", \"tokens\": [\"constrain\"], \"token_indices\": [725], \"token_indices_c\": [637]}, {\"title\": \"Scatter/Gather Clustering: Flexibly Incorporating User Feedback to Steer Clustering Results\", \"keywords\": [\"scatter/gather clustering\", \"alternative clustering\", \"constrained clustering\"], \"trace\": \"target\", \"tokens\": [\"constrain\"], \"token_indices\": [725], \"token_indices_c\": [637]}]}, \"637+728+729+730\": {\"cx\": 0.2884999262197714, \"cy\": -0.6347573104720245, \"count\": 1, \"docs\": [{\"title\": \"Continuous cartogram construction\", \"keywords\": [\"cartogram\", \"value-by-area map\", \"map transformation\", \"anamorphosis\", \"thematic cartography\", \"constrained optimization\"], \"trace\": \"target\", \"tokens\": [\"constrain\", \"cartogram\", \"value-by-area\", \"themat\"], \"token_indices\": [725, 819, 820, 822], \"token_indices_c\": [637, 728, 729, 730]}]}, \"816\": {\"cx\": -0.43903789161921397, \"cy\": 0.8991120264595777, \"count\": 7, \"docs\": [{\"title\": \"Interactive exploration of volume line integral convolution based on 3D-texture mapping\", \"keywords\": [\"flow visualization\", \"animated lic\", \"direct volume rendering\", \"3d-textures mapping\", \"interactive volume exploration\"], \"trace\": \"target\", \"tokens\": [\"lic\"], \"token_indices\": [919], \"token_indices_c\": [816]}, {\"title\": \"Visualizing Planar Vector Fields with Normal Component Using Line Integral Convolution\", \"keywords\": [\"lic\", \"vector field visualization\", \"deformation\"], \"trace\": \"target\", \"tokens\": [\"lic\"], \"token_indices\": [919], \"token_indices_c\": [816]}, {\"title\": \"HyperLIC\", \"keywords\": [\"hyperstreamlines\", \"lic\", \"symmetric tensors\", \"anisotropy\", \"animation\", \"direct volume rendering\"], \"trace\": \"target\", \"tokens\": [\"lic\"], \"token_indices\": [919], \"token_indices_c\": [816]}, {\"title\": \"A texture-based framework for spacetime-coherent visualization of time-dependent vector fields\", \"keywords\": [\"time-dependent vector fields\", \"unsteady flow visualization\", \"lic\", \"texture advection\", \"hardware acceleration\"], \"trace\": \"target\", \"tokens\": [\"lic\"], \"token_indices\": [919], \"token_indices_c\": [816]}, {\"title\": \"Physically based methods for tensor field visualization\", \"keywords\": [\"tensors field\", \"stress tensor\", \"strain tensor\", \"lic\"], \"trace\": \"target\", \"tokens\": [\"lic\"], \"token_indices\": [919], \"token_indices_c\": [816]}, {\"title\": \"Particle and texture based spatiotemporal visualization of time-dependent vector fields\", \"keywords\": [\"unsteady flow visualization\", \"visualization framework\", \"lic\", \"texture advection\", \"particle systems\", \"gpu methods\"], \"trace\": \"target\", \"tokens\": [\"lic\"], \"token_indices\": [919], \"token_indices_c\": [816]}, {\"title\": \"Reconstruction and Visualization of Coordinated 3D Cell Migration Based on Optical Flow\", \"keywords\": [\"cell migration\", \"vector field\", \"3d\", \"timedependent\", \"lic\", \"tracking\", \"validation\"], \"trace\": \"target\", \"tokens\": [\"lic\"], \"token_indices\": [919], \"token_indices_c\": [816]}]}, \"523+819\": {\"cx\": -0.3036862112086544, \"cy\": 0.8448759511141076, \"count\": 1, \"docs\": [{\"title\": \"Forward image mapping\", \"keywords\": [\"image warping\", \"forward mapping\", \"texture mapping\", \"antialiasing\", \"anisotropic filtering\", \"gouraud shading\", \"hardware\"], \"trace\": \"target\", \"tokens\": [\"filter\", \"forward\"], \"token_indices\": [607, 922], \"token_indices_c\": [523, 819]}]}, \"894\": {\"cx\": 0.8518645646260847, \"cy\": -0.29885322058207797, \"count\": 1, \"docs\": [{\"title\": \"A level-set method for flow visualization\", \"keywords\": [\"flow visualization\", \"level-sets\", \"feature extraction\", \"multiscale representation\", \"texture mapping\"], \"trace\": \"target\", \"tokens\": [\"level-set\"], \"token_indices\": [1007], \"token_indices_c\": [894]}]}, \"930\": {\"cx\": 0.1719665010166503, \"cy\": 0.04178565685024202, \"count\": 2, \"docs\": [{\"title\": \"Fast visualization methods for comparing dynamics: a case study in combustion\", \"keywords\": [\"realtime visualization\", \"steering\", \"symmetry\", \"tiling\", \"pattern formation\", \"movies\"], \"trace\": \"target\", \"tokens\": [\"realtim\"], \"token_indices\": [1043], \"token_indices_c\": [930]}, {\"title\": \"View-dependent rendering of multiresolution texture-atlases\", \"keywords\": [\"multiresolution textures\", \"texture level-of-detail\", \"realtime rendering\", \"view-dependent rendering\"], \"trace\": \"target\", \"tokens\": [\"realtim\"], \"token_indices\": [1043], \"token_indices_c\": [930]}]}, \"1069\": {\"cx\": 0.11657943795424662, \"cy\": 0.47841374122368346, \"count\": 1, \"docs\": [{\"title\": \"Case study: hardware-accelerated selective LIC volume rendering\", \"keywords\": [\"flow visualization\", \"flow topology\", \"significance map\", \"illumination model\"], \"trace\": \"target\", \"tokens\": [\"signific\"], \"token_indices\": [1212], \"token_indices_c\": [1069]}]}, \"1089\": {\"cx\": -0.42979687950008605, \"cy\": 0.1961921111261829, \"count\": 2, \"docs\": [{\"title\": \"Semotus Visum: a flexible remote visualization framework\", \"keywords\": [\"remote visualization\", \"client server\"], \"trace\": \"target\", \"tokens\": [\"server\"], \"token_indices\": [1235], \"token_indices_c\": [1089]}, {\"title\": \"Hotmap: Looking at Geographic Attention\", \"keywords\": [\"geographical visualization\", \"gis\", \"heatmap\", \"server log analysis\", \"online mapping systems\", \"social navigation\"], \"trace\": \"target\", \"tokens\": [\"server\"], \"token_indices\": [1235], \"token_indices_c\": [1089]}]}, \"326+610\": {\"cx\": 0.14215494621544017, \"cy\": -0.06510706159212991, \"count\": 2, \"docs\": [{\"title\": \"Dynamic visualization of graphs with extended labels\", \"keywords\": [\"graph label placement\", \"dynamic animation\", \"graph visualization\", \"information visualization\"], \"trace\": \"target\", \"tokens\": [\"label\", \"placement\"], \"token_indices\": [407, 697], \"token_indices_c\": [326, 610]}, {\"title\": \"Spatial Text Visualization Using Automatic Typographic Maps\", \"keywords\": [\"geovisualization\", \"spatial data\", \"text visualization\", \"label placement\"], \"trace\": \"target\", \"tokens\": [\"label\", \"placement\"], \"token_indices\": [407, 697], \"token_indices_c\": [326, 610]}]}, \"586+894\": {\"cx\": 0.21424606368453913, \"cy\": -0.34480855746046757, \"count\": 1, \"docs\": [{\"title\": \"A feature-driven approach to locating optimal viewpoints for volume visualization\", \"keywords\": [\"viewpoint selection\", \"viewpoint entropy\", \"direct volume rendering\", \"interval volumes\", \"level-set graphs\"], \"trace\": \"target\", \"tokens\": [\"select\", \"level-set\"], \"token_indices\": [672, 1007], \"token_indices_c\": [586, 894]}]}, \"1414\": {\"cx\": 0.43616801749507306, \"cy\": 0.2237324875112006, \"count\": 1, \"docs\": [{\"title\": \"Occlusion-Free Animation of Driving Routes for Car Navigation Systems\", \"keywords\": [\"car navigation systems\", \"nonperspective projection\", \"occlusion-free animation\", \"visual perception\", \"temporal coherence\"], \"trace\": \"target\", \"tokens\": [\"occlusion-fre\"], \"token_indices\": [1637], \"token_indices_c\": [1414]}]}, \"728\": {\"cx\": 0.2611897777469603, \"cy\": -0.5058432484180176, \"count\": 3, \"docs\": [{\"title\": \"Visualization of Geo-spatial Point Sets via Global Shape Transformation and Local Pixel Placement\", \"keywords\": [\"geo-spatial data\", \"shape transformation\", \"cartogram\", \"pixel visualization\"], \"trace\": \"target\", \"tokens\": [\"cartogram\"], \"token_indices\": [819], \"token_indices_c\": [728]}, {\"title\": \"Worldmapper: The World as You've Never Seen it Before\", \"keywords\": [\"geographic visualization\", \"computer graphics\", \"worldmapper\", \"data visualization\", \"social visualization\", \"cartogram\"], \"trace\": \"target\", \"tokens\": [\"cartogram\"], \"token_indices\": [819], \"token_indices_c\": [728]}, {\"title\": \"Spatially Ordered Treemaps\", \"keywords\": [\"geovisualization\", \"treemaps\", \"cartograms\", \"cielab\", \"geographic information\", \"tree structures\"], \"trace\": \"target\", \"tokens\": [\"cartogram\"], \"token_indices\": [819], \"token_indices_c\": [728]}]}, \"326+523+586+610+930+1452+1453\": {\"cx\": 0.027639022545684774, \"cy\": 0.2194221917668968, \"count\": 1, \"docs\": [{\"title\": \"Dynamic Map Labeling\", \"keywords\": [\"map labeling\", \"dynamic maps\", \"human-computer interface\", \"label placement\", \"label selection\", \"label filtering\", \"label consistency\", \"computational cartography\", \"gis\", \"hci\", \"realtime\", \"preprocessing\"], \"trace\": \"target\", \"tokens\": [\"label\", \"filter\", \"select\", \"placement\", \"realtim\", \"consist\", \"hci\"], \"token_indices\": [407, 607, 672, 697, 1043, 1682, 1683], \"token_indices_c\": [326, 523, 586, 610, 930, 1452, 1453]}]}, \"326+610+1414\": {\"cx\": 0.24015930330865112, \"cy\": 0.03117278810898026, \"count\": 1, \"docs\": [{\"title\": \"Particle-based labeling: Fast point-feature labeling without obscuring other visual features\", \"keywords\": [\"interactive labeling\", \"dynamic labeling\", \"automatic label placement\", \"occlusion-free\", \"information visualization\"], \"trace\": \"target\", \"tokens\": [\"label\", \"placement\", \"occlusion-fre\"], \"token_indices\": [407, 697, 1637], \"token_indices_c\": [326, 610, 1414]}]}, \"326+1716\": {\"cx\": -0.28002456715863017, \"cy\": -0.2172745644369462, \"count\": 1, \"docs\": [{\"title\": \"An Extension of Wilkinson's Algorithm for Positioning Tick Labels on Axes\", \"keywords\": [\"axis labeling\", \"nice numbers\"], \"trace\": \"target\", \"tokens\": [\"label\", \"nice\"], \"token_indices\": [407, 2017], \"token_indices_c\": [326, 1716]}]}, \"1719\": {\"cx\": -0.08500256048586063, \"cy\": -0.5565811567528185, \"count\": 1, \"docs\": [{\"title\": \"Rethinking Map Legends with Visualization\", \"keywords\": [\"cartography\", \"design\", \"digimap service\", \"legend\", \"online web mapping\", \"visualization\"], \"trace\": \"target\", \"tokens\": [\"digimap\"], \"token_indices\": [2020], \"token_indices_c\": [1719]}]}, \"1738\": {\"cx\": 0.0331857411354201, \"cy\": -0.32243039139206536, \"count\": 1, \"docs\": [{\"title\": \"Necklace Maps\", \"keywords\": [\"geographic visualization\", \"automated cartography\", \"proportional symbol maps\", \"necklace maps\"], \"trace\": \"target\", \"tokens\": [\"proport\"], \"token_indices\": [2045], \"token_indices_c\": [1738]}]}, \"1453\": {\"cx\": -0.12684521878146698, \"cy\": 0.007128760267678772, \"count\": 1, \"docs\": [{\"title\": \"A two-stage framework for designing visual analytics system in organizational environments\", \"keywords\": [\"design theory\", \"visual analytics\", \"hci\"], \"trace\": \"target\", \"tokens\": [\"hci\"], \"token_indices\": [1683], \"token_indices_c\": [1453]}]}, \"1806\": {\"cx\": 0.25040522391220255, \"cy\": -0.2788453356398583, \"count\": 1, \"docs\": [{\"title\": \"Flow Map Layout via Spiral Trees\", \"keywords\": [\"flow maps\", \"automated cartography\", \"spiral trees\"], \"trace\": \"target\", \"tokens\": [\"spiral\"], \"token_indices\": [2136], \"token_indices_c\": [1806]}]}, \"326+1810\": {\"cx\": 0.2179944959064061, \"cy\": -0.20927503800948272, \"count\": 1, \"docs\": [{\"title\": \"Focus+Context Metro Maps\", \"keywords\": [\"focus+context visualization\", \"metro map\", \"octilinear layout\", \"graph labeling\", \"optimization\"], \"trace\": \"target\", \"tokens\": [\"label\", \"metro\"], \"token_indices\": [407, 2140], \"token_indices_c\": [326, 1810]}]}, \"1813\": {\"cx\": -0.3814715063851077, \"cy\": -0.02775882481479972, \"count\": 1, \"docs\": [{\"title\": \"Exploring Uncertainty in Geodemographics with Interactive Graphics\", \"keywords\": [\"geodemographics\", \"oac\", \"classification\", \"cartography\", \"uncertainty\"], \"trace\": \"target\", \"tokens\": [\"oac\"], \"token_indices\": [2144], \"token_indices_c\": [1813]}]}, \"1881\": {\"cx\": -0.24438730290782404, \"cy\": -0.7010586253778283, \"count\": 1, \"docs\": [{\"title\": \"Adaptive Composite Map Projections\", \"keywords\": [\"multi-scale map\", \"web mapping\", \"web cartography\", \"web map projection\", \"web mercator\", \"html5 canvas\"], \"trace\": \"target\", \"tokens\": [\"mercat\"], \"token_indices\": [2228], \"token_indices_c\": [1881]}]}, \"1930\": {\"cx\": 0.395579697746455, \"cy\": 0.6109944247384388, \"count\": 1, \"docs\": [{\"title\": \"Visual Analytics for Spatial Clustering: Using a Heuristic Approach for Guided Exploration\", \"keywords\": [\"heuristic-based spatial clustering\", \"interactive visual clustering\", \"k-order alpha-shapes\"], \"trace\": \"target\", \"tokens\": [\"heuristic-bas\"], \"token_indices\": [2289], \"token_indices_c\": [1930]}]}, \"523+816+2052\": {\"cx\": -0.17347411174575345, \"cy\": 0.892724407127537, \"count\": 1, \"docs\": [{\"title\": \"Explicit Frequency Control for High-Quality Texture-Based Flow Visualization\", \"keywords\": [\"flow visualization\", \"texture-based visualization\", \"lic\", \"gabor filter\", \"spatial frequency\", \"image contrast\"], \"trace\": \"target\", \"tokens\": [\"filter\", \"lic\", \"gabor\"], \"token_indices\": [607, 919, 2440], \"token_indices_c\": [523, 816, 2052]}]}, \"2099\": {\"cx\": -0.6156936935465935, \"cy\": -0.08942582275377664, \"count\": 1, \"docs\": [{\"title\": \"Quantifying the Visual Impact of Classification Boundaries in Choropleth Maps\", \"keywords\": [\"choropleth\", \"classification\", \"visualization\", \"geodemographics\", \"geovisualization\"], \"trace\": \"target\", \"tokens\": [\"choropleth\"], \"token_indices\": [2502], \"token_indices_c\": [2099]}]}, \"1069+2112\": {\"cx\": -0.016640539144449497, \"cy\": 0.4918244413549302, \"count\": 1, \"docs\": [{\"title\": \"Map LineUps: Effects of spatial structure on graphical inference\", \"keywords\": [\"graphical inference\", \"spatial autocorrelation\", \"just noticeable difference\", \"geovisualization\", \"statistical significance\"], \"trace\": \"target\", \"tokens\": [\"signific\", \"autocorrel\"], \"token_indices\": [1212, 2519], \"token_indices_c\": [1069, 2112]}]}, \"730\": {\"cx\": 0.46991506750943823, \"cy\": -0.5355594633191044, \"count\": 1, \"docs\": [{\"title\": \"Surprise! Bayesian Weighting for De-Biasing Thematic Maps\", \"keywords\": [\"thematic maps\", \"bayesian surprise\", \"event visualization\", \"spatia-temporal data\"], \"trace\": \"target\", \"tokens\": [\"themat\"], \"token_indices\": [822], \"token_indices_c\": [730]}]}, \"1452\": {\"cx\": 0.035622251133714165, \"cy\": -0.059874242709165346, \"count\": 1, \"docs\": [{\"title\": \"EdWordle: Consistency-Preserving Word Cloud Editing\", \"keywords\": [\"wordle\", \"consistency\", \"text visualization\"], \"trace\": \"target\", \"tokens\": [\"consist\"], \"token_indices\": [1682], \"token_indices_c\": [1452]}]}}}\n"
     ]
    }
   ],
   "source": [
    "print(json_results)"
   ]
  },
  {
   "cell_type": "code",
   "execution_count": 30,
   "metadata": {
    "colab": {
     "base_uri": "https://localhost:8080/",
     "height": 2040,
     "resources": {
      "http://localhost:8080/static/components/requirejs/require.js": {
       "data": "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",
       "headers": [
        [
         "content-type",
         "application/javascript"
        ]
       ],
       "ok": true,
       "status": 200,
       "status_text": ""
      }
     }
    },
    "colab_type": "code",
    "id": "T44iwKR7HFJe",
    "outputId": "c30ea8fb-36e5-43eb-e6f1-e5ce007bb40d",
    "scrolled": false
   },
   "outputs": [
    {
     "data": {
      "application/javascript": [
       "window.path_data = {\"graph\": {\"directed\": false, \"multigraph\": false, \"graph\": {}, \"nodes\": [{\"keyword\": [\"gabor\"], \"count\": 1, \"trace_color\": \"#1b9e77\", \"trace\": \"target\", \"x\": -0.1819, \"y\": 0.7791, \"id\": 2052}, {\"keyword\": [\"occlusion-free\"], \"count\": 0, \"trace_color\": \"#1b9e77\", \"trace\": \"target\", \"x\": 0.4362, \"y\": 0.2237, \"id\": 1414}, {\"keyword\": [\"heuristic-based\"], \"count\": 0, \"trace_color\": \"#1b9e77\", \"trace\": \"target\", \"x\": 0.3956, \"y\": 0.611, \"id\": 1930}, {\"keyword\": [\"filtering\", \"filters\", \"filter\", \"filtered\"], \"count\": 28, \"trace_color\": \"#1b9e77\", \"trace\": \"target\", \"x\": 0.1005, \"y\": 1.0, \"id\": 523}, {\"keyword\": [\"spiral\"], \"count\": 1, \"trace_color\": \"#1b9e77\", \"trace\": \"target\", \"x\": 0.2504, \"y\": -0.2788, \"id\": 1806}, {\"keyword\": [\"metro\"], \"count\": 1, \"trace_color\": \"#1b9e77\", \"trace\": \"target\", \"x\": 0.5575, \"y\": -0.2393, \"id\": 1810}, {\"keyword\": [\"oac\"], \"count\": 1, \"trace_color\": \"#1b9e77\", \"trace\": \"target\", \"x\": -0.3815, \"y\": -0.0278, \"id\": 1813}, {\"keyword\": [\"racial\"], \"count\": 1, \"trace_color\": \"#d95f02\", \"trace\": \"query\", \"x\": 0.0254, \"y\": 0.198, \"id\": 156}, {\"keyword\": [\"realtime\"], \"count\": 0, \"trace_color\": \"#1b9e77\", \"trace\": \"target\", \"x\": 0.172, \"y\": 0.0418, \"id\": 930}, {\"keyword\": [\"consistency\"], \"count\": 0, \"trace_color\": \"#1b9e77\", \"trace\": \"target\", \"x\": 0.0356, \"y\": -0.0599, \"id\": 1452}, {\"keyword\": [\"significance\"], \"count\": 0, \"trace_color\": \"#1b9e77\", \"trace\": \"target\", \"x\": 0.1166, \"y\": 0.4784, \"id\": 1069}, {\"keyword\": [\"hci\"], \"count\": 2, \"trace_color\": \"#1b9e77\", \"trace\": \"target\", \"x\": -0.1268, \"y\": 0.0071, \"id\": 1453}, {\"keyword\": [\"lic\"], \"count\": 8, \"trace_color\": \"#1b9e77\", \"trace\": \"target\", \"x\": -0.439, \"y\": 0.8991, \"id\": 816}, {\"keyword\": [\"forward\"], \"count\": 1, \"trace_color\": \"#1b9e77\", \"trace\": \"target\", \"x\": -0.7079, \"y\": 0.6898, \"id\": 819}, {\"keyword\": [\"choropleth\"], \"count\": 1, \"trace_color\": \"#1b9e77\", \"trace\": \"target\", \"x\": -0.6157, \"y\": -0.0894, \"id\": 2099}, {\"keyword\": [\"nice\"], \"count\": 1, \"trace_color\": \"#1b9e77\", \"trace\": \"target\", \"x\": -0.4386, \"y\": -0.2553, \"id\": 1716}, {\"keyword\": [\"digimap\"], \"count\": 1, \"trace_color\": \"#1b9e77\", \"trace\": \"target\", \"x\": -0.085, \"y\": -0.5566, \"id\": 1719}, {\"keyword\": [\"autocorrelation\"], \"count\": 0, \"trace_color\": \"#1b9e77\", \"trace\": \"target\", \"x\": -0.1499, \"y\": 0.5052, \"id\": 2112}, {\"keyword\": [\"server\"], \"count\": 2, \"trace_color\": \"#1b9e77\", \"trace\": \"target\", \"x\": -0.4298, \"y\": 0.1962, \"id\": 1089}, {\"keyword\": [\"labeling\", \"label\"], \"count\": 11, \"trace_color\": \"#7570b3\", \"trace\": \"link\", \"x\": -0.1215, \"y\": -0.1792, \"id\": 326}, {\"keyword\": [\"proportional\"], \"count\": 0, \"trace_color\": \"#1b9e77\", \"trace\": \"target\", \"x\": 0.0332, \"y\": -0.3224, \"id\": 1738}, {\"keyword\": [\"selection\", \"selective\", \"selections\"], \"count\": 0, \"trace_color\": \"#1b9e77\", \"trace\": \"target\", \"x\": -0.4234, \"y\": -0.3908, \"id\": 586}, {\"keyword\": [\"cartogram\", \"cartograms\"], \"count\": 4, \"trace_color\": \"#1b9e77\", \"trace\": \"target\", \"x\": 0.2612, \"y\": -0.5058, \"id\": 728}, {\"keyword\": [\"mercator\"], \"count\": 0, \"trace_color\": \"#1b9e77\", \"trace\": \"target\", \"x\": -0.2444, \"y\": -0.7011, \"id\": 1881}, {\"keyword\": [\"value-by-area\"], \"count\": 1, \"trace_color\": \"#1b9e77\", \"trace\": \"target\", \"x\": 0.1047, \"y\": -0.6843, \"id\": 729}, {\"keyword\": [\"thematic\"], \"count\": 0, \"trace_color\": \"#1b9e77\", \"trace\": \"target\", \"x\": 0.4699, \"y\": -0.5356, \"id\": 730}, {\"keyword\": [\"placement\"], \"count\": 14, \"trace_color\": \"#1b9e77\", \"trace\": \"target\", \"x\": 0.4058, \"y\": 0.049, \"id\": 610}, {\"keyword\": [\"willa\"], \"count\": 1, \"trace_color\": \"#d95f02\", \"trace\": \"query\", \"x\": -0.1892, \"y\": 0.2601, \"id\": 120}, {\"keyword\": [\"constrained\"], \"count\": 0, \"trace_color\": \"#1b9e77\", \"trace\": \"target\", \"x\": 0.3182, \"y\": -0.8133, \"id\": 637}, {\"keyword\": [\"level-sets\", \"level-set\"], \"count\": 2, \"trace_color\": \"#1b9e77\", \"trace\": \"target\", \"x\": 0.8519, \"y\": -0.2989, \"id\": 894}], \"links\": [{\"weight\": 0.3467102745714291, \"sim\": 0.6532897254285709, \"source\": 2052, \"target\": 816}, {\"weight\": 0.3984796863011464, \"sim\": 0.6015203136988536, \"source\": 2052, \"target\": 523}, {\"weight\": 0.45032250977098875, \"sim\": 0.5496774902290112, \"source\": 2052, \"target\": 819}, {\"weight\": 0.4982070525162876, \"sim\": 0.5017929474837124, \"source\": 2052, \"target\": 2112}, {\"weight\": 0.3822806528908259, \"sim\": 0.6177193471091741, \"source\": 1414, \"target\": 930}, {\"weight\": 0.41481450370389905, \"sim\": 0.585185496296101, \"source\": 1930, \"target\": 1069}, {\"weight\": 0.126620809770418, \"sim\": 0.873379190229582, \"source\": 1806, \"target\": 1738}, {\"weight\": 0.24642581106754224, \"sim\": 0.7535741889324578, \"source\": 1806, \"target\": 1719}, {\"weight\": 0.2549384709301694, \"sim\": 0.7450615290698306, \"source\": 1806, \"target\": 728}, {\"weight\": 0.39235450329204824, \"sim\": 0.6076454967079518, \"source\": 1806, \"target\": 1810}, {\"weight\": 0.4842016409391674, \"sim\": 0.5157983590608326, \"source\": 1810, \"target\": 894}, {\"weight\": 0.22236453245193943, \"sim\": 0.7776354675480606, \"source\": 1813, \"target\": 2099}, {\"weight\": 0.3182926287099469, \"sim\": 0.6817073712900531, \"source\": 1813, \"target\": 1452}, {\"weight\": 0.1476698367231173, \"sim\": 0.8523301632768827, \"source\": 156, \"target\": 120}, {\"weight\": 0.1945176511546468, \"sim\": 0.8054823488453532, \"source\": 156, \"target\": 1452}, {\"weight\": 0.27487521721428165, \"sim\": 0.7251247827857183, \"source\": 156, \"target\": 1089}, {\"weight\": 0.0949790765553512, \"sim\": 0.9050209234446488, \"source\": 930, \"target\": 1453}, {\"weight\": 0.02041404769505517, \"sim\": 0.9795859523049448, \"source\": 1452, \"target\": 1453}, {\"weight\": 0.06352461734668757, \"sim\": 0.9364753826533124, \"source\": 1452, \"target\": 326}, {\"weight\": 0.3896234187824261, \"sim\": 0.6103765812175739, \"source\": 1452, \"target\": 610}, {\"weight\": 0.4668298946269821, \"sim\": 0.5331701053730179, \"source\": 1452, \"target\": 586}, {\"weight\": 0.0608527829640636, \"sim\": 0.9391472170359364, \"source\": 1069, \"target\": 2112}, {\"weight\": 0.31732475354633427, \"sim\": 0.6826752464536657, \"source\": 1069, \"target\": 120}, {\"weight\": 0.39295149403136453, \"sim\": 0.6070485059686355, \"source\": 1716, \"target\": 326}, {\"weight\": 0.19429342966349739, \"sim\": 0.8057065703365026, \"source\": 1719, \"target\": 1881}, {\"weight\": 0.2469318064501992, \"sim\": 0.7530681935498008, \"source\": 326, \"target\": 1738}, {\"weight\": 0.10641555114813561, \"sim\": 0.8935844488518644, \"source\": 728, \"target\": 729}, {\"weight\": 0.05457894245685946, \"sim\": 0.9454210575431405, \"source\": 729, \"target\": 730}, {\"weight\": 0.25017593446358977, \"sim\": 0.7498240655364102, \"source\": 729, \"target\": 637}]}, \"docs\": {\"326\": {\"cx\": -0.12146130926553361, \"cy\": -0.17924459282380756, \"count\": 5, \"docs\": [{\"title\": \"DIVADIAWI - A Web-based Interface for Semi-automatic Labeling of Historical Document Images\", \"keywords\": [\"historical document images\", \"web interface\", \"semi-automatic labeling\"], \"trace\": \"query\", \"tokens\": [\"label\"], \"token_indices\": [407], \"token_indices_c\": [326]}, {\"title\": \"Molecular Surface Abstraction\", \"keywords\": [\"molecular surfaces\", \"molecular visualization\", \"surfaces\", \"textures\", \"cartographic labeling\"], \"trace\": \"target\", \"tokens\": [\"label\"], \"token_indices\": [407], \"token_indices_c\": [326]}, {\"title\": \"Text Scaffolds for Effective Surface Labeling\", \"keywords\": [\"surface labeling\", \"computational cartography\", \"text authoring\", \"annotation\"], \"trace\": \"target\", \"tokens\": [\"label\"], \"token_indices\": [407], \"token_indices_c\": [326]}, {\"title\": \"Comparing Visual-Interactive Labeling with Active Learning: An Experimental Study\", \"keywords\": [\"labeling\", \"visual-interactive labeling\", \"information visualization\", \"visual analytics\", \"active learning\", \"machine learning\", \"classification\", \"evaluation\", \"experiment\", \"dimensionality reduction\"], \"trace\": \"target\", \"tokens\": [\"label\"], \"token_indices\": [407], \"token_indices_c\": [326]}, {\"title\": \"Labels on Levels: Labeling of Multi-Scale Multi-Instance and Crowded 3D Biological Environments\", \"keywords\": [\"labeling\", \"multi-scale data\", \"multi-instance data\"], \"trace\": \"target\", \"tokens\": [\"label\"], \"token_indices\": [407], \"token_indices_c\": [326]}]}, \"120\": {\"cx\": -0.18918718295897063, \"cy\": 0.26008296386280455, \"count\": 1, \"docs\": [{\"title\": \"Mapping Imagined and Experienced Places: An Exploration of the Geography of Willa Cather\\u2019s Writing\", \"keywords\": [\"willa cather\", \"mapping\", \"gis\", \"spatial turn\"], \"trace\": \"query\", \"tokens\": [\"willa\"], \"token_indices\": [162], \"token_indices_c\": [120]}]}, \"156\": {\"cx\": 0.02538685056184561, \"cy\": 0.1979544880016131, \"count\": 1, \"docs\": [{\"title\": \"Monroe Work Today: Unearthing the Geography of US Lynching Violence\", \"keywords\": [\"racial violence\", \"lynching\", \"gis\"], \"trace\": \"query\", \"tokens\": [\"racial\"], \"token_indices\": [221], \"token_indices_c\": [156]}]}, \"523\": {\"cx\": 0.10051830319764683, \"cy\": 0.9999999999999999, \"count\": 25, \"docs\": [{\"title\": \"Volume sampled voxelization of geometric primitives\", \"keywords\": [\"voxelization\", \"volume sampling\", \"discrete ray tracing\", \"filtering\"], \"trace\": \"target\", \"tokens\": [\"filter\"], \"token_indices\": [607], \"token_indices_c\": [523]}, {\"title\": \"Principal stream surfaces\", \"keywords\": [\"flow field\", \"visualization\", \"volume rendering\", \"filtering\"], \"trace\": \"target\", \"tokens\": [\"filter\"], \"token_indices\": [607], \"token_indices_c\": [523]}, {\"title\": \"A comparison of normal estimation schemes\", \"keywords\": [\"interpolation filters\", \"derivative filters\", \"filter design\", \"normal estimation\", \"taylor series expansion\", \"efficient volume rendering\"], \"trace\": \"target\", \"tokens\": [\"filter\"], \"token_indices\": [607], \"token_indices_c\": [523]}, {\"title\": \"Oriented tensor reconstruction: tracing neural pathways from diffusion tensor MRI\", \"keywords\": [\"diffusion tensors\", \"adaptive filtering\", \"moving least squares\", \"streamlines\", \"fiber tracing\", \"pathways\", \"salient features\"], \"trace\": \"target\", \"tokens\": [\"filter\"], \"token_indices\": [607], \"token_indices_c\": [523]}, {\"title\": \"Heart-muscle fiber reconstruction from diffusion tensor MRI\", \"keywords\": [\"diffusion tensors\", \"dt-mri\", \"fiber tracing\", \"adaptive filtering\", \"moving least squares\", \"streamlines\"], \"trace\": \"target\", \"tokens\": [\"filter\"], \"token_indices\": [607], \"token_indices_c\": [523]}, {\"title\": \"Hardware-based nonlinear filtering and segmentation using high-level shading languages\", \"keywords\": [\"non-linear filtering\", \"segmentation\", \"hardware acceleration\"], \"trace\": \"target\", \"tokens\": [\"filter\"], \"token_indices\": [607], \"token_indices_c\": [523]}, {\"title\": \"Interactive hierarchical dimension ordering, spacing and filtering for exploration of high dimensional datasets\", \"keywords\": [\"dimension ordering\", \"dimension spacing\", \"dimension filtering\", \"multidimensional visualization\", \"high dimensional datasets\"], \"trace\": \"target\", \"tokens\": [\"filter\"], \"token_indices\": [607], \"token_indices_c\": [523]}, {\"title\": \"Hardware-accelerated adaptive EWA volume splatting\", \"keywords\": [\"direct volume rendering\", \"volume splatting\", \"ewa filter\", \"hardware acceleration\"], \"trace\": \"target\", \"tokens\": [\"filter\"], \"token_indices\": [607], \"token_indices_c\": [523]}, {\"title\": \"Metric-Based Network Exploration and Multiscale Scatterplot\", \"keywords\": [\"graph navigation\", \"exploration\", \"scatterplot\", \"multiscale perceptual organization\", \"clustering\", \"filtering\", \"blurring\"], \"trace\": \"target\", \"tokens\": [\"filter\"], \"token_indices\": [607], \"token_indices_c\": [523]}, {\"title\": \"Rough interface reconstruction using the level set method\", \"keywords\": [\"point sampled data\", \"surface reconstruction\", \"level set method\", \"shock filter\", \"total variation preserving\", \"rough surface\"], \"trace\": \"target\", \"tokens\": [\"filter\"], \"token_indices\": [607], \"token_indices_c\": [523]}, {\"title\": \"Methods for efficient, high quality volume resampling in the frequency domain\", \"keywords\": [\"resampling\", \"filters\", \"fourier transform\"], \"trace\": \"target\", \"tokens\": [\"filter\"], \"token_indices\": [607], \"token_indices_c\": [523]}, {\"title\": \"Strategy for seeding 3D streamlines\", \"keywords\": [\"streamlines\", \"flow guided\", \"feature based\", \"filtering\", \"critical points\", \"variable templates\"], \"trace\": \"target\", \"tokens\": [\"filter\"], \"token_indices\": [607], \"token_indices_c\": [523]}, {\"title\": \"VolQD: direct volume rendering of multi-million atom quantum dot simulations\", \"keywords\": [\"volume visualization\", \"volume rendering\", \"programmable graphics hardware\", \"face-centered cubic lattice\", \"reconstruction filter\", \"quantum dots\", \"atomistic simulation\"], \"trace\": \"target\", \"tokens\": [\"filter\"], \"token_indices\": [607], \"token_indices_c\": [523]}, {\"title\": \"Visualization of fibrous and Thread-like Data\", \"keywords\": [\"neuron visualization\", \"gpu acceleration\", \"global illumination\", \"orientation filtering\"], \"trace\": \"target\", \"tokens\": [\"filter\"], \"token_indices\": [607], \"token_indices_c\": [523]}, {\"title\": \"NewsLab: Exploratory Broadcast News Video Analysis\", \"keywords\": [\"large data exploration\", \"broadcast video analysis\", \"time filtering\", \"clustering\", \"animation\", \"comparative analysis\"], \"trace\": \"target\", \"tokens\": [\"filter\"], \"token_indices\": [607], \"token_indices_c\": [523]}, {\"title\": \"On the Visualization of Social and other Scale-Free Networks\", \"keywords\": [\"scale-free network\", \"edge filtering\", \"betweenness centrality\", \"anisotropic shading\"], \"trace\": \"target\", \"tokens\": [\"filter\"], \"token_indices\": [607], \"token_indices_c\": [523]}, {\"title\": \"Isosurface Extraction and View-Dependent filtering from Time-Varying fields Using Persistent Time-Octree (PTOT)\", \"keywords\": [\"isosurface extraction\", \"time-varying fields\", \"persistent data structure\", \"view-dependent filtering\", \"out-of-core methods\"], \"trace\": \"target\", \"tokens\": [\"filter\"], \"token_indices\": [607], \"token_indices_c\": [523]}, {\"title\": \"VDVR: Verifiable Volume Visualization of Projection-Based Data\", \"keywords\": [\"direct volume rendering\", \"computed tomography\", \"filtered back-projection\", \"verifiable visualization\"], \"trace\": \"target\", \"tokens\": [\"filter\"], \"token_indices\": [607], \"token_indices_c\": [523]}, {\"title\": \"Voronoi-Based Extraction and Visualization of Molecular Paths\", \"keywords\": [\"molecular visualization\", \"data filtering\", \"geometry-based techniques\", \"view-dependent visualization\"], \"trace\": \"target\", \"tokens\": [\"filter\"], \"token_indices\": [607], \"token_indices_c\": [523]}, {\"title\": \"MoleView: An Attribute and Structure-Based Semantic Lens for Large Element-Based Plots\", \"keywords\": [\"semantic lenses\", \"magic lenses\", \"graph bundling\", \"attribute filtering\"], \"trace\": \"target\", \"tokens\": [\"filter\"], \"token_indices\": [607], \"token_indices_c\": [523]}, {\"title\": \"ScatterBlogs2: Real-Time Monitoring of Microblog Messages through User-Guided filtering\", \"keywords\": [\"microblog analysis\", \"twitter\", \"text analytics\", \"social media monitoring\", \"live monitoring\", \"visual analytics\", \"information visualization\", \"filter construction\", \"query construction\", \"text classification\"], \"trace\": \"target\", \"tokens\": [\"filter\"], \"token_indices\": [607], \"token_indices_c\": [523]}, {\"title\": \"Low-Pass Filtered Volumetric Shadows\", \"keywords\": [\"direct volume rendering\", \"volume illumination\", \"soft shadows\", \"filtered shadows\", \"summed area table\"], \"trace\": \"target\", \"tokens\": [\"filter\"], \"token_indices\": [607], \"token_indices_c\": [523]}, {\"title\": \"Visualization and Extraction of Carvings for Heritage Conservation\", \"keywords\": [\"feature filtering\", \"feature extraction\", \"heritage preservation\", \"frangi filter\", \"surface analysis\"], \"trace\": \"target\", \"tokens\": [\"filter\"], \"token_indices\": [607], \"token_indices_c\": [523]}, {\"title\": \"On the Treatment of Field Quantities and Elemental Continuity in FEM Solutions\", \"keywords\": [\"flow visualization\", \"discontinuous galerkin methods\", \"continuous galerkin methods\", \"finite element methods\", \"finite volume methods\", \"filtering techniques\", \"scalar field data\", \"irregular and unstructured grids\", \"extraction of surfaces isosurfaces\"], \"trace\": \"target\", \"tokens\": [\"filter\"], \"token_indices\": [607], \"token_indices_c\": [523]}, {\"title\": \"Culling for Extreme-Scale Segmentation Volumes: A Hybrid Deterministic and Probabilistic Approach\", \"keywords\": [\"hierarchical culling\", \"segmented volume data\", \"bloom filter\", \"volume rendering\", \"spatial queries\"], \"trace\": \"target\", \"tokens\": [\"filter\"], \"token_indices\": [607], \"token_indices_c\": [523]}]}, \"586\": {\"cx\": -0.42337243725700646, \"cy\": -0.3907638943388572, \"count\": 26, \"docs\": [{\"title\": \"Directional flow visualization of vector fields\", \"keywords\": [\"glyphs\", \"streamlines\", \"lighting\", \"hue\", \"value\", \"region selection\", \"clutter reduction\", \"flow reversal\"], \"trace\": \"target\", \"tokens\": [\"select\"], \"token_indices\": [672], \"token_indices_c\": [586]}, {\"title\": \"Navigating hierarchies with structure-based brushes\", \"keywords\": [\"brushing\", \"hierarchical representation\", \"interactive selection\", \"exploratory data analysis\"], \"trace\": \"target\", \"tokens\": [\"select\"], \"token_indices\": [672], \"token_indices_c\": [586]}, {\"title\": \"Compound brushing\", \"keywords\": [\"brushing\", \"selection\", \"dynamic graphics\", \"data visualization\", \"higraph\", \"visual programming\", \"dynamic query\"], \"trace\": \"target\", \"tokens\": [\"select\"], \"token_indices\": [672], \"token_indices_c\": [586]}, {\"title\": \"A Rank-by-Feature Framework for Unsupervised Multidimensional Data Exploration Using Low Dimensional Projections\", \"keywords\": [\"information visualization\", \"exploratory data analysis\", \"dynamic query\", \"feature detection selection\", \"statistical graphics\"], \"trace\": \"target\", \"tokens\": [\"select\"], \"token_indices\": [672], \"token_indices_c\": [586]}, {\"title\": \"View selection for volume rendering\", \"keywords\": [\"viewpoint selection\", \"view space partitioning\", \"volume rendering\", \"entropy\", \"visibility\"], \"trace\": \"target\", \"tokens\": [\"select\"], \"token_indices\": [672], \"token_indices_c\": [586]}, {\"title\": \"Dynamic View Selection for Time-Varying Volumes\", \"keywords\": [\"static view selection\", \"image based method\", \"dynamic view selection\", \"information entropy\", \"optimization\"], \"trace\": \"target\", \"tokens\": [\"select\"], \"token_indices\": [672], \"token_indices_c\": [586]}, {\"title\": \"LiveSync: Deformed Viewing Spheres for Knowledge-Based Navigation\", \"keywords\": [\"navigation\", \"interaction\", \"linked views\", \"medical visualization\", \"viewpoint selection\"], \"trace\": \"target\", \"tokens\": [\"select\"], \"token_indices\": [672], \"token_indices_c\": [586]}, {\"title\": \"Supercubes: A High-Level Primitive for Diamond Hierarchies\", \"keywords\": [\"longest edge bisection\", \"diamonds\", \"hierarchy of diamonds\", \"multiresolution models\", \"selective refinement\"], \"trace\": \"target\", \"tokens\": [\"select\"], \"token_indices\": [672], \"token_indices_c\": [586]}, {\"title\": \"Arc Length-Based Aspect Ratio Selection\", \"keywords\": [\"aspect ratio selection\", \"banking to 45 degrees\", \"orientation resolution\"], \"trace\": \"target\", \"tokens\": [\"select\"], \"token_indices\": [672], \"token_indices_c\": [586]}, {\"title\": \"Efficient Structure-Aware Selection Techniques for 3D Point Cloud Visualizations with 2DOF Input\", \"keywords\": [\"3d interaction\", \"spatial selection\", \"direct-touch interaction\"], \"trace\": \"target\", \"tokens\": [\"select\"], \"token_indices\": [672], \"token_indices_c\": [586]}, {\"title\": \"An Empirical Model of Slope Ratio Comparisons\", \"keywords\": [\"banking to 45 degrees\", \"slope perception\", \"orientation resolution\", \"aspect ratio selection\"], \"trace\": \"target\", \"tokens\": [\"select\"], \"token_indices\": [672], \"token_indices_c\": [586]}, {\"title\": \"A Partition-Based Framework for Building and Validating Regression Models\", \"keywords\": [\"regression\", \"model building\", \"visual knowledge discovery\", \"feature selection\", \"data partitioning\", \"guided visualization\"], \"trace\": \"target\", \"tokens\": [\"select\"], \"token_indices\": [672], \"token_indices_c\": [586]}, {\"title\": \"Visual Analytics for Model Selection in Time Series Analysis\", \"keywords\": [\"visual analytics\", \"model selection\", \"visual interaction\", \"time series analysis\", \"coordinated and multiple views\"], \"trace\": \"target\", \"tokens\": [\"select\"], \"token_indices\": [672], \"token_indices_c\": [586]}, {\"title\": \"Multivariate Network Exploration and Presentation: From Detail to Overview via Selections and Aggregations\", \"keywords\": [\"multivariate networks\", \"selections of interest\", \"interaction\", \"direct manipulation\"], \"trace\": \"target\", \"tokens\": [\"select\"], \"token_indices\": [672], \"token_indices_c\": [586]}, {\"title\": \"INFUSE: Interactive Feature Selection for Predictive Modeling of High Dimensional Data\", \"keywords\": [\"predictive modeling\", \"feature selection\", \"classification\", \"visual analytics\", \"high-dimensional data\"], \"trace\": \"target\", \"tokens\": [\"select\"], \"token_indices\": [672], \"token_indices_c\": [586]}, {\"title\": \"Visual Methods for Analyzing Probabilistic Classification Data\", \"keywords\": [\"probabilistic classification\", \"confusion analysis\", \"feature evaluation and selection\", \"visual inspection\"], \"trace\": \"target\", \"tokens\": [\"select\"], \"token_indices\": [672], \"token_indices_c\": [586]}, {\"title\": \"Integrating Predictive Analytics and Social Media\", \"keywords\": [\"social media\", \"predictive analytics\", \"feature selection\"], \"trace\": \"target\", \"tokens\": [\"select\"], \"token_indices\": [672], \"token_indices_c\": [586]}, {\"title\": \"Orientation-Enhanced Parallel Coordinate Plots\", \"keywords\": [\"parallel coordinates\", \"orientation-enhanced parallel coordinates\", \"brushing\", \"orientation-enhanced brushing\", \"data readability\", \"data selection\"], \"trace\": \"target\", \"tokens\": [\"select\"], \"token_indices\": [672], \"token_indices_c\": [586]}, {\"title\": \"Visualizing Multiple Variables Across Scale and Geography\", \"keywords\": [\"scale\", \"geography\", \"multivariate\", \"sensitivity analysis\", \"variable selection\", \"local statistics\", \"geodemographics\", \"energy\"], \"trace\": \"target\", \"tokens\": [\"select\"], \"token_indices\": [672], \"token_indices_c\": [586]}, {\"title\": \"CAST: Effective and Efficient User Interaction for Context-Aware Selection in 3D Particle Clouds\", \"keywords\": [\"selection\", \"spatial selection\", \"structure-aware selection\", \"context-aware selection\", \"exploratory data visualization and analysis\", \"3d interaction\", \"user interaction\"], \"trace\": \"target\", \"tokens\": [\"select\"], \"token_indices\": [672], \"token_indices_c\": [586]}, {\"title\": \"Automatic Selection of Partitioning Variables for Small Multiple Displays\", \"keywords\": [\"small multiple displays\", \"visualization selection\", \"multidimensional data\"], \"trace\": \"target\", \"tokens\": [\"select\"], \"token_indices\": [672], \"token_indices_c\": [586]}, {\"title\": \"Visual Analytics for Development and Evaluation of Order Selection Criteria for Autoregressive Processes\", \"keywords\": [\"visual analytics\", \"time series analysis\", \"order selection\"], \"trace\": \"target\", \"tokens\": [\"select\"], \"token_indices\": [672], \"token_indices_c\": [586]}, {\"title\": \"Screenit: Visual Analysis of Cellular Screens\", \"keywords\": [\"high-content screening\", \"visual analysis\", \"feature selection\", \"image classification\", \"biology\", \"multivariate\", \"hierarchy\"], \"trace\": \"target\", \"tokens\": [\"select\"], \"token_indices\": [672], \"token_indices_c\": [586]}, {\"title\": \"Magnostics: Image-Based Search of Interesting Matrix Views for Guided Network Exploration\", \"keywords\": [\"matrix visualization\", \"visual quality measures\", \"quality metrics\", \"feature detection selection\", \"relational data\"], \"trace\": \"target\", \"tokens\": [\"select\"], \"token_indices\": [672], \"token_indices_c\": [586]}, {\"title\": \"TreePOD: Sensitivity-Aware Selection of Pareto-Optimal Decision Trees\", \"keywords\": [\"model selection\", \"classification trees\", \"visual parameter search\", \"sensitivity analysis\", \"pareto optimality\"], \"trace\": \"target\", \"tokens\": [\"select\"], \"token_indices\": [672], \"token_indices_c\": [586]}, {\"title\": \"RegressionExplorer: Interactive Exploration of Logistic Regression Models with Subgroup Analysis\", \"keywords\": [\"visual analytics\", \"predictive visual analytics\", \"exploratory data analysis\", \"multivariate statistics\", \"regression analysis\", \"variable selection\", \"subgroup analysis\"], \"trace\": \"target\", \"tokens\": [\"select\"], \"token_indices\": [672], \"token_indices_c\": [586]}]}, \"610\": {\"cx\": 0.40577120169641395, \"cy\": 0.04903046963954774, \"count\": 10, \"docs\": [{\"title\": \"A linear iteration time layout algorithm for visualising high-dimensional data\", \"keywords\": [\"layout algorithms\", \"visualization\", \"high-dimensional data\", \"spring models\", \"stochastic algorithms\", \"force-directed placement\"], \"trace\": \"target\", \"tokens\": [\"placement\"], \"token_indices\": [697], \"token_indices_c\": [610]}, {\"title\": \"A flow-guided streamline seeding strategy\", \"keywords\": [\"seed placement\", \"streamline\", \"critical point\", \"voronoi diagram\", \"poisson disk distribution\"], \"trace\": \"target\", \"tokens\": [\"placement\"], \"token_indices\": [697], \"token_indices_c\": [610]}, {\"title\": \"Improving Hybrid MDS with Pivot-Based Searching\", \"keywords\": [\"multidimensional scaling\", \"mds\", \"spring models\", \"hybrid algorithms\", \"pivots\", \"near-neighbour search\", \"force directed placement\"], \"trace\": \"target\", \"tokens\": [\"placement\"], \"token_indices\": [697], \"token_indices_c\": [610]}, {\"title\": \"Vorticity based flow analysis and visualization for Pelton turbine design optimization\", \"keywords\": [\"flow visualization\", \"feature extraction\", \"line placement\"], \"trace\": \"target\", \"tokens\": [\"placement\"], \"token_indices\": [697], \"token_indices_c\": [610]}, {\"title\": \"Evaluating a System for Interactive Exploration of Large, Hierarchically Structured Document Repositories\", \"keywords\": [\"information visualization\", \"navigation\", \"document retrieval\", \"hierarchical repositories\", \"knowledge management\", \"information management\", \"force-directed placement\", \"voronoi\"], \"trace\": \"target\", \"tokens\": [\"placement\"], \"token_indices\": [697], \"token_indices_c\": [610]}, {\"title\": \"Light Collages: lighting design for effective visualization\", \"keywords\": [\"lighting design\", \"scientific illustration\", \"inconsistent lighting\", \"light placement\", \"silhouette enhancement\", \"proximity shadows\"], \"trace\": \"target\", \"tokens\": [\"placement\"], \"token_indices\": [697], \"token_indices_c\": [610]}, {\"title\": \"Farthest point seeding for efficient placement of streamlines\", \"keywords\": [\"streamline placement\", \"farthest point seeding\", \"delaunay triangulation\", \"variable density\", \"multiresolution\"], \"trace\": \"target\", \"tokens\": [\"placement\"], \"token_indices\": [697], \"token_indices_c\": [610]}, {\"title\": \"An Advanced Evenly-Spaced Streamline Placement Algorithm\", \"keywords\": [\"flow visualization\", \"evenly-spaced streamlines\", \"streamline placement\", \"seeding strategy\", \"closed streamlines\"], \"trace\": \"target\", \"tokens\": [\"placement\"], \"token_indices\": [697], \"token_indices_c\": [610]}, {\"title\": \"Effects of Video Placement and Spatial Context Presentation on Path Reconstruction Tasks with Contextualized Videos\", \"keywords\": [\"contextualized videos\", \"design factors\", \"user study\", \"video placement\", \"spatial context\", \"tracking\", \"path reconstruction\"], \"trace\": \"target\", \"tokens\": [\"placement\"], \"token_indices\": [697], \"token_indices_c\": [610]}, {\"title\": \"Asymmetric Tensor field Visualization for Surfaces\", \"keywords\": [\"aasymmetric tensor fields\", \"vector fields\", \"glyph packing\", \"hyperstreamline placement\", \"view-dependent\"], \"trace\": \"target\", \"tokens\": [\"placement\"], \"token_indices\": [697], \"token_indices_c\": [610]}]}, \"637\": {\"cx\": 0.3182005723890632, \"cy\": -0.8133245381317229, \"count\": 4, \"docs\": [{\"title\": \"Image synthesis from a sparse set of views\", \"keywords\": [\"image-based rendering\", \"epipolar geometry\", \"projective invariant\", \"homography\", \"constrained delaunay triangulation\"], \"trace\": \"target\", \"tokens\": [\"constrain\"], \"token_indices\": [725], \"token_indices_c\": [637]}, {\"title\": \"Constrained 3D navigation with 2D controllers\", \"keywords\": [\"navigation\", \"constrained navigation\", \"viewing control\", \"camera control\"], \"trace\": \"target\", \"tokens\": [\"constrain\"], \"token_indices\": [725], \"token_indices_c\": [637]}, {\"title\": \"Visualizing the tightening of knots\", \"keywords\": [\"collision detection\", \"contact\", \"flexible models\", \"tight knots\", \"ideal knots\", \"ropelength\", \"nonlinear optimization\", \"constrained least squares\"], \"trace\": \"target\", \"tokens\": [\"constrain\"], \"token_indices\": [725], \"token_indices_c\": [637]}, {\"title\": \"Scatter/Gather Clustering: Flexibly Incorporating User Feedback to Steer Clustering Results\", \"keywords\": [\"scatter/gather clustering\", \"alternative clustering\", \"constrained clustering\"], \"trace\": \"target\", \"tokens\": [\"constrain\"], \"token_indices\": [725], \"token_indices_c\": [637]}]}, \"637+728+729+730\": {\"cx\": 0.2884999262197714, \"cy\": -0.6347573104720245, \"count\": 1, \"docs\": [{\"title\": \"Continuous cartogram construction\", \"keywords\": [\"cartogram\", \"value-by-area map\", \"map transformation\", \"anamorphosis\", \"thematic cartography\", \"constrained optimization\"], \"trace\": \"target\", \"tokens\": [\"constrain\", \"cartogram\", \"value-by-area\", \"themat\"], \"token_indices\": [725, 819, 820, 822], \"token_indices_c\": [637, 728, 729, 730]}]}, \"816\": {\"cx\": -0.43903789161921397, \"cy\": 0.8991120264595777, \"count\": 7, \"docs\": [{\"title\": \"Interactive exploration of volume line integral convolution based on 3D-texture mapping\", \"keywords\": [\"flow visualization\", \"animated lic\", \"direct volume rendering\", \"3d-textures mapping\", \"interactive volume exploration\"], \"trace\": \"target\", \"tokens\": [\"lic\"], \"token_indices\": [919], \"token_indices_c\": [816]}, {\"title\": \"Visualizing Planar Vector Fields with Normal Component Using Line Integral Convolution\", \"keywords\": [\"lic\", \"vector field visualization\", \"deformation\"], \"trace\": \"target\", \"tokens\": [\"lic\"], \"token_indices\": [919], \"token_indices_c\": [816]}, {\"title\": \"HyperLIC\", \"keywords\": [\"hyperstreamlines\", \"lic\", \"symmetric tensors\", \"anisotropy\", \"animation\", \"direct volume rendering\"], \"trace\": \"target\", \"tokens\": [\"lic\"], \"token_indices\": [919], \"token_indices_c\": [816]}, {\"title\": \"A texture-based framework for spacetime-coherent visualization of time-dependent vector fields\", \"keywords\": [\"time-dependent vector fields\", \"unsteady flow visualization\", \"lic\", \"texture advection\", \"hardware acceleration\"], \"trace\": \"target\", \"tokens\": [\"lic\"], \"token_indices\": [919], \"token_indices_c\": [816]}, {\"title\": \"Physically based methods for tensor field visualization\", \"keywords\": [\"tensors field\", \"stress tensor\", \"strain tensor\", \"lic\"], \"trace\": \"target\", \"tokens\": [\"lic\"], \"token_indices\": [919], \"token_indices_c\": [816]}, {\"title\": \"Particle and texture based spatiotemporal visualization of time-dependent vector fields\", \"keywords\": [\"unsteady flow visualization\", \"visualization framework\", \"lic\", \"texture advection\", \"particle systems\", \"gpu methods\"], \"trace\": \"target\", \"tokens\": [\"lic\"], \"token_indices\": [919], \"token_indices_c\": [816]}, {\"title\": \"Reconstruction and Visualization of Coordinated 3D Cell Migration Based on Optical Flow\", \"keywords\": [\"cell migration\", \"vector field\", \"3d\", \"timedependent\", \"lic\", \"tracking\", \"validation\"], \"trace\": \"target\", \"tokens\": [\"lic\"], \"token_indices\": [919], \"token_indices_c\": [816]}]}, \"523+819\": {\"cx\": -0.3036862112086544, \"cy\": 0.8448759511141076, \"count\": 1, \"docs\": [{\"title\": \"Forward image mapping\", \"keywords\": [\"image warping\", \"forward mapping\", \"texture mapping\", \"antialiasing\", \"anisotropic filtering\", \"gouraud shading\", \"hardware\"], \"trace\": \"target\", \"tokens\": [\"filter\", \"forward\"], \"token_indices\": [607, 922], \"token_indices_c\": [523, 819]}]}, \"894\": {\"cx\": 0.8518645646260847, \"cy\": -0.29885322058207797, \"count\": 1, \"docs\": [{\"title\": \"A level-set method for flow visualization\", \"keywords\": [\"flow visualization\", \"level-sets\", \"feature extraction\", \"multiscale representation\", \"texture mapping\"], \"trace\": \"target\", \"tokens\": [\"level-set\"], \"token_indices\": [1007], \"token_indices_c\": [894]}]}, \"930\": {\"cx\": 0.1719665010166503, \"cy\": 0.04178565685024202, \"count\": 2, \"docs\": [{\"title\": \"Fast visualization methods for comparing dynamics: a case study in combustion\", \"keywords\": [\"realtime visualization\", \"steering\", \"symmetry\", \"tiling\", \"pattern formation\", \"movies\"], \"trace\": \"target\", \"tokens\": [\"realtim\"], \"token_indices\": [1043], \"token_indices_c\": [930]}, {\"title\": \"View-dependent rendering of multiresolution texture-atlases\", \"keywords\": [\"multiresolution textures\", \"texture level-of-detail\", \"realtime rendering\", \"view-dependent rendering\"], \"trace\": \"target\", \"tokens\": [\"realtim\"], \"token_indices\": [1043], \"token_indices_c\": [930]}]}, \"1069\": {\"cx\": 0.11657943795424662, \"cy\": 0.47841374122368346, \"count\": 1, \"docs\": [{\"title\": \"Case study: hardware-accelerated selective LIC volume rendering\", \"keywords\": [\"flow visualization\", \"flow topology\", \"significance map\", \"illumination model\"], \"trace\": \"target\", \"tokens\": [\"signific\"], \"token_indices\": [1212], \"token_indices_c\": [1069]}]}, \"1089\": {\"cx\": -0.42979687950008605, \"cy\": 0.1961921111261829, \"count\": 2, \"docs\": [{\"title\": \"Semotus Visum: a flexible remote visualization framework\", \"keywords\": [\"remote visualization\", \"client server\"], \"trace\": \"target\", \"tokens\": [\"server\"], \"token_indices\": [1235], \"token_indices_c\": [1089]}, {\"title\": \"Hotmap: Looking at Geographic Attention\", \"keywords\": [\"geographical visualization\", \"gis\", \"heatmap\", \"server log analysis\", \"online mapping systems\", \"social navigation\"], \"trace\": \"target\", \"tokens\": [\"server\"], \"token_indices\": [1235], \"token_indices_c\": [1089]}]}, \"326+610\": {\"cx\": 0.14215494621544017, \"cy\": -0.06510706159212991, \"count\": 2, \"docs\": [{\"title\": \"Dynamic visualization of graphs with extended labels\", \"keywords\": [\"graph label placement\", \"dynamic animation\", \"graph visualization\", \"information visualization\"], \"trace\": \"target\", \"tokens\": [\"label\", \"placement\"], \"token_indices\": [407, 697], \"token_indices_c\": [326, 610]}, {\"title\": \"Spatial Text Visualization Using Automatic Typographic Maps\", \"keywords\": [\"geovisualization\", \"spatial data\", \"text visualization\", \"label placement\"], \"trace\": \"target\", \"tokens\": [\"label\", \"placement\"], \"token_indices\": [407, 697], \"token_indices_c\": [326, 610]}]}, \"586+894\": {\"cx\": 0.21424606368453913, \"cy\": -0.34480855746046757, \"count\": 1, \"docs\": [{\"title\": \"A feature-driven approach to locating optimal viewpoints for volume visualization\", \"keywords\": [\"viewpoint selection\", \"viewpoint entropy\", \"direct volume rendering\", \"interval volumes\", \"level-set graphs\"], \"trace\": \"target\", \"tokens\": [\"select\", \"level-set\"], \"token_indices\": [672, 1007], \"token_indices_c\": [586, 894]}]}, \"1414\": {\"cx\": 0.43616801749507306, \"cy\": 0.2237324875112006, \"count\": 1, \"docs\": [{\"title\": \"Occlusion-Free Animation of Driving Routes for Car Navigation Systems\", \"keywords\": [\"car navigation systems\", \"nonperspective projection\", \"occlusion-free animation\", \"visual perception\", \"temporal coherence\"], \"trace\": \"target\", \"tokens\": [\"occlusion-fre\"], \"token_indices\": [1637], \"token_indices_c\": [1414]}]}, \"728\": {\"cx\": 0.2611897777469603, \"cy\": -0.5058432484180176, \"count\": 3, \"docs\": [{\"title\": \"Visualization of Geo-spatial Point Sets via Global Shape Transformation and Local Pixel Placement\", \"keywords\": [\"geo-spatial data\", \"shape transformation\", \"cartogram\", \"pixel visualization\"], \"trace\": \"target\", \"tokens\": [\"cartogram\"], \"token_indices\": [819], \"token_indices_c\": [728]}, {\"title\": \"Worldmapper: The World as You've Never Seen it Before\", \"keywords\": [\"geographic visualization\", \"computer graphics\", \"worldmapper\", \"data visualization\", \"social visualization\", \"cartogram\"], \"trace\": \"target\", \"tokens\": [\"cartogram\"], \"token_indices\": [819], \"token_indices_c\": [728]}, {\"title\": \"Spatially Ordered Treemaps\", \"keywords\": [\"geovisualization\", \"treemaps\", \"cartograms\", \"cielab\", \"geographic information\", \"tree structures\"], \"trace\": \"target\", \"tokens\": [\"cartogram\"], \"token_indices\": [819], \"token_indices_c\": [728]}]}, \"326+523+586+610+930+1452+1453\": {\"cx\": 0.027639022545684774, \"cy\": 0.2194221917668968, \"count\": 1, \"docs\": [{\"title\": \"Dynamic Map Labeling\", \"keywords\": [\"map labeling\", \"dynamic maps\", \"human-computer interface\", \"label placement\", \"label selection\", \"label filtering\", \"label consistency\", \"computational cartography\", \"gis\", \"hci\", \"realtime\", \"preprocessing\"], \"trace\": \"target\", \"tokens\": [\"label\", \"filter\", \"select\", \"placement\", \"realtim\", \"consist\", \"hci\"], \"token_indices\": [407, 607, 672, 697, 1043, 1682, 1683], \"token_indices_c\": [326, 523, 586, 610, 930, 1452, 1453]}]}, \"326+610+1414\": {\"cx\": 0.24015930330865112, \"cy\": 0.03117278810898026, \"count\": 1, \"docs\": [{\"title\": \"Particle-based labeling: Fast point-feature labeling without obscuring other visual features\", \"keywords\": [\"interactive labeling\", \"dynamic labeling\", \"automatic label placement\", \"occlusion-free\", \"information visualization\"], \"trace\": \"target\", \"tokens\": [\"label\", \"placement\", \"occlusion-fre\"], \"token_indices\": [407, 697, 1637], \"token_indices_c\": [326, 610, 1414]}]}, \"326+1716\": {\"cx\": -0.28002456715863017, \"cy\": -0.2172745644369462, \"count\": 1, \"docs\": [{\"title\": \"An Extension of Wilkinson's Algorithm for Positioning Tick Labels on Axes\", \"keywords\": [\"axis labeling\", \"nice numbers\"], \"trace\": \"target\", \"tokens\": [\"label\", \"nice\"], \"token_indices\": [407, 2017], \"token_indices_c\": [326, 1716]}]}, \"1719\": {\"cx\": -0.08500256048586063, \"cy\": -0.5565811567528185, \"count\": 1, \"docs\": [{\"title\": \"Rethinking Map Legends with Visualization\", \"keywords\": [\"cartography\", \"design\", \"digimap service\", \"legend\", \"online web mapping\", \"visualization\"], \"trace\": \"target\", \"tokens\": [\"digimap\"], \"token_indices\": [2020], \"token_indices_c\": [1719]}]}, \"1738\": {\"cx\": 0.0331857411354201, \"cy\": -0.32243039139206536, \"count\": 1, \"docs\": [{\"title\": \"Necklace Maps\", \"keywords\": [\"geographic visualization\", \"automated cartography\", \"proportional symbol maps\", \"necklace maps\"], \"trace\": \"target\", \"tokens\": [\"proport\"], \"token_indices\": [2045], \"token_indices_c\": [1738]}]}, \"1453\": {\"cx\": -0.12684521878146698, \"cy\": 0.007128760267678772, \"count\": 1, \"docs\": [{\"title\": \"A two-stage framework for designing visual analytics system in organizational environments\", \"keywords\": [\"design theory\", \"visual analytics\", \"hci\"], \"trace\": \"target\", \"tokens\": [\"hci\"], \"token_indices\": [1683], \"token_indices_c\": [1453]}]}, \"1806\": {\"cx\": 0.25040522391220255, \"cy\": -0.2788453356398583, \"count\": 1, \"docs\": [{\"title\": \"Flow Map Layout via Spiral Trees\", \"keywords\": [\"flow maps\", \"automated cartography\", \"spiral trees\"], \"trace\": \"target\", \"tokens\": [\"spiral\"], \"token_indices\": [2136], \"token_indices_c\": [1806]}]}, \"326+1810\": {\"cx\": 0.2179944959064061, \"cy\": -0.20927503800948272, \"count\": 1, \"docs\": [{\"title\": \"Focus+Context Metro Maps\", \"keywords\": [\"focus+context visualization\", \"metro map\", \"octilinear layout\", \"graph labeling\", \"optimization\"], \"trace\": \"target\", \"tokens\": [\"label\", \"metro\"], \"token_indices\": [407, 2140], \"token_indices_c\": [326, 1810]}]}, \"1813\": {\"cx\": -0.3814715063851077, \"cy\": -0.02775882481479972, \"count\": 1, \"docs\": [{\"title\": \"Exploring Uncertainty in Geodemographics with Interactive Graphics\", \"keywords\": [\"geodemographics\", \"oac\", \"classification\", \"cartography\", \"uncertainty\"], \"trace\": \"target\", \"tokens\": [\"oac\"], \"token_indices\": [2144], \"token_indices_c\": [1813]}]}, \"1881\": {\"cx\": -0.24438730290782404, \"cy\": -0.7010586253778283, \"count\": 1, \"docs\": [{\"title\": \"Adaptive Composite Map Projections\", \"keywords\": [\"multi-scale map\", \"web mapping\", \"web cartography\", \"web map projection\", \"web mercator\", \"html5 canvas\"], \"trace\": \"target\", \"tokens\": [\"mercat\"], \"token_indices\": [2228], \"token_indices_c\": [1881]}]}, \"1930\": {\"cx\": 0.395579697746455, \"cy\": 0.6109944247384388, \"count\": 1, \"docs\": [{\"title\": \"Visual Analytics for Spatial Clustering: Using a Heuristic Approach for Guided Exploration\", \"keywords\": [\"heuristic-based spatial clustering\", \"interactive visual clustering\", \"k-order alpha-shapes\"], \"trace\": \"target\", \"tokens\": [\"heuristic-bas\"], \"token_indices\": [2289], \"token_indices_c\": [1930]}]}, \"523+816+2052\": {\"cx\": -0.17347411174575345, \"cy\": 0.892724407127537, \"count\": 1, \"docs\": [{\"title\": \"Explicit Frequency Control for High-Quality Texture-Based Flow Visualization\", \"keywords\": [\"flow visualization\", \"texture-based visualization\", \"lic\", \"gabor filter\", \"spatial frequency\", \"image contrast\"], \"trace\": \"target\", \"tokens\": [\"filter\", \"lic\", \"gabor\"], \"token_indices\": [607, 919, 2440], \"token_indices_c\": [523, 816, 2052]}]}, \"2099\": {\"cx\": -0.6156936935465935, \"cy\": -0.08942582275377664, \"count\": 1, \"docs\": [{\"title\": \"Quantifying the Visual Impact of Classification Boundaries in Choropleth Maps\", \"keywords\": [\"choropleth\", \"classification\", \"visualization\", \"geodemographics\", \"geovisualization\"], \"trace\": \"target\", \"tokens\": [\"choropleth\"], \"token_indices\": [2502], \"token_indices_c\": [2099]}]}, \"1069+2112\": {\"cx\": -0.016640539144449497, \"cy\": 0.4918244413549302, \"count\": 1, \"docs\": [{\"title\": \"Map LineUps: Effects of spatial structure on graphical inference\", \"keywords\": [\"graphical inference\", \"spatial autocorrelation\", \"just noticeable difference\", \"geovisualization\", \"statistical significance\"], \"trace\": \"target\", \"tokens\": [\"signific\", \"autocorrel\"], \"token_indices\": [1212, 2519], \"token_indices_c\": [1069, 2112]}]}, \"730\": {\"cx\": 0.46991506750943823, \"cy\": -0.5355594633191044, \"count\": 1, \"docs\": [{\"title\": \"Surprise! Bayesian Weighting for De-Biasing Thematic Maps\", \"keywords\": [\"thematic maps\", \"bayesian surprise\", \"event visualization\", \"spatia-temporal data\"], \"trace\": \"target\", \"tokens\": [\"themat\"], \"token_indices\": [822], \"token_indices_c\": [730]}]}, \"1452\": {\"cx\": 0.035622251133714165, \"cy\": -0.059874242709165346, \"count\": 1, \"docs\": [{\"title\": \"EdWordle: Consistency-Preserving Word Cloud Editing\", \"keywords\": [\"wordle\", \"consistency\", \"text visualization\"], \"trace\": \"target\", \"tokens\": [\"consist\"], \"token_indices\": [1682], \"token_indices_c\": [1452]}]}}}"
      ],
      "text/plain": [
       "<IPython.core.display.Javascript object>"
      ]
     },
     "metadata": {},
     "output_type": "display_data"
    },
    {
     "data": {
      "text/html": [
       "\n",
       "         <div id='vis'></div>\n",
       "         <style>.container { width:100% !important; }</style>\n",
       "         <script src=\"/static/components/requirejs/require.js\"></script>\n",
       "         <script>\n",
       "          requirejs.config({\n",
       "            paths: {\n",
       "              \"d3\": \"https://d3js.org/d3.v5.min\",\n",
       "              jquery: '//ajax.googleapis.com/ajax/libs/jquery/2.0.0/jquery.min',\n",
       "            },\n",
       "          });\n",
       "        </script>\n",
       "        <script>\n",
       "          requirejs(['d3'], function(d3) {\n",
       "            const width = 1850,\n",
       "                  height = 1850;\n",
       "\n",
       "            const svg = d3.select('#vis').append('svg')\n",
       "                            .attr('id', 'vis-svg')\n",
       "                            .attr('width', width)\n",
       "                            .attr('height', height);\n",
       "            graph_json = window.path_data\n",
       "            \n",
       "            console.log(JSON.stringify(graph_json))\n",
       "            \n",
       "            const graph = graph_json['graph'];\n",
       "            const docs = graph_json['docs'];\n",
       "\n",
       "            const xScale = d3.scaleLinear().domain(d3.extent(graph.nodes, d=>d.x)).range([140, width-140])\n",
       "            const yScale = d3.scaleLinear().domain(d3.extent(graph.nodes, d=>d.y)).range([140, height-140])\n",
       "\n",
       "            const linkline = d3.line()\n",
       "                                  .x(d => xScale(d.x))\n",
       "                                  .y(d => yScale(d.y));\n",
       "\n",
       "            const docs_three = Object.keys(docs).filter(d=>d.split('+').length >= 2).map(d => docs[d])\n",
       "\n",
       "            const doc_lines_data = []\n",
       "\n",
       "            docs_three.forEach(doc => {\n",
       "              doc['docs'].forEach(d => {\n",
       "                d['token_indices_c'].forEach(t=> {\n",
       "                  const target_node = graph.nodes.filter(r => r.id == t)[0]\n",
       "                  const line_points = [\n",
       "                    {\n",
       "                      'x' : doc.cx,\n",
       "                      'y' : doc.cy \n",
       "                    },\n",
       "                    {\n",
       "                      'x' : target_node.x,\n",
       "                      'y' : target_node.y\n",
       "                    }\n",
       "                  ]\n",
       "                  doc_lines_data.push(line_points)\n",
       "                })\n",
       "              })\n",
       "            })\n",
       "\n",
       "\n",
       "            const doc_links = svg.append(\"g\")\n",
       "                            .attr(\"id\", \"doc_links\")\n",
       "                          .selectAll(\"line\")\n",
       "                          .data(doc_lines_data)\n",
       "                          .enter().append(\"path\")\n",
       "                            .attr(\"stroke-dasharray\", '5,5')\n",
       "                            .style(\"stroke\", \"black\")\n",
       "                            .attr(\"stroke-width\", 0.5)\n",
       "                            .attr(\"opacity\", 0.4)\n",
       "                            .attr(\"d\", d => linkline(d));\n",
       "\n",
       "\n",
       "            const links = svg.append(\"g\")\n",
       "                            .attr(\"id\", \"links\")\n",
       "                          .selectAll(\"line\")\n",
       "                          .data(graph.links)\n",
       "                          .enter().append(\"path\")\n",
       "                            .style(\"stroke\", \"black\")\n",
       "                            .attr(\"stroke-width\", 0.5)\n",
       "                            .attr(\"opacity\", 0.4)\n",
       "                            .attr(\"d\", d => linkline(graph.nodes.filter(b=>b.id == d.source || b.id == d.target)));\n",
       "\n",
       "\n",
       "            function getBB(selection) {\n",
       "                selection.each(function(d){d.bbox = this.getBBox();})\n",
       "            }\n",
       "\n",
       "            const nodes_g = svg.append(\"g\")\n",
       "                            .attr(\"id\", \"nodes\")\n",
       "                          .selectAll('g')\n",
       "                          .data(graph.nodes)\n",
       "                          .enter()\n",
       "                          .append('g');\n",
       "            nodes_g\n",
       "                  .append('text')\n",
       "                    .attr(\"class\", \"node\")\n",
       "                    .text(d=> d.keyword[0])\n",
       "                    .attr('x', d => xScale(d.x))\n",
       "                    .attr('y', d => yScale(d.y))\n",
       "                    .style('fill', d=>d.trace_color)\n",
       "                    .style('font-size', \"14px\")\n",
       "                    .style('font-weight', \"bold\")\n",
       "                    .style('text-anchor', \"middle\")\n",
       "                    .call(getBB);\n",
       "\n",
       "            nodes_g.insert(\"rect\", \"text\")\n",
       "                              .attr('x', d => xScale(d.x) - d.bbox.width/2)\n",
       "                              .attr('y', d => yScale(d.y) - 3*(d.bbox.height/4))\n",
       "                              .attr(\"width\", function(d){return d.bbox.width})\n",
       "                              .attr(\"height\", function(d){return d.bbox.height})\n",
       "                              .style(\"fill\", \"white\")\n",
       "                              // .style(\"stroke\", \"black\");\n",
       "\n",
       "            const all_docs = Object.values(docs)                    \n",
       "\n",
       "            const docs_g = svg.append(\"g\")\n",
       "                      .attr(\"id\", \"docs\")\n",
       "                    .selectAll('g')\n",
       "                    .data(all_docs)\n",
       "                    .enter()\n",
       "                    .append('g')\n",
       "\n",
       "            const radiusScale = d3.scaleLinear().domain(d3.extent(all_docs, d=>d.count)).range([3,5])\n",
       "            docs_g.append('circle')\n",
       "                .attr('r', d=>radiusScale(d.count))\n",
       "                .attr('cx', d=>xScale(d.cx))\n",
       "                .attr('cy', d=>yScale(d.cy))\n",
       "                .style('fill', d => {\n",
       "                  console.log(d);\n",
       "                  if (d['docs'][0].trace == 'query')\n",
       "                    return '#d95f02'\n",
       "                  else return '#1b9e77'\n",
       "                })\n",
       "                .style('opacity', 0.5);\n",
       "\n",
       "            docs_g.append('text')\n",
       "                  .attr('class', 'doc-text')\n",
       "                  .text(d => d.docs[0].title)\n",
       "                  .attr('x', d => xScale(d.cx))\n",
       "                  .attr('y', d => 10 + yScale(d.cy))\n",
       "                  .style('font-size', \"9px\")\n",
       "                  .style('text-anchor', \"middle\")\n",
       "                  .style('font-weight', \"light\")\n",
       "                  .style('font-family', \"Open Sans\")\n",
       "          })\n",
       "        </script>\n",
       "      \n",
       "      "
      ],
      "text/plain": [
       "<IPython.core.display.HTML object>"
      ]
     },
     "metadata": {},
     "output_type": "display_data"
    }
   ],
   "source": [
    "import IPython\n",
    "import IPython.display as display\n",
    "\n",
    "\n",
    "display.display(display.Javascript('window.path_data = %s' % json_results))\n",
    "\n",
    "display.display(IPython.core.display.HTML('''\n",
    "         <div id='vis'></div>\n",
    "         <style>.container { width:100% !important; }</style>\n",
    "         <script src=\"/static/components/requirejs/require.js\"></script>\n",
    "         <script>\n",
    "          requirejs.config({\n",
    "            paths: {\n",
    "              \"d3\": \"https://d3js.org/d3.v5.min\",\n",
    "              jquery: '//ajax.googleapis.com/ajax/libs/jquery/2.0.0/jquery.min',\n",
    "            },\n",
    "          });\n",
    "        </script>\n",
    "        <script>\n",
    "          requirejs(['d3'], function(d3) {\n",
    "            const width = 1850,\n",
    "                  height = 1850;\n",
    "\n",
    "            const svg = d3.select('#vis').append('svg')\n",
    "                            .attr('id', 'vis-svg')\n",
    "                            .attr('width', width)\n",
    "                            .attr('height', height);\n",
    "            graph_json = window.path_data\n",
    "            \n",
    "            console.log(JSON.stringify(graph_json))\n",
    "            \n",
    "            const graph = graph_json['graph'];\n",
    "            const docs = graph_json['docs'];\n",
    "\n",
    "            const xScale = d3.scaleLinear().domain(d3.extent(graph.nodes, d=>d.x)).range([140, width-140])\n",
    "            const yScale = d3.scaleLinear().domain(d3.extent(graph.nodes, d=>d.y)).range([140, height-140])\n",
    "\n",
    "            const linkline = d3.line()\n",
    "                                  .x(d => xScale(d.x))\n",
    "                                  .y(d => yScale(d.y));\n",
    "\n",
    "            const docs_three = Object.keys(docs).filter(d=>d.split('+').length >= 2).map(d => docs[d])\n",
    "\n",
    "            const doc_lines_data = []\n",
    "\n",
    "            docs_three.forEach(doc => {\n",
    "              doc['docs'].forEach(d => {\n",
    "                d['token_indices_c'].forEach(t=> {\n",
    "                  const target_node = graph.nodes.filter(r => r.id == t)[0]\n",
    "                  const line_points = [\n",
    "                    {\n",
    "                      'x' : doc.cx,\n",
    "                      'y' : doc.cy \n",
    "                    },\n",
    "                    {\n",
    "                      'x' : target_node.x,\n",
    "                      'y' : target_node.y\n",
    "                    }\n",
    "                  ]\n",
    "                  doc_lines_data.push(line_points)\n",
    "                })\n",
    "              })\n",
    "            })\n",
    "\n",
    "\n",
    "            const doc_links = svg.append(\"g\")\n",
    "                            .attr(\"id\", \"doc_links\")\n",
    "                          .selectAll(\"line\")\n",
    "                          .data(doc_lines_data)\n",
    "                          .enter().append(\"path\")\n",
    "                            .attr(\"stroke-dasharray\", '5,5')\n",
    "                            .style(\"stroke\", \"black\")\n",
    "                            .attr(\"stroke-width\", 0.5)\n",
    "                            .attr(\"opacity\", 0.4)\n",
    "                            .attr(\"d\", d => linkline(d));\n",
    "\n",
    "\n",
    "            const links = svg.append(\"g\")\n",
    "                            .attr(\"id\", \"links\")\n",
    "                          .selectAll(\"line\")\n",
    "                          .data(graph.links)\n",
    "                          .enter().append(\"path\")\n",
    "                            .style(\"stroke\", \"black\")\n",
    "                            .attr(\"stroke-width\", 0.5)\n",
    "                            .attr(\"opacity\", 0.4)\n",
    "                            .attr(\"d\", d => linkline(graph.nodes.filter(b=>b.id == d.source || b.id == d.target)));\n",
    "\n",
    "\n",
    "            function getBB(selection) {\n",
    "                selection.each(function(d){d.bbox = this.getBBox();})\n",
    "            }\n",
    "\n",
    "            const nodes_g = svg.append(\"g\")\n",
    "                            .attr(\"id\", \"nodes\")\n",
    "                          .selectAll('g')\n",
    "                          .data(graph.nodes)\n",
    "                          .enter()\n",
    "                          .append('g');\n",
    "            nodes_g\n",
    "                  .append('text')\n",
    "                    .attr(\"class\", \"node\")\n",
    "                    .text(d=> d.keyword[0])\n",
    "                    .attr('x', d => xScale(d.x))\n",
    "                    .attr('y', d => yScale(d.y))\n",
    "                    .style('fill', d=>d.trace_color)\n",
    "                    .style('font-size', \"14px\")\n",
    "                    .style('font-weight', \"bold\")\n",
    "                    .style('text-anchor', \"middle\")\n",
    "                    .call(getBB);\n",
    "\n",
    "            nodes_g.insert(\"rect\", \"text\")\n",
    "                              .attr('x', d => xScale(d.x) - d.bbox.width/2)\n",
    "                              .attr('y', d => yScale(d.y) - 3*(d.bbox.height/4))\n",
    "                              .attr(\"width\", function(d){return d.bbox.width})\n",
    "                              .attr(\"height\", function(d){return d.bbox.height})\n",
    "                              .style(\"fill\", \"white\")\n",
    "                              // .style(\"stroke\", \"black\");\n",
    "\n",
    "            const all_docs = Object.values(docs)                    \n",
    "\n",
    "            const docs_g = svg.append(\"g\")\n",
    "                      .attr(\"id\", \"docs\")\n",
    "                    .selectAll('g')\n",
    "                    .data(all_docs)\n",
    "                    .enter()\n",
    "                    .append('g')\n",
    "\n",
    "            const radiusScale = d3.scaleLinear().domain(d3.extent(all_docs, d=>d.count)).range([3,5])\n",
    "            docs_g.append('circle')\n",
    "                .attr('r', d=>radiusScale(d.count))\n",
    "                .attr('cx', d=>xScale(d.cx))\n",
    "                .attr('cy', d=>yScale(d.cy))\n",
    "                .style('fill', d => {\n",
    "                  console.log(d);\n",
    "                  if (d['docs'][0].trace == 'query')\n",
    "                    return '#d95f02'\n",
    "                  else return '#1b9e77'\n",
    "                })\n",
    "                .style('opacity', 0.5);\n",
    "\n",
    "            docs_g.append('text')\n",
    "                  .attr('class', 'doc-text')\n",
    "                  .text(d => d.docs[0].title)\n",
    "                  .attr('x', d => xScale(d.cx))\n",
    "                  .attr('y', d => 10 + yScale(d.cy))\n",
    "                  .style('font-size', \"9px\")\n",
    "                  .style('text-anchor', \"middle\")\n",
    "                  .style('font-weight', \"light\")\n",
    "                  .style('font-family', \"Open Sans\")\n",
    "          })\n",
    "        </script>\n",
    "      \n",
    "      '''))"
   ]
  },
  {
   "cell_type": "markdown",
   "metadata": {
    "colab_type": "text",
    "id": "lYyZsYyK7Jn-"
   },
   "source": [
    "# Scratchpad\n",
    "If you want to add your own experiments or have a closer look at the data structures this is the right place to do so."
   ]
  },
  {
   "cell_type": "code",
   "execution_count": null,
   "metadata": {
    "colab": {},
    "colab_type": "code",
    "id": "oNzp8yUN7Rsh"
   },
   "outputs": [],
   "source": []
  },
  {
   "cell_type": "markdown",
   "metadata": {},
   "source": [
    "# References\n",
    "\n",
    "<div class=\"cite2c-biblio\"></div>"
   ]
  },
  {
   "cell_type": "code",
   "execution_count": null,
   "metadata": {},
   "outputs": [],
   "source": []
  }
 ],
 "metadata": {
  "cite2c": {
   "citations": {
    "5825190/2GKEGQL9": {
     "DOI": "10.5281/zenodo.1344341",
     "URL": "https://doi.org/10.5281/zenodo.1344341",
     "author": [
      {
       "family": "Schöch",
       "given": "Christof"
      }
     ],
     "id": "5825190/2GKEGQL9",
     "issued": {
      "year": 2018
     },
     "note": "Citation Key: christof_schoch_2018_1344341",
     "title": "Abstracts from the Digital Humanities conference in Mexico D.F 2018 (DH2018)",
     "type": "article-journal"
    },
    "5825190/2M3GJCKB": {
     "id": "5825190/2M3GJCKB",
     "title": "Huang and Lai - 2006 - Clustering graphs for visualization via node simil.pdf",
     "type": "article"
    },
    "5825190/3CIKKD6P": {
     "abstract": "Graphs (networks) are very common data structures which are handled in computers. Diagrams are widely used to represent the graph structures visually in many information systems. In order to automatically draw the diagrams which are, for example, state graphs, data-flow graphs, Petri nets, and entity-relationship diagrams, basic graph drawing algorithms are required.",
     "author": [
      {
       "family": "Kamada",
       "given": "Tomihisa"
      },
      {
       "family": "Kawai",
       "given": "Satoru"
      }
     ],
     "container-title": "Information Processing Letters",
     "id": "5825190/3CIKKD6P",
     "issued": {
      "year": 1989
     },
     "title": "An algorithm for drawing general undirected graphs",
     "type": "article-journal"
    },
    "5825190/AGWC3HVT": {
     "URL": "https://www.transacl.org/ojs/index.php/tacl/article/view/570",
     "abstract": "Recent trends suggest that neural-network-inspired word embedding models outperform traditional count-based distributional models on word similarity and analogy detection tasks. We reveal that much of the performance gains of word embeddings are due to certain system design choices and hyperparameter optimizations, rather than the embedding algorithms themselves. Furthermore, we show that these modifications can be transferred to traditional distributional models, yielding similar gains. In contrast to prior reports, we observe mostly local or insignificant performance differences between the methods, with no global advantage to any single approach over the others.",
     "accessed": {
      "day": 29,
      "month": 1,
      "year": 2019
     },
     "author": [
      {
       "family": "Levy",
       "given": "Omer"
      },
      {
       "family": "Goldberg",
       "given": "Yoav"
      },
      {
       "family": "Dagan",
       "given": "Ido"
      }
     ],
     "container-title": "Transactions of the Association for Computational Linguistics",
     "id": "5825190/AGWC3HVT",
     "issue": "0",
     "issued": {
      "day": 4,
      "month": 5,
      "year": 2015
     },
     "language": "en",
     "page": "211-225",
     "page-first": "211",
     "title": "Improving Distributional Similarity with Lessons Learned from Word Embeddings",
     "type": "article-journal",
     "volume": "3"
    },
    "5825190/B4LPB8XA": {
     "DOI": "10.1002/(SICI)1097-4571(199009)41:6<391::AID-ASI1>3.0.CO;2-9",
     "URL": "https://onlinelibrary.wiley.com/doi/abs/10.1002/%28SICI%291097-4571%28199009%2941%3A6%3C391%3A%3AAID-ASI1%3E3.0.CO%3B2-9",
     "abstract": "A new method for automatic indexing and retrieval is described. The approach is to take advantage of implicit higher-order structure in the association of terms with documents (“semantic structure”) in order to improve the detection of relevant documents on the basis of terms found in queries. The particular technique used is singular-value decomposition, in which a large term by document matrix is decomposed into a set of ca. 100 orthogonal factors from which the original matrix can be approximated by linear combination. Documents are represented by ca. 100 item vectors of factor weights. Queries are represented as pseudo-document vectors formed from weighted combinations of terms, and documents with supra-threshold cosine values are returned. Initial tests find this completely automatic method for retrieval to be promising. © 1990 John Wiley & Sons, Inc.",
     "accessed": {
      "day": 3,
      "month": 4,
      "year": 2019
     },
     "author": [
      {
       "family": "Deerwester",
       "given": "Scott"
      },
      {
       "family": "Dumais",
       "given": "Susan T."
      },
      {
       "family": "Furnas",
       "given": "George W."
      },
      {
       "family": "Landauer",
       "given": "Thomas K."
      },
      {
       "family": "Harshman",
       "given": "Richard"
      }
     ],
     "container-title": "Journal of the American Society for Information Science",
     "id": "5825190/B4LPB8XA",
     "issue": "6",
     "issued": {
      "year": 1990
     },
     "language": "en",
     "page": "391-407",
     "page-first": "391",
     "title": "Indexing by latent semantic analysis",
     "type": "article-journal",
     "volume": "41"
    },
    "5825190/EPG46MXF": {
     "URL": "https://dhs.stanford.edu/algorithmic-literacy/digital-literacy-and-digital-citizenship/",
     "accessed": {
      "day": 26,
      "month": 9,
      "year": 2018
     },
     "author": [
      {
       "family": "Meeks",
       "given": "Elijah"
      }
     ],
     "id": "5825190/EPG46MXF",
     "issued": {
      "year": 2013
     },
     "language": "en-US",
     "title": "Digital Literacy and Digital Citizenship | Digital Humanities Specialist",
     "type": "webpage"
    },
    "5825190/GEINZ3ZS": {
     "URL": "http://dl.acm.org/citation.cfm?id=89086.89095",
     "abstract": "The term word association is used in a very particular sense in the psycholinguistic literature. (Generally speaking, subjects respond quicker than normal to the word nurse if it follows a highly associated word such as doctor. ) We will extend the term to provide the basis for a statistical description of a variety of interesting linguistic phenomena, ranging from semantic relations of the doctor/nurse type (content word/content word) to lexico-syntactic co-occurrence constraints between verbs and prepositions (content word/function word). This paper will propose an objective measure based on the information theoretic notion of mutual information, for estimating word association norms from computer readable corpora. (The standard method of obtaining word association norms, testing a few thousand subjects on a few hundred words, is both costly and unreliable.) The proposed measure, the association ratio, estimates word association norms directly from computer readable corpora, making it possible to estimate norms for tens of thousands of words.",
     "accessed": {
      "day": 29,
      "month": 1,
      "year": 2019
     },
     "author": [
      {
       "family": "Church",
       "given": "Kenneth Ward"
      },
      {
       "family": "Hanks",
       "given": "Patrick"
      }
     ],
     "container-title": "Comput. Linguist.",
     "id": "5825190/GEINZ3ZS",
     "issue": "1",
     "issued": {
      "month": 3,
      "year": 1990
     },
     "page": "22–29",
     "page-first": "22",
     "title": "Word Association Norms, Mutual Information, and Lexicography",
     "type": "article-journal",
     "volume": "16"
    },
    "5825190/GGZM7TH4": {
     "abstract": "In the context of a larger discussion about how to incorporate Humanities values into evaluations of visualization projects in Digital Humanities, this position paper uses the Poem Viewer and POEMAGE collaborations between computer scientists and poets to consider a specific case in which working with computer scientists and computers on poetry visualization tools helped one poet/poetry scholar refine and deepen her thinking about poetry in both its sonic and figurative dimensions as she continued to engage in her primary work of close reading and textual analysis. Based on this case, it then argues that working with the computer may benefit close readers of poetry not only by showing them relationships in poems they might not otherwise have noticed, but also by teaching them new, more precise ways of approaching and thinking about the operations of poems, including metaphor. It concludes by suggesting a few concrete ways of incorporating these kinds of scholarly activities not subject to the usual kinds of measurement into evaluations.",
     "author": [
      {
       "family": "Coles",
       "given": "Katharine"
      }
     ],
     "container-title": "Proc. 2nd Workshop on Visualization for the Digital Humanities (VIS4DH)",
     "event": "2nd Workshop on Visualization for the Digital Humanities (VIS4DH)",
     "id": "5825190/GGZM7TH4",
     "issued": {
      "year": 2017
     },
     "title": "Think Like a Machine (or not)",
     "type": "paper-conference"
    },
    "5825190/NKZVXPYC": {
     "DOI": "10.1109/TVCG.2016.2615308",
     "abstract": "We have created and made available to all a dataset with information about every paper that has appeared at the IEEE Visualization (VIS) set of conferences: InfoVis, SciVis, VAST, and Vis. The information about each paper includes its title, abstract, authors, and citations to other papers in the conference series, among many other attributes. This article describes the motivation for creating the dataset, as well as our process of coalescing and cleaning the data, and a set of three visualizations we created to facilitate exploration of the data. This data is meant to be useful to the broad data visualization community to help understand the evolution of the field and as an example document collection for text data visualization research.",
     "author": [
      {
       "family": "Isenberg",
       "given": "P."
      },
      {
       "family": "Heimerl",
       "given": "F."
      },
      {
       "family": "Koch",
       "given": "S."
      },
      {
       "family": "Isenberg",
       "given": "T."
      },
      {
       "family": "Xu",
       "given": "P."
      },
      {
       "family": "Stolper",
       "given": "C. D."
      },
      {
       "family": "Sedlmair",
       "given": "M."
      },
      {
       "family": "Chen",
       "given": "J."
      },
      {
       "family": "Möller",
       "given": "T."
      },
      {
       "family": "Stasko",
       "given": "J."
      }
     ],
     "container-title": "IEEE Transactions on Visualization and Computer Graphics",
     "id": "5825190/NKZVXPYC",
     "issue": "9",
     "issued": {
      "month": 9,
      "year": 2017
     },
     "page": "2199-2206",
     "page-first": "2199",
     "shortTitle": "Vispubdata.org",
     "title": "Vispubdata.org: A Metadata Collection About IEEE Visualization (VIS) Publications",
     "title-short": "Vispubdata.org",
     "type": "article-journal",
     "volume": "23"
    },
    "5825190/SAAU4NU2": {
     "DOI": "10.1080/17470218.2015.1038280",
     "URL": "https://doi.org/10.1080/17470218.2015.1038280",
     "abstract": "In distributional semantics models (DSMs) such as latent semantic analysis (LSA), words are represented as vectors in a high-dimensional vector space. This allows for computing word similarities as the cosine of the angle between two such vectors. In two experiments, we investigated whether LSA cosine similarities predict priming effects, in that higher cosine similarities are associated with shorter reaction times (RTs). Critically, we applied a pseudo-random procedure in generating the item material to ensure that we directly manipulated LSA cosines as an independent variable. We employed two lexical priming experiments with lexical decision tasks (LDTs). In Experiment 1 we presented participants with 200 different prime words, each paired with one unique target. We found a significant effect of cosine similarities on RTs. The same was true for Experiment 2, where we reversed the prime-target order (primes of Experiment 1 were targets in Experiment 2, and vice versa). The results of these experiments confirm that LSA cosine similarities can predict priming effects, supporting the view that they are psychologically relevant. The present study thereby provides evidence for qualifying LSA cosine similarities not only as a linguistic measure, but also as a cognitive similarity measure. However, it is also shown that other DSMs can outperform LSA as a predictor of priming effects.",
     "accessed": {
      "day": 3,
      "month": 4,
      "year": 2019
     },
     "author": [
      {
       "family": "Günther",
       "given": "Fritz"
      },
      {
       "family": "Dudschig",
       "given": "Carolin"
      },
      {
       "family": "Kaup",
       "given": "Barbara"
      }
     ],
     "container-title": "The Quarterly Journal of Experimental Psychology",
     "id": "5825190/SAAU4NU2",
     "issue": "4",
     "issued": {
      "day": 2,
      "month": 4,
      "year": 2016
     },
     "note": "PMID: 25952009",
     "page": "626-653",
     "page-first": "626",
     "shortTitle": "Latent semantic analysis cosines as a cognitive similarity measure",
     "title": "Latent semantic analysis cosines as a cognitive similarity measure: Evidence from priming studies",
     "title-short": "Latent semantic analysis cosines as a cognitive similarity measure",
     "type": "article-journal",
     "volume": "69"
    },
    "5825190/SD9XSNXL": {
     "DOI": "10.1037/0033-295X.104.2.211",
     "abstract": "How do people know as much as they do with as little information as they get? The problem takes many forms; learning vocabulary from text is an especially dramatic and convenient case for research. A new general theory of acquired similarity and knowledge representation, latent semantic analysis (LSA), is presented and used to successfully simulate such learning and several other psycholinguistic phenomena. By inducing global knowledge indirectly from local co-occurrence data in a large body of representative text, LSA acquired knowledge about the full vocabulary of English at a comparable rate to schoolchildren. LSA uses no prior linguistic or perceptual similarity knowledge; it is based solely on a general mathematical learning method that achieves powerful inductive effects by extracting the right number of dimensions (e.g., 300) to represent objects and contexts. Relations to other theories, phenomena and problems are sketched. (PsycINFO Database Record (c) 2016 APA, all rights reserved)",
     "author": [
      {
       "family": "Landauer",
       "given": "Thomas K."
      },
      {
       "family": "Dumais",
       "given": "Susan T."
      }
     ],
     "container-title": "Psychological Review",
     "id": "5825190/SD9XSNXL",
     "issue": "2",
     "issued": {
      "year": 1997
     },
     "page": "211-240",
     "page-first": "211",
     "shortTitle": "A solution to Plato's problem",
     "title": "A solution to Plato's problem: The latent semantic analysis theory of acquisition, induction, and representation of knowledge",
     "title-short": "A solution to Plato's problem",
     "type": "article-journal",
     "volume": "104"
    },
    "5825190/SFVYGKHS": {
     "abstract": "The value of a visualization evolved in a digital humanities project is per se not evenly high for both involved research fields. When an approach is too complex – which counts as a strong argument for a publication in a visualization realm – it might get invaluable for humanities scholars due to problems of comprehension. On the other hand, if a clean, easily comprehensible visualization is valuable for a humanities scholar, the missing novelty most likely impedes a computer science publication. My own digital humanities background has shown that it is indeed a balancing act to generate beneficial research results for both the visualization and the digital humanities fields. To find out how visualizations are used as means to communicate humanities matters and to assess the impact of the visualization community to the digital humanities field, I surveyed the long papers of the last four annual digital humanities conferences, discovering that visualization scholars are rarely involved in collaborations that produce valuable digital humanities results, in other words, it seems hard to walk the tightrope of generating valuable research for both fields. Derived from my own digital humanities experiences, I suggest a methodology how to design a digital humanities project to overcome this issue.",
     "author": [
      {
       "family": "Jänicke",
       "given": "Stefan"
      }
     ],
     "container-title": "Proc. 1st Workshop on Visualization for the Digital Humanities (VIS4DH)",
     "event": "1st Workshop on Visualization for the Digital Humanities",
     "id": "5825190/SFVYGKHS",
     "issued": {
      "year": 2016
     },
     "title": "Valuable Research for Visualization and Digital Humanities: A Balancing Act",
     "type": "paper-conference"
    },
    "5825190/U2RP32HP": {
     "URL": "http://papers.nips.cc/paper/3700-reading-tea-leaves-how-humans-interpret-topic-models.pdf",
     "author": [
      {
       "family": "Chang",
       "given": "Jonathan"
      },
      {
       "family": "Gerrish",
       "given": "Sean"
      },
      {
       "family": "Wang",
       "given": "Chong"
      },
      {
       "family": "Boyd-graber",
       "given": "Jordan L."
      },
      {
       "family": "Blei",
       "given": "David M."
      }
     ],
     "container-title": "Advances in Neural Information Processing Systems 22",
     "editor": [
      {
       "family": "Bengio",
       "given": "Y."
      },
      {
       "family": "Schuurmans",
       "given": "D."
      },
      {
       "family": "Lafferty",
       "given": "J. D."
      },
      {
       "family": "Williams",
       "given": "C. K. I."
      },
      {
       "family": "Culotta",
       "given": "A."
      }
     ],
     "id": "5825190/U2RP32HP",
     "issued": {
      "year": 2009
     },
     "note": "Citation Key: NIPS2009_3700",
     "page": "288-296",
     "page-first": "288",
     "publisher": "Curran Associates, Inc.",
     "title": "Reading Tea Leaves: How Humans Interpret Topic Models",
     "type": "chapter"
    },
    "5825190/U2ZY3SKR": {
     "id": "5825190/U2ZY3SKR",
     "title": "Isenberg et al. - 2017 - Vispubdata.org A Metadata Collection About IEEE V.pdf",
     "type": "article"
    },
    "5825190/WEDH9C6G": {
     "URL": "http://papers.nips.cc/paper/5477-neural-word-embedding-as-implicit-matrix-factorization.pdf",
     "accessed": {
      "day": 23,
      "month": 1,
      "year": 2019
     },
     "author": [
      {
       "family": "Levy",
       "given": "Omer"
      },
      {
       "family": "Goldberg",
       "given": "Yoav"
      }
     ],
     "container-title": "Advances in Neural Information Processing Systems 27",
     "editor": [
      {
       "family": "Ghahramani",
       "given": "Z."
      },
      {
       "family": "Welling",
       "given": "M."
      },
      {
       "family": "Cortes",
       "given": "C."
      },
      {
       "family": "Lawrence",
       "given": "N. D."
      },
      {
       "family": "Weinberger",
       "given": "K. Q."
      }
     ],
     "id": "5825190/WEDH9C6G",
     "issued": {
      "year": 2014
     },
     "page": "2177–2185",
     "page-first": "2177",
     "publisher": "Curran Associates, Inc.",
     "title": "Neural Word Embedding as Implicit Matrix Factorization",
     "type": "chapter"
    },
    "5825190/YJCC8EDY": {
     "DOI": "10.1007/BF02812438",
     "URL": "https://doi.org/10.1007/BF02812438",
     "abstract": "Standard psychological scaling methods have been widely used as knowledge elicitation tools to uncover structural characteristics of a given domain. However, these methods traditionally rely on relatedness ratings from human experts, which is often time-consuming and tedious. We describe an integrated approach to knowledge elicitation and representation using Latent Semantic Analysis and Pathfinder Network Scaling techniques. The semantic structure of a subject domain can be automatically characterised from a collection of published documents in the domain. The method is illustrated with an example of organising a digital library in accordance to latent semantic structures.",
     "accessed": {
      "day": 3,
      "month": 4,
      "year": 2019
     },
     "author": [
      {
       "family": "Chen",
       "given": "Chaomei"
      }
     ],
     "container-title": "AI & SOCIETY",
     "container-title-short": "AI & Soc",
     "id": "5825190/YJCC8EDY",
     "issue": "1",
     "issued": {
      "day": 1,
      "month": 3,
      "year": 1997
     },
     "journalAbbreviation": "AI & Soc",
     "language": "en",
     "page": "48-62",
     "page-first": "48",
     "shortTitle": "Tracking latent domain structures",
     "title": "Tracking latent domain structures: An integration of pathfinder and Latent Semantic Analysis",
     "title-short": "Tracking latent domain structures",
     "type": "article-journal",
     "volume": "11"
    },
    "undefined": {
     "DOI": "10.1080/17470218.2015.1038280",
     "URL": "https://doi.org/10.1080/17470218.2015.1038280",
     "abstract": "In distributional semantics models (DSMs) such as latent semantic analysis (LSA), words are represented as vectors in a high-dimensional vector space. This allows for computing word similarities as the cosine of the angle between two such vectors. In two experiments, we investigated whether LSA cosine similarities predict priming effects, in that higher cosine similarities are associated with shorter reaction times (RTs). Critically, we applied a pseudo-random procedure in generating the item material to ensure that we directly manipulated LSA cosines as an independent variable. We employed two lexical priming experiments with lexical decision tasks (LDTs). In Experiment 1 we presented participants with 200 different prime words, each paired with one unique target. We found a significant effect of cosine similarities on RTs. The same was true for Experiment 2, where we reversed the prime-target order (primes of Experiment 1 were targets in Experiment 2, and vice versa). The results of these experiments confirm that LSA cosine similarities can predict priming effects, supporting the view that they are psychologically relevant. The present study thereby provides evidence for qualifying LSA cosine similarities not only as a linguistic measure, but also as a cognitive similarity measure. However, it is also shown that other DSMs can outperform LSA as a predictor of priming effects.",
     "accessed": {
      "day": 3,
      "month": 4,
      "year": 2019
     },
     "author": [
      {
       "family": "Günther",
       "given": "Fritz"
      },
      {
       "family": "Dudschig",
       "given": "Carolin"
      },
      {
       "family": "Kaup",
       "given": "Barbara"
      }
     ],
     "container-title": "The Quarterly Journal of Experimental Psychology",
     "id": "undefined",
     "issue": "4",
     "issued": {
      "day": 2,
      "month": 4,
      "year": 2016
     },
     "note": "PMID: 25952009",
     "page": "626-653",
     "page-first": "626",
     "shortTitle": "Latent semantic analysis cosines as a cognitive similarity measure",
     "title": "Latent semantic analysis cosines as a cognitive similarity measure: Evidence from priming studies",
     "title-short": "Latent semantic analysis cosines as a cognitive similarity measure",
     "type": "article-journal",
     "volume": "69"
    }
   }
  },
  "colab": {
   "collapsed_sections": [],
   "include_colab_link": true,
   "name": "keywords-vis.ipynb",
   "provenance": [],
   "version": "0.3.2"
  },
  "kernelspec": {
   "display_name": "keywords-vis",
   "language": "python",
   "name": "keywords-vis"
  },
  "language_info": {
   "codemirror_mode": {
    "name": "ipython",
    "version": 3
   },
   "file_extension": ".py",
   "mimetype": "text/x-python",
   "name": "python",
   "nbconvert_exporter": "python",
   "pygments_lexer": "ipython3",
   "version": "3.6.5"
  }
 },
 "nbformat": 4,
 "nbformat_minor": 1
}
